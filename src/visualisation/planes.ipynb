{
 "cells": [
  {
   "cell_type": "markdown",
   "metadata": {},
   "source": [
    "# Datas "
   ]
  },
  {
   "cell_type": "markdown",
   "metadata": {},
   "source": [
    "- Source for airports locations: https://openflights.org/data.html (file airlines.dat)\n",
    "- Source for american airlines and flight scedules: https://www.transtats.bts.gov/DL_SelectFields.asp?Table_ID=236\n"
   ]
  },
  {
   "cell_type": "code",
   "execution_count": 1,
   "metadata": {},
   "outputs": [
    {
     "name": "stdout",
     "output_type": "stream",
     "text": [
      "sorted collection imported\n",
      "1\n",
      "2\n",
      "3\n",
      "4\n",
      "5\n",
      "6\n",
      "7\n",
      "8\n",
      "9\n",
      "10\n",
      "finished\n"
     ]
    }
   ],
   "source": [
    "from visuMultiStream import *\n",
    "print(\"1\")\n",
    "from intervals import *\n",
    "print(\"2\")\n",
    "from structure import *\n",
    "print(\"3\")\n",
    "from elemMSGraph import *\n",
    "print(\"4\")\n",
    "from multiLayers import *\n",
    "print(\"5\")\n",
    "from sortedcollection import *\n",
    "print(\"6\")\n",
    "from matrices import *\n",
    "print(\"7\")\n",
    "from random import *\n",
    "print(\"8\")\n",
    "import seaborn as sns\n",
    "print(\"9\")\n",
    "\n",
    "from tulip import tlp\n",
    "print(\"10\")\n",
    "import scipy.linalg\n",
    "print(\"finished\")"
   ]
  },
  {
   "cell_type": "markdown",
   "metadata": {},
   "source": [
    "Echelle de temps : 1 mois"
   ]
  },
  {
   "cell_type": "code",
   "execution_count": 12,
   "metadata": {},
   "outputs": [
    {
     "name": "stdout",
     "output_type": "stream",
     "text": [
      "44640\n"
     ]
    }
   ],
   "source": [
    "t0=0\n",
    "tend=24*60*31\n",
    "\n",
    "print(tend)\n",
    "\n",
    "interval=Interval(t0,tend)"
   ]
  },
  {
   "cell_type": "code",
   "execution_count": 3,
   "metadata": {},
   "outputs": [],
   "source": [
    "def convertToMinutes(day,hour,minutes):\n",
    "    return((day-1)*24*60+hour*60+minutes)\n",
    "\n",
    "\n",
    "\n",
    "def readAirports(airportl):\n",
    "    dicoAir={}\n",
    "    f=open(\"planes/airports.dat\",\"r\",encoding=\"utf8\")\n",
    "    #print(f)\n",
    "    lste=[]\n",
    "    for line in f:\n",
    "        line=line.replace(\"\\\"\",'')\n",
    "        tab=line.split(\",\")\n",
    "        ida=tab[4]\n",
    "        namea=tab[1]\n",
    "        country=tab[3]\n",
    "        #print(ida)\n",
    "        if (ida in dicoAir)==False and (ida in airportl):\n",
    "            lat=tab[6]\n",
    "            long=tab[7]\n",
    "            dicoAir[ida]=[namea,lat,long]\n",
    "            lste.append(NodeT(ida,IntervalList([interval])))\n",
    "    return(dicoAir,lste)\n",
    "    \n",
    "\n",
    "def readLinks():\n",
    "    f=open(\"planes/linksmonth.csv\",'r')\n",
    "    n=0\n",
    "    em=LinkList([])\n",
    "    careersl=[]\n",
    "    airportl=[]\n",
    "    airportPerLay={}\n",
    "    for line in f:\n",
    "        if n>0:\n",
    "            line=line.replace(\"\\\"\",'')\n",
    "            tab=line.split(\",\")\n",
    "            date=int(tab[0].split(\"-\")[2])\n",
    "            career=tab[1]\n",
    "            origin=tab[2]\n",
    "            dest=tab[3]\n",
    "            dept=int(tab[4][0]+tab[4][1])*60+int(tab[4][2]+tab[4][3])\n",
    "            if len(tab[5])>0:\n",
    "                arrival=int(tab[6][0]+tab[6][1])*60+int(tab[6][2]+tab[6][3])\n",
    "                inter=Interval((date-1)*24*60+dept,(date-1)*24*60+arrival)\n",
    "                if arrival<=dept:\n",
    "                    inter=Interval((date-1)*24*60+dept,(date)*24*60+arrival)\n",
    "                if not (career in careersl):\n",
    "                    careersl.append(career)\n",
    "                if not (origin in airportl):\n",
    "                    airportl.append(origin)\n",
    "                if not (dest in airportl):\n",
    "                    airportl.append(dest)\n",
    "                if (career in airportPerLay.keys())==False:\n",
    "                    airportPerLay[career]=[]\n",
    "                if not origin in airportPerLay[career]:\n",
    "                    airportPerLay[career].append(origin)\n",
    "                if not dest in airportPerLay[career]:\n",
    "                    airportPerLay[career].append(dest)\n",
    "                em.addLink(Link(IntervalList([inter]),NodeT(origin,IntervalList([interval])),[career],NodeT(dest,IntervalList([interval])),[career],directed=0),cond=0)\n",
    "        n=n+1\n",
    "    return(em,sorted(careersl),sorted(airportl),airportPerLay)\n",
    "\n",
    "    \n",
    "def readCarriers(carL):\n",
    "    f=open(\"planes/L_UNIQUE_CARRIERS.csv\",\"r\")\n",
    "    n=0\n",
    "    liste=[]\n",
    "    dicoCarreer={}\n",
    "    for line in f :\n",
    "        if n>0:\n",
    "            line=line.replace(\"\\\"\",'')\n",
    "            tab=line.split(\",\")\n",
    "            tab[-1]=tab[-1].rstrip(\"\\n\")\n",
    "            code=tab[0]\n",
    "            name=tab[1]\n",
    "            if (code in liste) == False and (code in carL)==True :\n",
    "                liste.append(code)\n",
    "                dicoCarreer[code]=name\n",
    "        n=n+1\n",
    "    comp=Aspect(\"carrier\",liste)\n",
    "    return(comp,dicoCarreer)"
   ]
  },
  {
   "cell_type": "markdown",
   "metadata": {},
   "source": [
    "# Principle :\n",
    "\n",
    "In the datasets, they are to many airports and carriers (not american and unused). So we begin to read the links to know which airports and carriers are used and we then read their datasets to collect their detailed informations (stored into dictionnaries)"
   ]
  },
  {
   "cell_type": "code",
   "execution_count": 4,
   "metadata": {},
   "outputs": [
    {
     "name": "stdout",
     "output_type": "stream",
     "text": [
      "extracting...\n",
      "layer ['9E']\n",
      "layer ['AA']\n",
      "layer ['AS']\n",
      "layer ['B6']\n",
      "layer ['DL']\n",
      "layer ['EV']\n",
      "layer ['F9']\n",
      "layer ['G4']\n",
      "layer ['HA']\n",
      "layer ['MQ']\n",
      "layer ['NK']\n",
      "layer ['OH']\n",
      "layer ['OO']\n",
      "layer ['UA']\n",
      "layer ['WN']\n",
      "layer ['YV']\n",
      "layer ['YX']\n"
     ]
    }
   ],
   "source": [
    "em,carL,airportl,airportperlay=readLinks()\n",
    "\n",
    "dicoAir,nodes=readAirports(airportl)\n",
    "\n",
    "laystr=LayerStruct([Aspect(\"compagnies\",carL)])\n",
    "listLay=[]\n",
    "\n",
    "carriers,dicoCarreer =readCarriers(carL)\n",
    "\n",
    "for l in carriers.giveElemLayer():\n",
    "    nl=NodeTList([])\n",
    "    for no in airportperlay[l]:\n",
    "        nl.addNodeT(NodeT(no,IntervalList([interval])))\n",
    "    listLay.append(Layer(laystr,[l],interval,nl))\n",
    "\n",
    "layers=LayerList(listLay)\n",
    "\n",
    "m=MultiStream(interval,laystr,layers,em)          \n",
    "\n",
    "multi=m.extractML()"
   ]
  },
  {
   "cell_type": "code",
   "execution_count": 11,
   "metadata": {},
   "outputs": [],
   "source": [
    "m2=m.cut(Interval(0,24*60))\n",
    "m2=m2.extractLayers([[\"G4\"]])\n",
    "m2.drawMS(\"avions.fig\")"
   ]
  },
  {
   "cell_type": "markdown",
   "metadata": {},
   "source": [
    "## Build the tulip file\n",
    "\n",
    "The differents layers corresponding to the different carriers are drawn in different colors. We build different subgraphs corresponding to each company.\n",
    "\n",
    "This is very useful for vizualisation (download tulip http://tulip.labri.fr/TulipDrupal/ ) to open the graph (double click on the graph on the bottom left and chose the \"geographic view\""
   ]
  },
  {
   "cell_type": "code",
   "execution_count": 5,
   "metadata": {},
   "outputs": [],
   "source": [
    "def makeGraph(m,airportl,carL,dicoAir,airportperlay):\n",
    "    graph=tlp.newGraph()\n",
    "    latitude=graph.getDoubleProperty(\"latitude\")\n",
    "    longitude=graph.getDoubleProperty(\"longitude\")\n",
    "    name = graph.getStringProperty(\"nameCity\")\n",
    "    code = graph.getStringProperty(\"code\")\n",
    "    couche = graph.getStringVectorProperty(\"compagnie\")\n",
    "    color = graph.getColorProperty(\"viewColor\")\n",
    "    k=len(carL)\n",
    "    colList=[(randint(0,255),randint(0,255),randint(0,255)) for i in range(k)]\n",
    "    for n in range(len(airportl)):\n",
    "        graph.addNode()\n",
    "        no=graph.nodes()[n]\n",
    "        code[no]=airportl[n]\n",
    "        listeAttributs=dicoAir[airportl[n]]\n",
    "        name[no]=listeAttributs[0]\n",
    "        latitude[no]=float(listeAttributs[1])\n",
    "        longitude[no]=float(listeAttributs[2])\n",
    "    n=0\n",
    "    for lay in m.giveLayers().giveLayers():\n",
    "        car=lay.giveLayerLabel()[0]\n",
    "        sub=graph.addSubGraph(car)\n",
    "        nliste=airportperlay[car]\n",
    "        for node1 in nliste :\n",
    "            no=graph.nodes()[airportl.index(node1)]\n",
    "            sub.addNode(no)\n",
    "        #print(car,len(sub.nodes()))\n",
    "    for e in m.giveLinks().giveListOfLinks():\n",
    "        n1=graph.nodes()[airportl.index(e.giveNodes()[0].giveNode())]\n",
    "        n2=graph.nodes()[airportl.index(e.giveNodes()[1].giveNode())]\n",
    "        graph.addEdge(n1,n2)\n",
    "        ed=graph.edges()[n]\n",
    "        n=n+1\n",
    "        couche[ed]=e.giveLabel()[2]\n",
    "        color[ed]=colList[carL.index(e.giveLabel()[2][0])]\n",
    "        sub=graph.subGraphs()[carL.index(e.giveLabel()[2][0])]\n",
    "        car=e.giveLabel()[2][0]\n",
    "        codenode=e.giveNodes()[0].giveNode()\n",
    "        n1=sub.nodes()[airportperlay[car].index(codenode)]\n",
    "        n2=sub.nodes()[airportperlay[e.giveLabel()[2][0]].index(e.giveNodes()[1].giveNode())]\n",
    "        sub.addEdge(ed)\n",
    "    tlp.saveGraph(graph,\"grapheplanes.tp\")\n",
    "    return(graph)\n",
    "\n",
    "graph=makeGraph(m,airportl,carL,dicoAir,airportperlay)"
   ]
  },
  {
   "cell_type": "markdown",
   "metadata": {},
   "source": [
    "We can then use the library \"tulip\" to compute classical measures: \n",
    "\n",
    "- page ranking: "
   ]
  },
  {
   "cell_type": "code",
   "execution_count": 6,
   "metadata": {},
   "outputs": [],
   "source": [
    "pagerank=graph.getDoubleProperty(\"pageRank\")\n",
    "params = tlp.getDefaultPluginParameters('Page Rank', graph)\n",
    "params[\"directed\"]=True\n",
    "\n",
    "success = graph.applyDoubleAlgorithm('Page Rank', pagerank, params)\n",
    "pr=[]\n",
    "for n in graph.getNodes():\n",
    "    pr.append(pagerank[n])"
   ]
  },
  {
   "cell_type": "markdown",
   "metadata": {},
   "source": [
    "- betweenness centrality:"
   ]
  },
  {
   "cell_type": "code",
   "execution_count": 7,
   "metadata": {},
   "outputs": [],
   "source": [
    "betweenness=graph.getDoubleProperty(\"betweeness\")\n",
    "params = tlp.getDefaultPluginParameters('Betweenness Centrality', graph)\n",
    "params[\"directed\"]=True\n",
    "\n",
    "success = graph.applyDoubleAlgorithm('Betweenness Centrality', betweenness, params)\n",
    "bt=[]\n",
    "for n in graph.getNodes():\n",
    "    bt.append(betweenness[n]) "
   ]
  },
  {
   "cell_type": "code",
   "execution_count": 8,
   "metadata": {},
   "outputs": [
    {
     "data": {
      "image/png": "[encoded data removed]",
      "text/plain": [
       "<Figure size 432x288 with 1 Axes>"
      ]
     },
     "metadata": {
      "needs_background": "light"
     },
     "output_type": "display_data"
    }
   ],
   "source": [
    "axes = plt.gca()\n",
    "plt.plot(bt,pr,'o')\n",
    "axes.set_ylabel('Page Rank')\n",
    "axes.set_xlabel('Betweenness centrality')\n",
    "plt.savefig(\"prVSbc.pdf\")\n",
    "plt.show()\n"
   ]
  },
  {
   "cell_type": "markdown",
   "metadata": {},
   "source": [
    "# Intrication\n",
    "\n",
    "We compute the Burt's matrix which is:\n",
    "\n",
    "$\\begin{pmatrix}\n",
    "P(1) & P(1|2) & P(1|3) & \\dots & P(1|n)\\\\\n",
    "P(2|1) & P(2) & P(2|3) & \\dots & P(2|n)\\\\\n",
    "\\vdots & \\vdots & \\ddots\\\\\n",
    "\\dots & \\dots & \\dots & \\dots & P(n)\n",
    "\\end{pmatrix}$\n",
    "\n",
    "$P(i)$ is the probability, taking a flight, that it exists in the compagny $C_i$.\n",
    "\n",
    "$P(i|j)$ is the probability, taking a flight in $c_j$, that $c_i$ has the same flight."
   ]
  },
  {
   "cell_type": "code",
   "execution_count": 13,
   "metadata": {},
   "outputs": [],
   "source": [
    "matintric=multi.computeIntricationMatrixBurt()"
   ]
  },
  {
   "cell_type": "code",
   "execution_count": 50,
   "metadata": {},
   "outputs": [
    {
     "data": {
      "image/png": "[encoded data removed]",
      "text/plain": [
       "<Figure size 432x288 with 2 Axes>"
      ]
     },
     "metadata": {
      "needs_background": "light"
     },
     "output_type": "display_data"
    }
   ],
   "source": [
    "lablist=multi.giveLayersLabels()\n",
    "sns_plot=sns.heatmap(np.transpose(matintric),cmap=\"YlGnBu\",xticklabels=lablist,yticklabels=lablist)\n",
    "fig = sns_plot.get_figure()\n",
    "fig.savefig(\"intricplanes.pdf\")\n",
    "plt.show()\n"
   ]
  },
  {
   "cell_type": "markdown",
   "metadata": {},
   "source": [
    "We compute its maximal left eigenvalue and the eigenvector associated. If the matrix isn't reductible (if we have all the nodes in the same connex component), this eigenvalue is unique and the eigenvector has all its coefficients of the same sign."
   ]
  },
  {
   "cell_type": "code",
   "execution_count": 51,
   "metadata": {},
   "outputs": [],
   "source": [
    "valp,vectp=valeurPropreMax(np.transpose(matintric),1000)"
   ]
  },
  {
   "cell_type": "markdown",
   "metadata": {},
   "source": [
    "We draw the eigenvector ordered:"
   ]
  },
  {
   "cell_type": "code",
   "execution_count": 12,
   "metadata": {},
   "outputs": [
    {
     "data": {
      "image/png": "[encoded data removed]",
      "text/plain": [
       "<Figure size 432x288 with 1 Axes>"
      ]
     },
     "metadata": {
      "needs_background": "light"
     },
     "output_type": "display_data"
    }
   ],
   "source": [
    "l=SortedCollection(iterable=lablist,key = lambda lab: vectp[lablist.index(lab)])\n",
    "vectpo,labo=l.listsSorted()\n",
    "\n",
    "plt.plot(labo,vectpo,'o')\n",
    "plt.savefig(\"intricscoresplanes.pdf\")\n",
    "plt.show()"
   ]
  },
  {
   "cell_type": "markdown",
   "metadata": {},
   "source": [
    " # Covariance"
   ]
  },
  {
   "cell_type": "code",
   "execution_count": 67,
   "metadata": {},
   "outputs": [
    {
     "name": "stdout",
     "output_type": "stream",
     "text": [
      "N= 2777\n"
     ]
    }
   ],
   "source": [
    "matcov=multi.computeCovariance()"
   ]
  },
  {
   "cell_type": "code",
   "execution_count": 68,
   "metadata": {},
   "outputs": [
    {
     "data": {
      "image/png": "[encoded data removed]",
      "text/plain": [
       "<Figure size 432x288 with 2 Axes>"
      ]
     },
     "metadata": {
      "needs_background": "light"
     },
     "output_type": "display_data"
    }
   ],
   "source": [
    "lablist=multi.giveLayersLabels()\n",
    "sns_plot=sns.heatmap(np.transpose(matcov),cmap=\"YlGnBu\",xticklabels=lablist,yticklabels=lablist)\n",
    "fig = sns_plot.get_figure()\n",
    "fig.savefig(\"matcov.pdf\")\n",
    "plt.show()"
   ]
  },
  {
   "cell_type": "code",
   "execution_count": 112,
   "metadata": {},
   "outputs": [
    {
     "name": "stdout",
     "output_type": "stream",
     "text": [
      "0.24319570569859572\n"
     ]
    }
   ],
   "source": [
    "valpcov,vectpcov=valeurPropreMax(np.transpose(matcov),1000)\n",
    "print(valpcov)"
   ]
  },
  {
   "cell_type": "code",
   "execution_count": 70,
   "metadata": {},
   "outputs": [
    {
     "data": {
      "image/png": "[encoded data removed]",
      "text/plain": [
       "<Figure size 432x288 with 1 Axes>"
      ]
     },
     "metadata": {
      "needs_background": "light"
     },
     "output_type": "display_data"
    },
    {
     "name": "stdout",
     "output_type": "stream",
     "text": [
      "0.24319570569859572\n"
     ]
    }
   ],
   "source": [
    "l=SortedCollection(iterable=lablist,key = lambda lab: vectpcov[lablist.index(lab)])\n",
    "vectcova,labo2=l.listsSorted()\n",
    "\n",
    "plt.plot(labo2,vectcova,'o')\n",
    "plt.savefig(\"covscoresplanes.pdf\")\n",
    "plt.show()\n",
    "\n",
    "print(valpcov)"
   ]
  },
  {
   "cell_type": "markdown",
   "metadata": {},
   "source": [
    "## Test: covariance valeur propre minimale"
   ]
  },
  {
   "cell_type": "code",
   "execution_count": 114,
   "metadata": {},
   "outputs": [
    {
     "name": "stdout",
     "output_type": "stream",
     "text": [
      "[0.24319571 0.1866247  0.15512387 0.14576064 0.0103496  0.11018582\n",
      " 0.10335729 0.08490164 0.03376017 0.0381942  0.07666925 0.04733486\n",
      " 0.05253715 0.06799162 0.06005574 0.06082589 0.06404466] [[-0.22073867  0.11121548 -0.21346488  0.18025907 -0.01415065  0.25559651\n",
      "   0.20349737  0.16868788 -0.2242464  -0.18197577 -0.02151906  0.12714342\n",
      "   0.07560632  0.21496307 -0.65654094 -0.37363192  0.05334766]\n",
      " [-0.02197596 -0.10642887  0.37821769  0.40643746 -0.00298469  0.18383982\n",
      "  -0.67375776  0.23898574 -0.05995859 -0.08106763  0.27862009  0.03377809\n",
      "  -0.13328082 -0.10498746 -0.12669186  0.03184258 -0.0170939 ]\n",
      " [ 0.01878084 -0.02488859 -0.01239686  0.11069212  0.08170232 -0.19138779\n",
      "  -0.03898154 -0.23825417 -0.43435268  0.05735193 -0.00759842  0.52011562\n",
      "  -0.37057729  0.23870631  0.22119348 -0.07755114  0.41623766]\n",
      " [ 0.04324019 -0.01192086 -0.02191426  0.1602092  -0.02870532  0.01684608\n",
      "   0.05210875 -0.14725608 -0.23986773  0.05381958 -0.07734905 -0.38229699\n",
      "  -0.47982582  0.44230166 -0.02367774  0.15012559 -0.53367092]\n",
      " [-0.08617365  0.20222266 -0.35647209  0.72970574  0.00918433 -0.17758133\n",
      "   0.20477508 -0.04172008 -0.0182537   0.04190686  0.11533823 -0.17200014\n",
      "   0.01598122 -0.3666059   0.17808868  0.05021671  0.05454799]\n",
      " [-0.16609728 -0.03319855  0.2219108  -0.12055915 -0.00925756  0.0326882\n",
      "   0.21841617 -0.27235581 -0.19680376 -0.70607318  0.0555807   0.06133173\n",
      "  -0.16627036 -0.39876898 -0.04141205  0.19435738 -0.11924337]\n",
      " [ 0.10736238  0.15287404  0.16101553  0.01456089 -0.01511944 -0.27215551\n",
      "   0.013723    0.54201732 -0.20345808 -0.00118689 -0.66540721  0.03799904\n",
      "  -0.14913041 -0.23718835 -0.0492608   0.05211974 -0.03805194]\n",
      " [ 0.10571059 -0.35131952 -0.24339305 -0.24668753 -0.0302174  -0.17743423\n",
      "   0.15658339  0.48525329 -0.35309217  0.05090409  0.51968147 -0.03336405\n",
      "  -0.09088799 -0.1488406   0.07211693 -0.06503038 -0.12094874]\n",
      " [ 0.00288777 -0.01593738 -0.00457274  0.02334869 -0.99415169 -0.02585562\n",
      "  -0.00538717 -0.03346743  0.02188717 -0.00167437 -0.00719202  0.05261466\n",
      "  -0.03085248  0.018681    0.0209898  -0.00810816  0.06250881]\n",
      " [-0.13080882 -0.0895601   0.14627603 -0.05031645 -0.01529315  0.2354706\n",
      "  -0.02820573 -0.19769926 -0.18413797  0.22001759 -0.14869431 -0.11183721\n",
      "  -0.05481595 -0.33238957  0.26190109 -0.71780745 -0.20277907]\n",
      " [ 0.07876284  0.07096741  0.07709599  0.17141158 -0.01626374 -0.12118716\n",
      "   0.01734143 -0.01272654 -0.12363623 -0.03245509  0.02730343  0.52495133\n",
      "   0.4861194   0.13060929  0.15885659  0.00964392 -0.60552694]\n",
      " [-0.01608087 -0.10501365  0.06182558  0.0461638  -0.02670097  0.26939261\n",
      "  -0.02403365  0.03606106 -0.53848599 -0.10657364 -0.14276111 -0.35682063\n",
      "   0.49844592  0.18179536  0.26357219  0.19549591  0.26340667]\n",
      " [-0.65894791  0.51518744 -0.18200168 -0.29383282 -0.02188414 -0.09811082\n",
      "  -0.30468263  0.09561782 -0.12593842  0.05166598  0.1078663  -0.02193309\n",
      "  -0.02046418  0.02427669  0.14784693  0.09054375 -0.08436362]\n",
      " [-0.13491643  0.10163256  0.55979244  0.06535503  0.0026139  -0.58018443\n",
      "   0.19897885 -0.01132363  0.00760365 -0.0164538   0.22422832 -0.27146911\n",
      "   0.14732146  0.2102012  -0.08472049 -0.25751693  0.11749413]\n",
      " [ 0.57296667  0.69417203  0.11027424 -0.12571821 -0.02364775  0.21552126\n",
      "   0.05237939 -0.00672379 -0.1634754   0.01150947  0.26288292 -0.04729538\n",
      "  -0.05033877 -0.07671773 -0.00354169 -0.06308103  0.03819883]\n",
      " [-0.07669357 -0.05511532  0.15129402 -0.06437262 -0.01961974 -0.03911582\n",
      "   0.04908084 -0.2951834  -0.3013156   0.57873165  0.0340476   0.04853586\n",
      "   0.10174295 -0.31736684 -0.46373711  0.34121264 -0.0283132 ]\n",
      " [-0.28405015  0.04184988  0.36951457  0.10571642 -0.00101309  0.43383443\n",
      "   0.4967693   0.30445387  0.14735344  0.22894151  0.10569473  0.18215318\n",
      "  -0.16380702  0.07750644  0.23349212  0.18721134  0.03573285]]\n",
      "esp -0.09518570316602452 lambda 0.24319570569859628\n",
      "esp -0.05678873208199789 lambda 0.1866247034575227\n",
      "esp 0.043795924748531265 lambda 0.1551238696324863\n",
      "esp -0.15540322422577263 lambda 0.14576063828751887\n",
      "esp 0.05933154357883245 lambda 0.010349596190419101\n",
      "esp -0.17812896156856475 lambda 0.11018582371789686\n",
      "esp -0.04613725449556406 lambda 0.1033572925453856\n",
      "esp -0.02652501948243282 lambda 0.08490164007115683\n",
      "esp -0.14733099500156452 lambda 0.03376017066081358\n",
      "esp -0.09181258966502706 lambda 0.0381942026795776\n",
      "esp 0.15379662981801154 lambda 0.0766692455817465\n",
      "esp 0.2227969330981017 lambda 0.04733486404215642\n",
      "esp -0.01220883473877972 lambda 0.05253715262447685\n",
      "esp 0.05645324293334121 lambda 0.06799161586856582\n",
      "esp 0.14641337192184445 lambda 0.060055737956486756\n",
      "esp -0.11107262518034489 lambda 0.06082589390142161\n",
      "esp 0.19843548230328936 lambda 0.06404465664956584\n",
      "esperance globale= 1.7972632337054375\n"
     ]
    }
   ],
   "source": [
    "vp,vectpro=np.linalg.eig(matcov)\n",
    "\n",
    "taux=[matintric[i][i] for i in range(len(matcov))]\n",
    "\n",
    "print(vp,vectpro)\n",
    "\n",
    "for i in range(len(vectpro)):\n",
    "    esp=0\n",
    "    for j in range(len(vectpro[i])):\n",
    "        esp=esp+vectpro[i][j]*taux[j]\n",
    "    print(\"esp\",esp, \"lambda\", vp[i])\n",
    "    \n",
    "esp_glob=0\n",
    "for i in range(len(taux)):\n",
    "    esp_glob=esp_glob+taux[i]\n",
    "print(\"esperance globale=\",esp_glob)\n",
    "print(\"variance globale = \", )"
   ]
  },
  {
   "cell_type": "markdown",
   "metadata": {},
   "source": [
    "## Tests precision"
   ]
  },
  {
   "cell_type": "code",
   "execution_count": 73,
   "metadata": {},
   "outputs": [],
   "source": [
    "matprec=np.linalg.inv(matcov)\n",
    "#for i in range(len(matprec)):\n",
    "#    matprec[i][i]=0"
   ]
  },
  {
   "cell_type": "code",
   "execution_count": 74,
   "metadata": {},
   "outputs": [
    {
     "data": {
      "image/png": "[encoded data removed]",
      "text/plain": [
       "<Figure size 432x288 with 2 Axes>"
      ]
     },
     "metadata": {
      "needs_background": "light"
     },
     "output_type": "display_data"
    }
   ],
   "source": [
    "lablist=multi.giveLayersLabels()\n",
    "sns_plot=sns.heatmap(np.transpose(matprec),cmap=\"YlGnBu\",xticklabels=lablist,yticklabels=lablist)\n",
    "fig = sns_plot.get_figure()\n",
    "fig.savefig(\"matcov.pdf\")\n",
    "plt.show()"
   ]
  },
  {
   "cell_type": "code",
   "execution_count": 113,
   "metadata": {},
   "outputs": [
    {
     "name": "stdout",
     "output_type": "stream",
     "text": [
      "0.01034959619041909\n"
     ]
    }
   ],
   "source": [
    "valpprec,vectpprec=valeurPropreMax(np.transpose(matprec),1000)\n",
    "print(1/valpprec)"
   ]
  },
  {
   "cell_type": "code",
   "execution_count": 76,
   "metadata": {},
   "outputs": [
    {
     "data": {
      "image/png": "[encoded data removed]",
      "text/plain": [
       "<Figure size 432x288 with 1 Axes>"
      ]
     },
     "metadata": {
      "needs_background": "light"
     },
     "output_type": "display_data"
    },
    {
     "name": "stdout",
     "output_type": "stream",
     "text": [
      "96.62212724064808\n"
     ]
    }
   ],
   "source": [
    "l=SortedCollection(iterable=lablist,key = lambda lab: vectpprec[lablist.index(lab)])\n",
    "\n",
    "\n",
    "vectcova,labo2=l.listsSorted()\n",
    "\n",
    "plt.plot(labo2,vectcova,'o')\n",
    "plt.savefig(\"precscoresplanes.pdf\")\n",
    "plt.show()\n",
    "\n",
    "print(valpprec)"
   ]
  },
  {
   "cell_type": "markdown",
   "metadata": {},
   "source": [
    "## Next VP"
   ]
  },
  {
   "cell_type": "code",
   "execution_count": 52,
   "metadata": {},
   "outputs": [
    {
     "name": "stdout",
     "output_type": "stream",
     "text": [
      "[[-8.14812670e+01  9.65999986e-01  1.65367737e+00  1.99294205e-03\n",
      "  -2.43131150e+00  2.13384579e+00  1.15146760e+00  1.40298318e+00\n",
      "   1.13825022e+00  8.42079229e-02  1.01714428e+00  1.20518569e+00\n",
      "  -1.50964027e+00  1.23161327e+00  1.18167083e+00  6.53250207e-01\n",
      "  -2.77769435e+00]\n",
      " [ 9.65999986e-01 -8.70277350e+01  4.77929834e-01  2.41539872e-01\n",
      "  -2.91756133e-01  1.45801989e+00  1.81616399e-01  1.65767003e+00\n",
      "   2.07563893e-01 -6.78075359e-01 -5.69091891e-01 -6.03917993e-01\n",
      "   8.63381856e-01 -8.39597389e-01  8.74604019e-01 -1.21146528e-01\n",
      "  -8.01434930e-01]\n",
      " [ 1.65367737e+00  4.77929834e-01 -7.64106519e+01  4.30273108e-01\n",
      "  -1.08717932e+00  1.17208281e+00  1.63660122e+00  2.41814076e+00\n",
      "  -6.61493858e+00  1.25456708e+00  1.20632767e+00  1.68933292e+00\n",
      "   1.07262819e+00 -1.68288474e+00  1.26163450e+00  1.78005489e+00\n",
      "   9.40007286e-01]\n",
      " [ 1.99294205e-03  2.41539872e-01  4.30273108e-01 -7.90384851e+01\n",
      "  -5.22960041e-01  6.87986192e-01  1.16224296e+00  2.10485572e+00\n",
      "   2.11515742e+00  1.13837177e+00 -1.77341168e+00  1.60205365e+00\n",
      "   1.52784216e+00  3.16029003e-01  8.22948769e-01  1.28006611e+00\n",
      "  -4.27271099e-01]\n",
      " [-2.43131150e+00 -2.91756133e-01 -1.08717932e+00 -5.22960041e-01\n",
      "  -8.77277470e+01  6.43166840e-01  8.42365183e-02  1.21896501e+00\n",
      "  -9.42672042e-01  1.31999237e+00 -1.47683073e+00  1.05250415e+00\n",
      "  -1.01995668e-01  3.85138314e-01  4.41779907e-01  8.82794027e-01\n",
      "   3.89054106e-02]\n",
      " [ 2.13384579e+00  1.45801989e+00  1.17208281e+00  6.87986192e-01\n",
      "   6.43166840e-01 -7.66760276e+01  1.25009918e+00  1.17386767e+00\n",
      "   7.50203876e-01 -2.20606039e+00  7.23040366e-01  1.86945780e+00\n",
      "  -5.23415325e-01 -1.50843116e+00  1.17278978e+00 -4.46402239e+00\n",
      "  -3.51369623e+00]\n",
      " [ 1.15146760e+00  1.81616399e-01  1.63660122e+00  1.16224296e+00\n",
      "   8.42365183e-02  1.25009918e+00 -8.37343786e+01  1.40617645e+00\n",
      "   1.22153194e+00  1.09990130e+00 -2.33023953e-01  1.52316005e+00\n",
      "   5.40561342e-01 -1.58712443e+00 -6.08268995e-01  1.36821581e+00\n",
      "  -2.81456149e-01]\n",
      " [ 1.40298318e+00  1.65767003e+00  2.41814076e+00  2.10485572e+00\n",
      "   1.21896501e+00  1.17386767e+00  1.40617645e+00 -8.35563988e+01\n",
      "   2.35502709e+00  2.03756095e+00  9.47735380e-01  2.95293142e+00\n",
      "   2.18833581e+00  7.70915102e-01  2.53132959e+00  2.21932829e+00\n",
      "   3.14568925e-01]\n",
      " [ 1.13825022e+00  2.07563893e-01 -6.61493858e+00  2.11515742e+00\n",
      "  -9.42672042e-01  7.50203876e-01  1.22153194e+00  2.35502709e+00\n",
      "  -9.35937876e-01  1.17766643e+00  1.33070986e+00  1.85571114e+00\n",
      "   1.86735477e+00 -3.63661572e-01  2.01423222e+00  1.44451266e+00\n",
      "   3.35771602e-01]\n",
      " [ 8.42079229e-02 -6.78075359e-01  1.25456708e+00  1.13837177e+00\n",
      "   1.31999237e+00 -2.20606039e+00  1.09990130e+00  2.03756095e+00\n",
      "   1.17766643e+00 -8.05980728e+01  2.71680657e-01  6.81795792e-01\n",
      "   2.93351757e-01  4.43865009e-01  1.59839672e+00  1.13448370e+00\n",
      "  -1.10366023e+00]\n",
      " [ 1.01714428e+00 -5.69091891e-01  1.20632767e+00 -1.77341168e+00\n",
      "  -1.47683073e+00  7.23040366e-01 -2.33023953e-01  9.47735380e-01\n",
      "   1.33070986e+00  2.71680657e-01 -7.89584641e+01  1.02967886e+00\n",
      "   8.96179291e-01 -1.53441063e+00 -6.69260655e-01  6.69032788e-01\n",
      "   6.02739152e-02]\n",
      " [ 1.20518569e+00 -6.03917993e-01  1.68933292e+00  1.60205365e+00\n",
      "   1.05250415e+00  1.86945780e+00  1.52316005e+00  2.95293142e+00\n",
      "   1.85571114e+00  6.81795792e-01  1.02967886e+00 -7.58487278e+01\n",
      "   1.80886896e+00  1.51622732e+00  1.84703719e+00  1.71784734e+00\n",
      "  -2.87946055e+00]\n",
      " [-1.50964027e+00  8.63381856e-01  1.07262819e+00  1.52784216e+00\n",
      "  -1.01995668e-01 -5.23415325e-01  5.40561342e-01  2.18833581e+00\n",
      "   1.86735477e+00  2.93351757e-01  8.96179291e-01  1.80886896e+00\n",
      "  -9.01410064e+01 -5.69014960e-01  1.04043292e+00  7.90026095e-01\n",
      "  -5.44934547e-01]\n",
      " [ 1.23161327e+00 -8.39597389e-01 -1.68288474e+00  3.16029003e-01\n",
      "   3.85138314e-01 -1.50843116e+00 -1.58712443e+00  7.70915102e-01\n",
      "  -3.63661572e-01  4.43865009e-01 -1.53441063e+00  1.51622732e+00\n",
      "  -5.69014960e-01 -8.62925657e+01  3.24783172e-01 -1.16964432e+00\n",
      "  -1.88475998e+00]\n",
      " [ 1.18167083e+00  8.74604019e-01  1.26163450e+00  8.22948769e-01\n",
      "   4.41779907e-01  1.17278978e+00 -6.08268995e-01  2.53132959e+00\n",
      "   2.01423222e+00  1.59839672e+00 -6.69260655e-01  1.84703719e+00\n",
      "   1.04043292e+00  3.24783172e-01 -9.00337893e+01  1.41284532e+00\n",
      "   1.55233309e-01]\n",
      " [ 6.53250207e-01 -1.21146528e-01  1.78005489e+00  1.28006611e+00\n",
      "   8.82794027e-01 -4.46402239e+00  1.36821581e+00  2.21932829e+00\n",
      "   1.44451266e+00  1.13448370e+00  6.69032788e-01  1.71784734e+00\n",
      "   7.90026095e-01 -1.16964432e+00  1.41284532e+00 -7.65957843e+01\n",
      "   3.56184960e-01]\n",
      " [-2.77769435e+00 -8.01434930e-01  9.40007286e-01 -4.27271099e-01\n",
      "   3.89054106e-02 -3.51369623e+00 -2.81456149e-01  3.14568925e-01\n",
      "   3.35771602e-01 -1.10366023e+00  6.02739152e-02 -2.87946055e+00\n",
      "  -5.44934547e-01 -1.88475998e+00  1.55233309e-01  3.56184960e-01\n",
      "  -8.51713022e+01]]\n"
     ]
    },
    {
     "data": {
      "image/png": "[encoded data removed]",
      "text/plain": [
       "<Figure size 432x288 with 2 Axes>"
      ]
     },
     "metadata": {
      "needs_background": "light"
     },
     "output_type": "display_data"
    }
   ],
   "source": [
    "matprec2=matprec-valpprec*np.eye(17)\n",
    "print(matprec2)\n",
    "\n",
    "lablist=multi.giveLayersLabels()\n",
    "sns_plot=sns.heatmap(np.transpose(matprec2),cmap=\"YlGnBu\",xticklabels=lablist,yticklabels=lablist)\n",
    "fig = sns_plot.get_figure()\n",
    "fig.savefig(\"matcov.pdf\")\n",
    "plt.show()\n"
   ]
  },
  {
   "cell_type": "code",
   "execution_count": 23,
   "metadata": {},
   "outputs": [],
   "source": [
    "valpp2,vectpp2=valeurPropreMax(np.transpose(matprec2),1000)"
   ]
  },
  {
   "cell_type": "code",
   "execution_count": 24,
   "metadata": {},
   "outputs": [
    {
     "data": {
      "image/png": "[encoded data removed]",
      "text/plain": [
       "<Figure size 432x288 with 1 Axes>"
      ]
     },
     "metadata": {
      "needs_background": "light"
     },
     "output_type": "display_data"
    },
    {
     "name": "stdout",
     "output_type": "stream",
     "text": [
      "189.13233976993962\n"
     ]
    }
   ],
   "source": [
    "l=SortedCollection(iterable=lablist,key = lambda lab: vectpp2[lablist.index(lab)])\n",
    "\n",
    "\n",
    "vectcova,labo2=l.listsSorted()\n",
    "\n",
    "plt.plot(labo2,vectcova,'o')\n",
    "#plt.savefig(\"precscoresplanes.pdf\")\n",
    "plt.show()\n",
    "\n",
    "print(valpp2+valpprec)"
   ]
  },
  {
   "cell_type": "markdown",
   "metadata": {},
   "source": [
    "# Random walks"
   ]
  },
  {
   "cell_type": "markdown",
   "metadata": {},
   "source": [
    "A step: to go on, a passenger will chose among all the possibles links he can take. Each link corresponds to a company and a destination.\n",
    "\n",
    "For instance, from `['Montgomery Regional (Dannelly Field) Airport', '32.30059814', '-86.39399719']`\n",
    "we can reach with the same probability:\n",
    "```\n",
    "['Hartsfield Jackson Atlanta International Airport', '33.6367', '-84.428101'] with Endeavor Air Inc.\n",
    "['Hartsfield Jackson Atlanta International Airport', '33.6367', '-84.428101'] with SkyWest Airlines Inc.\n",
    "['Ronald Reagan Washington National Airport', '38.8521', '-77.037697'] with PSA Airlines Inc.\n",
    "['Dallas Fort Worth International Airport', '32.896801', '-97.038002'] with Envoy Air\n",
    "```\n"
   ]
  },
  {
   "cell_type": "code",
   "execution_count": 25,
   "metadata": {},
   "outputs": [
    {
     "data": {
      "text/plain": [
       "('MSP', 471, 'OO', False)"
      ]
     },
     "execution_count": 25,
     "metadata": {},
     "output_type": "execute_result"
    }
   ],
   "source": [
    "def step(pos0,airportl,m,t,prints=False):\n",
    "    if prints==True:\n",
    "        print(dicoAir[pos0])\n",
    "    bloque=False\n",
    "    possibleDest={}\n",
    "    listDest=[]\n",
    "    car=\"none\"\n",
    "    for link in m.giveLinks().giveListOfLinks():\n",
    "        if link.giveNodes()[0].giveNode()==pos0:\n",
    "            dest=link.giveNodes()[1].giveNode()\n",
    "            if not dest in listDest:\n",
    "                listDest.append(dest)\n",
    "                possibleDest[dest]=[]\n",
    "            possibleDest[dest].append(link)\n",
    "            #print(link.giveLabel())\n",
    "            #print(dicoAir[(link.giveLabel()[1])],dicoCarreer[link.giveLabel()[2][0]])\n",
    "    if len(listDest)==0:\n",
    "        bloque=True\n",
    "        pos1=pos0\n",
    "        print(\"no neighbours\")\n",
    "        t1=t\n",
    "    else:\n",
    "        #print(\"----------------------------\")\n",
    "        li=randint(0,len(listDest)-1)\n",
    "        operListe=possibleDest[listDest[li]]\n",
    "        link0i=randint(0,len(operListe)-1)\n",
    "        link0=operListe[link0i]\n",
    "        #link0.printLink()\n",
    "        #print(link0.giveLabel())\n",
    "        pos1=link0.giveNodes()[1].giveNode()\n",
    "        intervalsL=link0.giveIntervals()\n",
    "        i=0\n",
    "        car=link0.giveLabel()[2][0]\n",
    "        while i<len(intervalsL) and intervalsL[i].begining()<t :\n",
    "            i=i+1\n",
    "        if i==len(intervalsL):\n",
    "            bloque=True\n",
    "            t1=t\n",
    "            print(\"timeout\")\n",
    "        else:\n",
    "            t1=intervalsL[i].end()\n",
    "    return(pos1,t1,car,bloque)\n",
    "\n",
    "pos0=airportl[randint(0,len(airportl)-1)]\n",
    "step(pos0,airportl,m,0)"
   ]
  },
  {
   "cell_type": "markdown",
   "metadata": {},
   "source": [
    "From that, we compute the random walk: "
   ]
  },
  {
   "cell_type": "code",
   "execution_count": 26,
   "metadata": {},
   "outputs": [
    {
     "name": "stdout",
     "output_type": "stream",
     "text": [
      "TXK 0\n",
      "['Texarkana Regional Webb Field', '33.45370101928711', '-93.99099731445312']\n",
      "DFW 465\n",
      "['Dallas Fort Worth International Airport', '32.896801', '-97.038002']\n",
      "LEX 951\n",
      "['Blue Grass Airport', '38.0364990234375', '-84.60590362548828']\n",
      "IAH 1975\n",
      "['George Bush Intercontinental Houston Airport', '29.984399795532227', '-95.34140014648438']\n",
      "BNA 2194\n",
      "['Nashville International Airport', '36.1245002746582', '-86.6781997680664']\n",
      "MSY 2390\n",
      "['Louis Armstrong New Orleans International Airport', '29.99340057373047', '-90.25800323486328']\n",
      "IAH 6697\n",
      "['George Bush Intercontinental Houston Airport', '29.984399795532227', '-95.34140014648438']\n",
      "STL 7172\n",
      "['St Louis Lambert International Airport', '38.748697', '-90.370003']\n",
      "PBI 8035\n",
      "['Palm Beach International Airport', '26.68320083618164', '-80.09559631347656']\n",
      "timeout\n",
      "MSP 0\n",
      "['Minneapolis-St Paul International/Wold-Chamberlain Airport', '44.882', '-93.221802']\n",
      "AUS 1255\n",
      "['Austin Bergstrom International Airport', '30.194499969482422', '-97.6698989868164']\n",
      "ORD 6975\n",
      "[\"Chicago O'Hare International Airport\", '41.9786', '-87.9048']\n",
      "LAX 7136\n",
      "['Los Angeles International Airport', '33.94250107', '-118.4079971']\n",
      "EWR 8071\n",
      "['Newark Liberty International Airport', '40.692501068115234', '-74.168701171875']\n",
      "timeout\n",
      "MHT 0\n",
      "['Manchester-Boston Regional Airport', '42.932598', '-71.435699']\n",
      "MCO 695\n",
      "['Orlando International Airport', '28.429399490356445', '-81.30899810791016']\n",
      "GSO 2249\n",
      "['Piedmont Triad International Airport', '36.097801208496094', '-79.93730163574219']\n",
      "DTW 6873\n",
      "['Detroit Metropolitan Wayne County Airport', '42.212398529052734', '-83.35340118408203']\n",
      "timeout\n",
      "TYS 0\n",
      "['McGhee Tyson Airport', '35.81100082', '-83.9940033']\n",
      "MCO 5540\n",
      "['Orlando International Airport', '28.429399490356445', '-81.30899810791016']\n",
      "IAD 6423\n",
      "['Washington Dulles International Airport', '38.94449997', '-77.45580292']\n",
      "PIT 6576\n",
      "['Pittsburgh International Airport', '40.49150085', '-80.23290253']\n",
      "ORD 6655\n",
      "[\"Chicago O'Hare International Airport\", '41.9786', '-87.9048']\n",
      "CHS 8493\n",
      "['Charleston Air Force Base-International Airport', '32.89860153', '-80.04049683']\n",
      "ORD 9363\n",
      "[\"Chicago O'Hare International Airport\", '41.9786', '-87.9048']\n",
      "CLT 9667\n",
      "['Charlotte Douglas International Airport', '35.2140007019043', '-80.94309997558594']\n",
      "timeout\n",
      "AVP 0\n",
      "['Wilkes Barre Scranton International Airport', '41.338500976599995', '-75.72339630130001']\n",
      "ORD 549\n",
      "[\"Chicago O'Hare International Airport\", '41.9786', '-87.9048']\n",
      "ATL 1080\n",
      "['Hartsfield Jackson Atlanta International Airport', '33.6367', '-84.428101']\n",
      "ALB 1372\n",
      "['Albany International Airport', '42.74829864501953', '-73.80169677734375']\n",
      "DTW 2324\n",
      "['Detroit Metropolitan Wayne County Airport', '42.212398529052734', '-83.35340118408203']\n",
      "PBI 2502\n",
      "['Palm Beach International Airport', '26.68320083618164', '-80.09559631347656']\n",
      "CMH 5389\n",
      "['John Glenn Columbus International Airport', '39.998001', '-82.891899']\n",
      "LGA 5534\n",
      "['La Guardia Airport', '40.77719879', '-73.87259674']\n",
      "GSO 6783\n",
      "['Piedmont Triad International Airport', '36.097801208496094', '-79.93730163574219']\n",
      "EWR 10545\n",
      "['Newark Liberty International Airport', '40.692501068115234', '-74.168701171875']\n",
      "CAK 11144\n",
      "['Akron Canton Regional Airport', '40.916099548339844', '-81.44219970703125']\n",
      "MCO 11420\n",
      "['Orlando International Airport', '28.429399490356445', '-81.30899810791016']\n",
      "MHT 12195\n",
      "['Manchester-Boston Regional Airport', '42.932598', '-71.435699']\n",
      "DTW 12654\n",
      "['Detroit Metropolitan Wayne County Airport', '42.212398529052734', '-83.35340118408203']\n",
      "timeout\n",
      "AZO 0\n",
      "['Kalamazoo Battle Creek International Airport', '42.234901428222656', '-85.5521011352539']\n",
      "MSP 466\n",
      "['Minneapolis-St Paul International/Wold-Chamberlain Airport', '44.882', '-93.221802']\n",
      "MIA 1008\n",
      "['Miami International Airport', '25.79319953918457', '-80.29060363769531']\n",
      "EWR 7197\n",
      "['Newark Liberty International Airport', '40.692501068115234', '-74.168701171875']\n",
      "BGR 9330\n",
      "['Bangor International Airport', '44.80739974975586', '-68.8281021118164']\n",
      "DCA 9619\n",
      "['Ronald Reagan Washington National Airport', '38.8521', '-77.037697']\n",
      "ALB 10057\n",
      "['Albany International Airport', '42.74829864501953', '-73.80169677734375']\n",
      "timeout\n",
      "MSP 0\n",
      "['Minneapolis-St Paul International/Wold-Chamberlain Airport', '44.882', '-93.221802']\n",
      "ASE 839\n",
      "['Aspen-Pitkin Co/Sardy Field', '39.22320175', '-106.8690033']\n",
      "MSP 1124\n",
      "['Minneapolis-St Paul International/Wold-Chamberlain Airport', '44.882', '-93.221802']\n",
      "OKC 2762\n",
      "['Will Rogers World Airport', '35.39310073852539', '-97.60070037841797']\n",
      "SLC 3508\n",
      "['Salt Lake City International Airport', '40.78839874267578', '-111.97799682617188']\n",
      "IDA 3621\n",
      "['Idaho Falls Regional Airport', '43.514599', '-112.070999']\n",
      "LAS 4986\n",
      "['McCarran International Airport', '36.08010101', '-115.1520004']\n",
      "TUL 5554\n",
      "['Tulsa International Airport', '36.19839859008789', '-95.88809967041016']\n",
      "STL 6390\n",
      "['St Louis Lambert International Airport', '38.748697', '-90.370003']\n",
      "CLE 7035\n",
      "['Cleveland Hopkins International Airport', '41.4117012024', '-81.8498001099']\n",
      "DCA 7669\n",
      "['Ronald Reagan Washington National Airport', '38.8521', '-77.037697']\n",
      "SLC 8384\n",
      "['Salt Lake City International Airport', '40.78839874267578', '-111.97799682617188']\n",
      "FLL 8953\n",
      "['Fort Lauderdale Hollywood International Airport', '26.072599', '-80.152702']\n",
      "MSP 9640\n",
      "['Minneapolis-St Paul International/Wold-Chamberlain Airport', '44.882', '-93.221802']\n",
      "INL 10702\n",
      "['Falls International Airport', '48.566200256347656', '-93.4030990600586']\n",
      "MSP 10808\n",
      "['Minneapolis-St Paul International/Wold-Chamberlain Airport', '44.882', '-93.221802']\n",
      "ATW 10954\n",
      "['Appleton International Airport', '44.258098602299995', '-88.5190963745']\n",
      "timeout\n",
      "DTW 0\n",
      "['Detroit Metropolitan Wayne County Airport', '42.212398529052734', '-83.35340118408203']\n",
      "IAD 710\n",
      "['Washington Dulles International Airport', '38.94449997', '-77.45580292']\n",
      "CMH 841\n",
      "['John Glenn Columbus International Airport', '39.998001', '-82.891899']\n",
      "EWR 1157\n",
      "['Newark Liberty International Airport', '40.692501068115234', '-74.168701171875']\n",
      "OMA 1406\n",
      "['Eppley Airfield', '41.3032', '-95.894096']\n",
      "ATL 1974\n",
      "['Hartsfield Jackson Atlanta International Airport', '33.6367', '-84.428101']\n",
      "CHO 2685\n",
      "['Charlottesville Albemarle Airport', '38.13859939575195', '-78.4529037475586']\n",
      "LGA 6385\n",
      "['La Guardia Airport', '40.77719879', '-73.87259674']\n",
      "BGR 6753\n",
      "['Bangor International Airport', '44.80739974975586', '-68.8281021118164']\n",
      "EWR 9492\n",
      "['Newark Liberty International Airport', '40.692501068115234', '-74.168701171875']\n",
      "DFW 10044\n",
      "['Dallas Fort Worth International Airport', '32.896801', '-97.038002']\n",
      "AUS 10582\n",
      "['Austin Bergstrom International Airport', '30.194499969482422', '-97.6698989868164']\n",
      "FLL 11020\n",
      "['Fort Lauderdale Hollywood International Airport', '26.072599', '-80.152702']\n",
      "MCO 11155\n",
      "['Orlando International Airport', '28.429399490356445', '-81.30899810791016']\n",
      "BDL 12094\n",
      "['Bradley International Airport', '41.9388999939', '-72.68319702149999']\n",
      "CLE 13444\n",
      "['Cleveland Hopkins International Airport', '41.4117012024', '-81.8498001099']\n",
      "MCO 13627\n",
      "['Orlando International Airport', '28.429399490356445', '-81.30899810791016']\n",
      "RIC 13976\n",
      "['Richmond International Airport', '37.50519943237305', '-77.3197021484375']\n",
      "ORD 14901\n",
      "[\"Chicago O'Hare International Airport\", '41.9786', '-87.9048']\n",
      "CHA 15414\n",
      "['Lovell Field', '35.035301208496094', '-85.20379638671875']\n",
      "DCA 19549\n",
      "['Ronald Reagan Washington National Airport', '38.8521', '-77.037697']\n",
      "ORD 19804\n",
      "[\"Chicago O'Hare International Airport\", '41.9786', '-87.9048']\n",
      "CVG 21369\n",
      "['Cincinnati Northern Kentucky International Airport', '39.0488014221', '-84.6678009033']\n",
      "DFW 22065\n",
      "['Dallas Fort Worth International Airport', '32.896801', '-97.038002']\n",
      "CRP 22211\n",
      "['Corpus Christi International Airport', '27.77039909362793', '-97.5011978149414']\n",
      "timeout\n",
      "IAH 0\n",
      "['George Bush Intercontinental Houston Airport', '29.984399795532227', '-95.34140014648438']\n",
      "MCI 5461\n",
      "['Kansas City International Airport', '39.2976', '-94.713898']\n",
      "MIA 6319\n",
      "['Miami International Airport', '25.79319953918457', '-80.29060363769531']\n",
      "SDF 6819\n",
      "['Louisville International Standiford Field', '38.1744', '-85.736']\n",
      "MIA 7010\n",
      "['Miami International Airport', '25.79319953918457', '-80.29060363769531']\n",
      "BWI 7202\n",
      "['Baltimore/Washington International Thurgood Marshall Airport', '39.1754', '-76.668297']\n",
      "ISP 7935\n",
      "['Long Island Mac Arthur Airport', '40.79520035', '-73.10019684']\n",
      "TPA 9590\n",
      "['Tampa International Airport', '27.975500106811523', '-82.533203125']\n",
      "DTW 9814\n",
      "['Detroit Metropolitan Wayne County Airport', '42.212398529052734', '-83.35340118408203']\n",
      "MQT 10929\n",
      "['Sawyer International Airport', '46.353599548300004', '-87.395401001']\n",
      "MSP 11992\n",
      "['Minneapolis-St Paul International/Wold-Chamberlain Airport', '44.882', '-93.221802']\n",
      "MSO 12836\n",
      "['Missoula International Airport', '46.91630173', '-114.0910034']\n"
     ]
    },
    {
     "name": "stdout",
     "output_type": "stream",
     "text": [
      "DFW 14040\n",
      "['Dallas Fort Worth International Airport', '32.896801', '-97.038002']\n",
      "RAP 14177\n",
      "['Rapid City Regional Airport', '44.0452995300293', '-103.05699920654297']\n",
      "timeout\n",
      "ORD 0\n",
      "[\"Chicago O'Hare International Airport\", '41.9786', '-87.9048']\n",
      "MIA 673\n",
      "['Miami International Airport', '25.79319953918457', '-80.29060363769531']\n",
      "MSY 1266\n",
      "['Louis Armstrong New Orleans International Airport', '29.99340057373047', '-90.25800323486328']\n",
      "SEA 2735\n",
      "['Seattle Tacoma International Airport', '47.449001', '-122.308998']\n",
      "SFO 3455\n",
      "['San Francisco International Airport', '37.61899948120117', '-122.375']\n",
      "DEN 3675\n",
      "['Denver International Airport', '39.861698150635', '-104.672996521']\n",
      "OMA 9721\n",
      "['Eppley Airfield', '41.3032', '-95.894096']\n",
      "EWR 9962\n",
      "['Newark Liberty International Airport', '40.692501068115234', '-74.168701171875']\n",
      "MYR 12427\n",
      "['Myrtle Beach International Airport', '33.6796989441', '-78.9282989502']\n",
      "BWI 16721\n",
      "['Baltimore/Washington International Thurgood Marshall Airport', '39.1754', '-76.668297']\n",
      "DAL 16910\n",
      "['Dallas Love Field', '32.847099', '-96.851799']\n",
      "SLC 17050\n",
      "['Salt Lake City International Airport', '40.78839874267578', '-111.97799682617188']\n",
      "RDM 18016\n",
      "['Roberts Field', '44.2541008', '-121.1500015']\n",
      "LAX 18545\n",
      "['Los Angeles International Airport', '33.94250107', '-118.4079971']\n",
      "SBP 18699\n",
      "['San Luis County Regional Airport', '35.236801147499996', '-120.641998291']\n",
      "PHX 19251\n",
      "['Phoenix Sky Harbor International Airport', '33.43429946899414', '-112.01200103759766']\n",
      "BFL 19842\n",
      "['Meadows Field', '35.43360138', '-119.0569992']\n",
      "SFO 20618\n",
      "['San Francisco International Airport', '37.61899948120117', '-122.375']\n",
      "MDW 21385\n",
      "['Chicago Midway International Airport', '41.785999', '-87.752403']\n",
      "MCO 22240\n",
      "['Orlando International Airport', '28.429399490356445', '-81.30899810791016']\n",
      "SAN 22795\n",
      "['San Diego International Airport', '32.7336006165', '-117.190002441']\n",
      "IAH 23769\n",
      "['George Bush Intercontinental Houston Airport', '29.984399795532227', '-95.34140014648438']\n",
      "CMH 28169\n",
      "['John Glenn Columbus International Airport', '39.998001', '-82.891899']\n",
      "DCA 28342\n",
      "['Ronald Reagan Washington National Airport', '38.8521', '-77.037697']\n",
      "PNS 28624\n",
      "['Pensacola Regional Airport', '30.473400115967', '-87.186599731445']\n",
      "timeout\n"
     ]
    },
    {
     "data": {
      "text/plain": [
       "['CLT',\n",
       " 0,\n",
       " array([0, 0, 0, 0, 0, 0, 0, 0, 0, 0, 0, 0, 2, 0, 0, 0, 0, 0, 1, 2, 1, 2,\n",
       "        0, 1, 0, 1, 1, 0, 0, 1, 0, 2, 0, 0, 0, 0, 0, 0, 0, 1, 0, 0, 0, 0,\n",
       "        0, 0, 0, 0, 0, 0, 0, 0, 0, 2, 0, 0, 1, 0, 0, 0, 1, 1, 1, 0, 0, 0,\n",
       "        2, 0, 2, 3, 0, 0, 0, 0, 0, 0, 0, 1, 0, 0, 1, 0, 0, 0, 1, 0, 0, 4,\n",
       "        1, 4, 0, 0, 0, 0, 0, 5, 0, 0, 0, 0, 0, 0, 0, 0, 0, 0, 0, 0, 0, 6,\n",
       "        0, 0, 0, 0, 0, 0, 0, 2, 0, 0, 0, 0, 0, 0, 0, 0, 0, 0, 0, 0, 0, 0,\n",
       "        0, 0, 2, 0, 0, 0, 0, 0, 0, 0, 0, 0, 0, 0, 0, 0, 0, 0, 0, 0, 0, 0,\n",
       "        2, 0, 4, 0, 1, 0, 0, 0, 1, 0, 1, 0, 0, 0, 0, 0, 0, 0, 0, 0, 0, 0,\n",
       "        0, 0, 1, 0, 2, 0, 0, 0, 0, 0, 0, 1, 0, 2, 0, 0, 0, 0, 0, 0, 0, 0,\n",
       "        0, 0, 0, 1, 6, 0, 1, 0, 0, 0, 0, 0, 0, 2, 4, 0, 0, 0, 0, 0, 0, 0,\n",
       "        0, 1, 0, 0, 1, 7, 2, 0, 1, 0, 0, 0, 0, 0, 1, 2, 0, 0, 7, 0, 0, 0,\n",
       "        0, 0, 0, 0, 2, 0, 0, 0, 0, 1, 0, 0, 0, 0, 1, 0, 1, 0, 0, 0, 0, 0,\n",
       "        0, 0, 0, 0, 0, 0, 1, 0, 1, 0, 0, 0, 1, 0, 0, 0, 0, 0, 0, 0, 0, 1,\n",
       "        0, 0, 0, 0, 1, 0, 0, 0, 1, 1, 0, 2, 0, 0, 0, 0, 0, 0, 0, 0, 3, 0,\n",
       "        0, 0, 0, 0, 0, 0, 0, 0, 2, 0, 0, 0, 0, 0, 0, 0, 0, 0, 0, 1, 0, 0,\n",
       "        1, 0, 0, 0, 0, 0, 1, 0, 0, 0, 0, 0, 0, 0, 0, 0]),\n",
       " array([ 5,  4,  2,  1, 10,  7,  3,  2,  0,  8,  9,  5, 25,  8, 15,  9, 15])]"
      ]
     },
     "execution_count": 26,
     "metadata": {},
     "output_type": "execute_result"
    }
   ],
   "source": [
    "def randomWalk(airportl,m,t,collect=\"coverage\",prints=False,boucles=1):\n",
    "    pos0=airportl[randint(0,len(airportl)-1)]\n",
    "    t=0\n",
    "    bloque=False\n",
    "    i=0\n",
    "    b=0\n",
    "    if collect==\"coverage\":\n",
    "        airports=np.array([0 for i in range(len(airportl))])\n",
    "        compagnies=np.array([0 for i in range(len(carL))])\n",
    "    if collect==\"firstTimeToReach\":\n",
    "        airports=np.array([tend for i in range(len(airportl))])\n",
    "        compagnies=np.array([tend for i in range(len(carL))])\n",
    "    while bloque==False and b<boucles:\n",
    "        if prints==True:\n",
    "            print(pos0,t)\n",
    "        pos0,t,car,bloque=step(pos0,airportl,m,t,prints=prints)\n",
    "        if bloque==True:\n",
    "            b=b+1\n",
    "            t=0\n",
    "            bloque=False\n",
    "        if collect==\"coverage\":\n",
    "            airports[airportl.index(pos0)]=airports[airportl.index(pos0)]+1\n",
    "            compagnies[carL.index(car)]=compagnies[carL.index(car)]+1\n",
    "        if collect==\"firstTimeToReach\":\n",
    "            if airports[airportl.index(pos0)]==tend:\n",
    "                airports[airportl.index(pos0)]=t\n",
    "            if compagnies[carL.index(car)]== tend:\n",
    "                compagnies[carL.index(car)]=t\n",
    "        i=i+1\n",
    "    return([pos0,t,airports,compagnies])\n",
    "\n",
    "randomWalk(airportl,m,0,prints=True,boucles=10)"
   ]
  },
  {
   "cell_type": "markdown",
   "metadata": {},
   "source": [
    "We compute then a great amount of random walks, collecting several informations:"
   ]
  },
  {
   "cell_type": "markdown",
   "metadata": {},
   "source": [
    "- the coverage"
   ]
  },
  {
   "cell_type": "code",
   "execution_count": 42,
   "metadata": {},
   "outputs": [
    {
     "name": "stdout",
     "output_type": "stream",
     "text": [
      "randomwalk n 0\n",
      "timeout\n",
      "timeout\n",
      "timeout\n",
      "timeout\n",
      "timeout\n",
      "timeout\n",
      "timeout\n",
      "timeout\n",
      "timeout\n",
      "timeout\n",
      "randomwalk n 1\n",
      "timeout\n",
      "timeout\n",
      "timeout\n",
      "timeout\n",
      "timeout\n",
      "timeout\n",
      "timeout\n",
      "timeout\n",
      "timeout\n",
      "timeout\n",
      "randomwalk n 2\n",
      "timeout\n",
      "timeout\n",
      "timeout\n",
      "timeout\n",
      "timeout\n",
      "timeout\n",
      "timeout\n",
      "timeout\n",
      "timeout\n",
      "timeout\n",
      "randomwalk n 3\n",
      "timeout\n",
      "timeout\n",
      "timeout\n",
      "timeout\n",
      "timeout\n",
      "timeout\n",
      "timeout\n",
      "timeout\n",
      "timeout\n",
      "timeout\n",
      "randomwalk n 4\n",
      "timeout\n",
      "timeout\n",
      "timeout\n",
      "timeout\n",
      "timeout\n",
      "timeout\n",
      "timeout\n",
      "timeout\n",
      "timeout\n",
      "timeout\n",
      "randomwalk n 5\n",
      "timeout\n",
      "timeout\n",
      "timeout\n",
      "timeout\n",
      "timeout\n",
      "timeout\n",
      "timeout\n",
      "timeout\n",
      "timeout\n",
      "timeout\n",
      "randomwalk n 6\n",
      "timeout\n",
      "timeout\n",
      "timeout\n",
      "timeout\n",
      "timeout\n",
      "timeout\n",
      "timeout\n",
      "timeout\n",
      "timeout\n",
      "timeout\n",
      "randomwalk n 7\n",
      "timeout\n",
      "timeout\n",
      "timeout\n",
      "timeout\n",
      "timeout\n",
      "timeout\n",
      "timeout\n",
      "timeout\n",
      "timeout\n",
      "timeout\n",
      "randomwalk n 8\n",
      "timeout\n",
      "timeout\n",
      "timeout\n",
      "timeout\n",
      "timeout\n",
      "timeout\n",
      "timeout\n",
      "timeout\n",
      "timeout\n",
      "timeout\n",
      "randomwalk n 9\n",
      "timeout\n",
      "timeout\n",
      "timeout\n",
      "timeout\n",
      "timeout\n",
      "timeout\n",
      "timeout\n",
      "timeout\n",
      "timeout\n",
      "timeout\n"
     ]
    }
   ],
   "source": [
    "covAirports=np.array([0 for i in range(len(airportl))])\n",
    "covCompagnies=np.array([0 for i in range(len(carL))])\n",
    "airports=np.array([0 for i in (airportl)])\n",
    "t=0\n",
    "for i in range(10):\n",
    "    print(\"randomwalk n\", i)\n",
    "    vect=randomWalk(airportl,m,t,boucles=10)\n",
    "    airports=vect[2]\n",
    "    compagnies=vect[3]\n",
    "    covAirports=np.add(covAirports,airports)\n",
    "    covCompagnies=np.add(covCompagnies,compagnies)"
   ]
  },
  {
   "cell_type": "code",
   "execution_count": 43,
   "metadata": {},
   "outputs": [
    {
     "data": {
      "image/png": "[encoded data removed]",
      "text/plain": [
       "<Figure size 432x288 with 1 Axes>"
      ]
     },
     "metadata": {
      "needs_background": "light"
     },
     "output_type": "display_data"
    }
   ],
   "source": [
    "axes = plt.gca()\n",
    "plt.plot(covAirports,pr,'o')\n",
    "axes.set_ylabel('Page Rank')\n",
    "axes.set_xlabel('coverage by random walker')\n",
    "plt.savefig(\"prVSrw.pdf\")\n",
    "plt.show()"
   ]
  },
  {
   "cell_type": "code",
   "execution_count": 44,
   "metadata": {},
   "outputs": [
    {
     "data": {
      "image/png": "[encoded data removed]",
      "text/plain": [
       "<Figure size 432x288 with 1 Axes>"
      ]
     },
     "metadata": {
      "needs_background": "light"
     },
     "output_type": "display_data"
    }
   ],
   "source": [
    "axes = plt.gca()\n",
    "plt.plot(covAirports,bt,'o')\n",
    "axes.set_ylabel('Betweenness centrality')\n",
    "axes.set_xlabel('coverage by random walker')\n",
    "plt.savefig('bcVScovrw.pdf')\n",
    "plt.show()"
   ]
  },
  {
   "cell_type": "code",
   "execution_count": 53,
   "metadata": {},
   "outputs": [
    {
     "name": "stdout",
     "output_type": "stream",
     "text": [
      "[ 58 117  41  59 121  49  76 152  13  69  33  56 239 109 296  61  68]\n",
      "[0.27801714 0.25277487 0.16536946 0.19956213 0.24586113 0.33334731\n",
      " 0.21209387 0.02362059 0.14503349 0.26303856 0.25672139 0.1693862\n",
      " 0.25422656 0.32186742 0.16000328 0.26291929 0.35602027]\n"
     ]
    },
    {
     "data": {
      "image/png": "[encoded data removed]",
      "text/plain": [
       "<Figure size 432x288 with 1 Axes>"
      ]
     },
     "metadata": {
      "needs_background": "light"
     },
     "output_type": "display_data"
    }
   ],
   "source": [
    "print(covCompagnies)\n",
    "print(vectp)\n",
    "axes=plt.gca()\n",
    "plt.plot(covCompagnies,vectp,'o')\n",
    "axes.set_ylabel('intrication')\n",
    "axes.set_xlabel('coverage compagnies by random walker')\n",
    "plt.show()\n"
   ]
  },
  {
   "cell_type": "markdown",
   "metadata": {},
   "source": [
    "- the first time to reach"
   ]
  },
  {
   "cell_type": "code",
   "execution_count": 54,
   "metadata": {},
   "outputs": [
    {
     "name": "stdout",
     "output_type": "stream",
     "text": [
      "randomwalk n 0\n",
      "timeout\n",
      "timeout\n",
      "timeout\n",
      "timeout\n",
      "timeout\n",
      "timeout\n",
      "timeout\n",
      "timeout\n",
      "timeout\n",
      "timeout\n",
      "randomwalk n 1\n",
      "timeout\n",
      "timeout\n",
      "timeout\n",
      "timeout\n",
      "timeout\n",
      "timeout\n",
      "timeout\n",
      "timeout\n",
      "timeout\n",
      "timeout\n",
      "randomwalk n 2\n",
      "timeout\n",
      "timeout\n",
      "timeout\n",
      "timeout\n",
      "timeout\n",
      "timeout\n",
      "timeout\n",
      "timeout\n",
      "timeout\n",
      "timeout\n",
      "randomwalk n 3\n",
      "timeout\n",
      "timeout\n",
      "timeout\n",
      "timeout\n",
      "timeout\n",
      "timeout\n",
      "timeout\n",
      "timeout\n",
      "timeout\n",
      "timeout\n",
      "randomwalk n 4\n",
      "timeout\n",
      "timeout\n",
      "timeout\n",
      "timeout\n",
      "timeout\n",
      "timeout\n",
      "timeout\n",
      "timeout\n",
      "timeout\n",
      "timeout\n",
      "randomwalk n 5\n",
      "timeout\n",
      "timeout\n",
      "timeout\n",
      "timeout\n",
      "timeout\n",
      "timeout\n",
      "timeout\n",
      "timeout\n",
      "timeout\n",
      "timeout\n",
      "randomwalk n 6\n",
      "timeout\n",
      "timeout\n",
      "timeout\n",
      "timeout\n",
      "timeout\n",
      "timeout\n",
      "timeout\n",
      "timeout\n",
      "timeout\n",
      "timeout\n",
      "randomwalk n 7\n",
      "timeout\n",
      "timeout\n",
      "timeout\n",
      "timeout\n",
      "timeout\n",
      "timeout\n",
      "timeout\n",
      "timeout\n",
      "timeout\n",
      "timeout\n",
      "randomwalk n 8\n",
      "timeout\n",
      "timeout\n",
      "timeout\n",
      "timeout\n",
      "timeout\n",
      "timeout\n",
      "timeout\n",
      "timeout\n",
      "timeout\n",
      "timeout\n",
      "randomwalk n 9\n",
      "timeout\n",
      "timeout\n",
      "timeout\n",
      "timeout\n",
      "timeout\n",
      "timeout\n",
      "timeout\n",
      "timeout\n",
      "timeout\n",
      "timeout\n"
     ]
    }
   ],
   "source": [
    "ftrAirports=np.array([0 for i in range(len(airportl))])\n",
    "ftrCompagnies=np.array([0 for i in range(len(carL))])\n",
    "airports=np.array([0 for i in (airportl)])\n",
    "t=0\n",
    "for i in range(10):\n",
    "    print(\"randomwalk n\", i)\n",
    "    vect=randomWalk(airportl,m,t,collect=\"firstTimeToReach\",boucles=10)\n",
    "    airports=vect[2]\n",
    "    compagnies=vect[3]\n",
    "    ftrAirports=np.add(covAirports,airports)\n",
    "    ftrCompagnies=np.add(covCompagnies,compagnies)"
   ]
  },
  {
   "cell_type": "code",
   "execution_count": 32,
   "metadata": {},
   "outputs": [
    {
     "data": {
      "image/png": "[encoded data removed]",
      "text/plain": [
       "<Figure size 432x288 with 1 Axes>"
      ]
     },
     "metadata": {
      "needs_background": "light"
     },
     "output_type": "display_data"
    }
   ],
   "source": [
    "axes = plt.gca()\n",
    "plt.plot(ftrAirports,pr,'o')\n",
    "axes.set_ylabel('Page Rank')\n",
    "axes.set_xlabel('firstTimeToReach')\n",
    "plt.show()"
   ]
  },
  {
   "cell_type": "code",
   "execution_count": 55,
   "metadata": {},
   "outputs": [
    {
     "data": {
      "image/png": "[encoded data removed]",
      "text/plain": [
       "<Figure size 432x288 with 1 Axes>"
      ]
     },
     "metadata": {
      "needs_background": "light"
     },
     "output_type": "display_data"
    }
   ],
   "source": [
    "axes = plt.gca()\n",
    "plt.plot(ftrAirports,bt,'o')\n",
    "axes.set_ylabel('Betweenness centrality')\n",
    "axes.set_xlabel('first time to reach')\n",
    "plt.show()"
   ]
  },
  {
   "cell_type": "code",
   "execution_count": 56,
   "metadata": {},
   "outputs": [],
   "source": [
    "nnodes=[121,102,70,68,145,101,90,120,18,134,43,95,239,108,85,103,87]\n",
    "nlinks=[488,721,326,362,834,368,522,614,62,419,366,325,1358,715,1378,335,661]"
   ]
  },
  {
   "cell_type": "code",
   "execution_count": 57,
   "metadata": {},
   "outputs": [
    {
     "name": "stdout",
     "output_type": "stream",
     "text": [
      "['9E', 'AA', 'AS', 'B6', 'DL', 'EV', 'F9', 'G4', 'HA', 'MQ', 'NK', 'OH', 'OO', 'UA', 'WN', 'YV', 'YX']\n"
     ]
    },
    {
     "data": {
      "image/png": "[encoded data removed]",
      "text/plain": [
       "<Figure size 432x288 with 1 Axes>"
      ]
     },
     "metadata": {
      "needs_background": "light"
     },
     "output_type": "display_data"
    }
   ],
   "source": [
    "axes=plt.gca()\n",
    "plt.plot(covCompagnies,vectp,'o')\n",
    "axes.set_ylabel('intrication')\n",
    "axes.set_xlabel('coverage compagnies by random walker')\n",
    "print(carL)\n",
    "ni=0\n",
    "for i in carL:\n",
    "    text = axes.text(covCompagnies[ni],vectp[ni],i,ha=\"left\", va=\"center\", color=\"b\")\n",
    "    ni=ni+1\n",
    "plt.show()\n"
   ]
  },
  {
   "cell_type": "code",
   "execution_count": 58,
   "metadata": {},
   "outputs": [
    {
     "name": "stdout",
     "output_type": "stream",
     "text": [
      "[0.4793388429752066, 1.1470588235294117, 0.5857142857142857, 0.8676470588235294, 0.8344827586206897, 0.48514851485148514, 0.8444444444444444, 1.2666666666666666, 0.7222222222222222, 0.5149253731343284, 0.7674418604651163, 0.5894736842105263, 1.0, 1.0092592592592593, 3.4823529411764707, 0.5922330097087378, 0.7816091954022989]\n"
     ]
    },
    {
     "data": {
      "image/png": "[encoded data removed]",
      "text/plain": [
       "<Figure size 432x288 with 1 Axes>"
      ]
     },
     "metadata": {
      "needs_background": "light"
     },
     "output_type": "display_data"
    }
   ],
   "source": [
    "cov2=[covCompagnies[i]/nnodes[i] for i in range(len(carL))]\n",
    "axes=plt.gca()\n",
    "plt.plot(cov2,vectp,'o')\n",
    "axes.set_ylabel('intrication')\n",
    "axes.set_xlabel('coverage compagnies by random walker')\n",
    "print(cov2)\n",
    "ni=0\n",
    "for i in carL:\n",
    "    text = axes.text(cov2[ni],vectp[ni],i,ha=\"left\", va=\"center\", color=\"b\")\n",
    "    ni=ni+1\n",
    "plt.show()"
   ]
  },
  {
   "cell_type": "code",
   "execution_count": 84,
   "metadata": {},
   "outputs": [
    {
     "name": "stdout",
     "output_type": "stream",
     "text": [
      "[-0.11885245901639344, -0.1622746185852982, -0.12576687116564417, -0.16298342541436464, -0.145083932853717, -0.1331521739130435, -0.14559386973180077, -0.247557003257329, -0.20967741935483872, -0.16467780429594273, -0.09016393442622951, -0.1723076923076923, -0.17599410898379972, -0.15244755244755245, -0.21480406386066764, -0.18208955223880596, -0.10287443267776097]\n"
     ]
    },
    {
     "data": {
      "image/png": "[encoded data removed]",
      "text/plain": [
       "<Figure size 432x288 with 1 Axes>"
      ]
     },
     "metadata": {
      "needs_background": "light"
     },
     "output_type": "display_data"
    }
   ],
   "source": [
    "cov3=[-covCompagnies[i]/nlinks[i] for i in range(len(carL))]\n",
    "axes=plt.gca()\n",
    "plt.plot(cov3,vectp,'o')\n",
    "axes.set_ylabel('intrication')\n",
    "axes.set_xlabel('coverage compagnies by random walker divided by number of links in the compagny')\n",
    "print(cov3)\n",
    "ni=0\n",
    "for i in carL:\n",
    "    text = axes.text(cov3[ni],vectp[ni],i,ha=\"left\", va=\"center\", color=\"b\")\n",
    "    ni=ni+1\n",
    "plt.show()"
   ]
  },
  {
   "cell_type": "code",
   "execution_count": 60,
   "metadata": {},
   "outputs": [
    {
     "name": "stdout",
     "output_type": "stream",
     "text": [
      "[0.11885245901639344, 0.1622746185852982, 0.12576687116564417, 0.16298342541436464, 0.145083932853717, 0.1331521739130435, 0.14559386973180077, 0.247557003257329, 0.20967741935483872, 0.16467780429594273, 0.09016393442622951, 0.1723076923076923, 0.17599410898379972, 0.15244755244755245, 0.21480406386066764, 0.18208955223880596, 0.10287443267776097]\n"
     ]
    },
    {
     "data": {
      "image/png": "[encoded data removed]",
      "text/plain": [
       "<Figure size 432x288 with 1 Axes>"
      ]
     },
     "metadata": {
      "needs_background": "light"
     },
     "output_type": "display_data"
    }
   ],
   "source": [
    "nlinks2=[nlinks[i] for i in range(len(carL))]\n",
    "axes=plt.gca()\n",
    "plt.plot(nlinks2,vectp,'o')\n",
    "axes.set_ylabel('intrication')\n",
    "axes.set_xlabel('number of links')\n",
    "print(cov3)\n",
    "ni=0\n",
    "for i in carL:\n",
    "    text = axes.text(nlinks2[ni],vectp[ni],i,ha=\"left\", va=\"center\", color=\"b\")\n",
    "    ni=ni+1\n",
    "plt.show()"
   ]
  },
  {
   "cell_type": "markdown",
   "metadata": {},
   "source": [
    "## Covariance"
   ]
  },
  {
   "cell_type": "code",
   "execution_count": 81,
   "metadata": {},
   "outputs": [
    {
     "name": "stdout",
     "output_type": "stream",
     "text": [
      "[ 0.22073867  0.02197596 -0.01878084 -0.04324019  0.08617365  0.16609728\n",
      " -0.10736238 -0.10571059 -0.00288777  0.13080882 -0.07876284  0.01608087\n",
      "  0.65894791  0.13491643 -0.57296667  0.07669357  0.28405015]\n"
     ]
    },
    {
     "data": {
      "image/png": "[encoded data removed]",
      "text/plain": [
       "<Figure size 432x288 with 1 Axes>"
      ]
     },
     "metadata": {
      "needs_background": "light"
     },
     "output_type": "display_data"
    }
   ],
   "source": [
    "cov3=[covCompagnies[i] for i in range(len(carL))]\n",
    "axes=plt.gca()\n",
    "plt.plot(cov3,vectpcov,'o')\n",
    "axes.set_ylabel('covariance')\n",
    "axes.set_xlabel('coverage compagnies by random walker')\n",
    "print(vectpcov)\n",
    "ni=0\n",
    "for i in carL:\n",
    "    text = axes.text(cov3[ni],vectpcov[ni],i,ha=\"left\", va=\"center\", color=\"b\")\n",
    "    ni=ni+1\n",
    "plt.show()"
   ]
  },
  {
   "cell_type": "markdown",
   "metadata": {},
   "source": [
    "## Precision"
   ]
  },
  {
   "cell_type": "code",
   "execution_count": 79,
   "metadata": {},
   "outputs": [
    {
     "name": "stdout",
     "output_type": "stream",
     "text": [
      "[58, 117, 41, 59, 121, 49, 76, 152, 13, 69, 33, 56, 239, 109, 296, 61, 68]\n"
     ]
    },
    {
     "data": {
      "image/png": "[encoded data removed]",
      "text/plain": [
       "<Figure size 432x288 with 1 Axes>"
      ]
     },
     "metadata": {
      "needs_background": "light"
     },
     "output_type": "display_data"
    }
   ],
   "source": [
    "cov3=[covCompagnies[i] for i in range(len(carL))]\n",
    "axes=plt.gca()\n",
    "plt.plot(cov3,vectpprec,'o')\n",
    "axes.set_ylabel('precision')\n",
    "axes.set_xlabel('coverage compagnies by random walker')\n",
    "print(cov3)\n",
    "ni=0\n",
    "for i in carL:\n",
    "    text = axes.text(cov3[ni],vectpprec[ni],i,ha=\"left\", va=\"center\", color=\"b\")\n",
    "    ni=ni+1\n",
    "plt.show()"
   ]
  }
 ],
 "metadata": {
  "kernelspec": {
   "display_name": "Python 3",
   "language": "python",
   "name": "python3"
  },
  "language_info": {
   "codemirror_mode": {
    "name": "ipython",
    "version": 3
   },
   "file_extension": ".py",
   "mimetype": "text/x-python",
   "name": "python",
   "nbconvert_exporter": "python",
   "pygments_lexer": "ipython3",
   "version": "3.7.3"
  }
 },
 "nbformat": 4,
 "nbformat_minor": 2
}
