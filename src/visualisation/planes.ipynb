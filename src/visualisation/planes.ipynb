{
 "cells": [
  {
   "cell_type": "markdown",
   "metadata": {},
   "source": [
    "# Datas "
   ]
  },
  {
   "cell_type": "markdown",
   "metadata": {},
   "source": [
    "- Source for airports locations: https://openflights.org/data.html (file airlines.dat)\n",
    "- Source for american airlines and flight scedules: https://www.transtats.bts.gov/DL_SelectFields.asp?Table_ID=236\n"
   ]
  },
  {
   "cell_type": "code",
   "execution_count": 2,
   "metadata": {},
   "outputs": [
    {
     "name": "stdout",
     "output_type": "stream",
     "text": [
      "sorted collection imported\n",
      "cou\n"
     ]
    }
   ],
   "source": [
    "from visuMultiStream import *\n",
    "from intervals import *\n",
    "from structure import *\n",
    "from elemMSGraph import *\n",
    "from multiLayers import *\n",
    "from sortedcollection import *\n",
    "print(\"cou\")\n",
    "from matrices import *\n",
    "from random import *\n",
    "import seaborn as sns\n",
    "\n",
    "from tulip import tlp\n",
    "import scipy.linalg\n"
   ]
  },
  {
   "cell_type": "markdown",
   "metadata": {},
   "source": [
    "Echelle de temps : 1 semaine"
   ]
  },
  {
   "cell_type": "code",
   "execution_count": 3,
   "metadata": {},
   "outputs": [
    {
     "name": "stdout",
     "output_type": "stream",
     "text": [
      "44640\n"
     ]
    }
   ],
   "source": [
    "t0=0\n",
    "tend=24*60*31\n",
    "\n",
    "print(tend)\n",
    "\n",
    "interval=Interval(t0,tend)"
   ]
  },
  {
   "cell_type": "code",
   "execution_count": 4,
   "metadata": {},
   "outputs": [],
   "source": [
    "def convertToMinutes(day,hour,minutes):\n",
    "    return((day-1)*24*60+hour*60+minutes)\n",
    "\n",
    "\n",
    "\n",
    "def readAirports(airportl):\n",
    "    dicoAir={}\n",
    "    f=open(\"planes/airports.dat\",\"r\",encoding=\"utf8\")\n",
    "    #print(f)\n",
    "    lste=[]\n",
    "    for line in f:\n",
    "        line=line.replace(\"\\\"\",'')\n",
    "        tab=line.split(\",\")\n",
    "        ida=tab[4]\n",
    "        namea=tab[1]\n",
    "        country=tab[3]\n",
    "        #print(ida)\n",
    "        if (ida in dicoAir)==False and (ida in airportl):\n",
    "            lat=tab[6]\n",
    "            long=tab[7]\n",
    "            dicoAir[ida]=[namea,lat,long]\n",
    "            lste.append(NodeT(ida,IntervalList([interval])))\n",
    "    return(dicoAir,lste)\n",
    "    \n",
    "\n",
    "def readLinks():\n",
    "    f=open(\"planes/linksmonth.csv\",'r')\n",
    "    n=0\n",
    "    em=LinkList([])\n",
    "    careersl=[]\n",
    "    airportl=[]\n",
    "    airportPerLay={}\n",
    "    for line in f:\n",
    "        if n>0:\n",
    "            line=line.replace(\"\\\"\",'')\n",
    "            tab=line.split(\",\")\n",
    "            date=int(tab[0].split(\"-\")[2])\n",
    "            career=tab[1]\n",
    "            origin=tab[2]\n",
    "            dest=tab[3]\n",
    "            dept=int(tab[4][0]+tab[4][1])*60+int(tab[4][2]+tab[4][3])\n",
    "            if len(tab[5])>0:\n",
    "                arrival=int(tab[6][0]+tab[6][1])*60+int(tab[6][2]+tab[6][3])\n",
    "                inter=Interval((date-1)*24*60+dept,(date-1)*24*60+arrival)\n",
    "                if arrival<=dept:\n",
    "                    inter=Interval((date-1)*24*60+dept,(date)*24*60+arrival)\n",
    "                if not (career in careersl):\n",
    "                    careersl.append(career)\n",
    "                if not (origin in airportl):\n",
    "                    airportl.append(origin)\n",
    "                if not (dest in airportl):\n",
    "                    airportl.append(dest)\n",
    "                if (career in airportPerLay.keys())==False:\n",
    "                    airportPerLay[career]=[]\n",
    "                if not origin in airportPerLay[career]:\n",
    "                    airportPerLay[career].append(origin)\n",
    "                if not dest in airportPerLay[career]:\n",
    "                    airportPerLay[career].append(dest)\n",
    "                em.addLink(Link(IntervalList([inter]),NodeT(origin,IntervalList([interval])),[career],NodeT(dest,IntervalList([interval])),[career],directed=0),cond=0)\n",
    "        n=n+1\n",
    "    return(em,sorted(careersl),sorted(airportl),airportPerLay)\n",
    "\n",
    "    \n",
    "def readCarriers(carL):\n",
    "    f=open(\"planes/L_UNIQUE_CARRIERS.csv\",\"r\")\n",
    "    n=0\n",
    "    liste=[]\n",
    "    dicoCarreer={}\n",
    "    for line in f :\n",
    "        if n>0:\n",
    "            line=line.replace(\"\\\"\",'')\n",
    "            tab=line.split(\",\")\n",
    "            tab[-1]=tab[-1].rstrip(\"\\n\")\n",
    "            code=tab[0]\n",
    "            name=tab[1]\n",
    "            if (code in liste) == False and (code in carL)==True :\n",
    "                liste.append(code)\n",
    "                dicoCarreer[code]=name\n",
    "        n=n+1\n",
    "    comp=Aspect(\"carrier\",liste)\n",
    "    return(comp,dicoCarreer)"
   ]
  },
  {
   "cell_type": "markdown",
   "metadata": {},
   "source": [
    "# Principle :\n",
    "\n",
    "In the datasets, they are to many airports and carriers (not american and unused). So we begin to read the links to know which airports and carriers are used and we then read their datasets to collect their detailed informations (stored into dictionnaries)"
   ]
  },
  {
   "cell_type": "code",
   "execution_count": 5,
   "metadata": {},
   "outputs": [
    {
     "name": "stdout",
     "output_type": "stream",
     "text": [
      "extracting...\n",
      "layer ['9E']\n",
      "layer ['AA']\n",
      "layer ['AS']\n",
      "layer ['B6']\n",
      "layer ['DL']\n",
      "layer ['EV']\n",
      "layer ['F9']\n",
      "layer ['G4']\n",
      "layer ['HA']\n",
      "layer ['MQ']\n",
      "layer ['NK']\n",
      "layer ['OH']\n",
      "layer ['OO']\n",
      "layer ['UA']\n",
      "layer ['WN']\n",
      "layer ['YV']\n",
      "layer ['YX']\n"
     ]
    }
   ],
   "source": [
    "em,carL,airportl,airportperlay=readLinks()\n",
    "\n",
    "dicoAir,nodes=readAirports(airportl)\n",
    "\n",
    "laystr=LayerStruct([Aspect(\"compagnies\",carL)])\n",
    "listLay=[]\n",
    "\n",
    "carriers,dicoCarreer =readCarriers(carL)\n",
    "\n",
    "for l in carriers.giveElemLayer():\n",
    "    nl=NodeTList([])\n",
    "    for no in airportperlay[l]:\n",
    "        nl.addNodeT(NodeT(no,IntervalList([interval])))\n",
    "    listLay.append(Layer(laystr,[l],interval,nl))\n",
    "\n",
    "layers=LayerList(listLay)\n",
    "\n",
    "m=MultiStream(interval,laystr,layers,em)          \n",
    "\n",
    "multi=m.extractML()"
   ]
  },
  {
   "cell_type": "markdown",
   "metadata": {},
   "source": [
    "## Build the tulip file\n",
    "\n",
    "The differents layers corresponding to the different carriers are drawn in different colors. We build different subgraphs corresponding to each company.\n",
    "\n",
    "This is very useful for vizualisation (download tulip http://tulip.labri.fr/TulipDrupal/ ) to open the graph (double click on the graph on the bottom left and chose the \"geographic view\""
   ]
  },
  {
   "cell_type": "code",
   "execution_count": 6,
   "metadata": {},
   "outputs": [],
   "source": [
    "def makeGraph(m,airportl,carL,dicoAir,airportperlay):\n",
    "    graph=tlp.newGraph()\n",
    "    latitude=graph.getDoubleProperty(\"latitude\")\n",
    "    longitude=graph.getDoubleProperty(\"longitude\")\n",
    "    name = graph.getStringProperty(\"nameCity\")\n",
    "    code = graph.getStringProperty(\"code\")\n",
    "    couche = graph.getStringVectorProperty(\"compagnie\")\n",
    "    color = graph.getColorProperty(\"viewColor\")\n",
    "    k=len(carL)\n",
    "    colList=[(randint(0,255),randint(0,255),randint(0,255)) for i in range(k)]\n",
    "    for n in range(len(airportl)):\n",
    "        graph.addNode()\n",
    "        no=graph.nodes()[n]\n",
    "        code[no]=airportl[n]\n",
    "        listeAttributs=dicoAir[airportl[n]]\n",
    "        name[no]=listeAttributs[0]\n",
    "        latitude[no]=float(listeAttributs[1])\n",
    "        longitude[no]=float(listeAttributs[2])\n",
    "    n=0\n",
    "    for lay in m.giveLayers().giveLayers():\n",
    "        car=lay.giveLayerLabel()[0]\n",
    "        sub=graph.addSubGraph(car)\n",
    "        nliste=airportperlay[car]\n",
    "        for node1 in nliste :\n",
    "            no=graph.nodes()[airportl.index(node1)]\n",
    "            sub.addNode(no)\n",
    "        #print(car,len(sub.nodes()))\n",
    "    for e in m.giveLinks().giveListOfLinks():\n",
    "        n1=graph.nodes()[airportl.index(e.giveNodes()[0].giveNode())]\n",
    "        n2=graph.nodes()[airportl.index(e.giveNodes()[1].giveNode())]\n",
    "        graph.addEdge(n1,n2)\n",
    "        ed=graph.edges()[n]\n",
    "        n=n+1\n",
    "        couche[ed]=e.giveLabel()[2]\n",
    "        color[ed]=colList[carL.index(e.giveLabel()[2][0])]\n",
    "        sub=graph.subGraphs()[carL.index(e.giveLabel()[2][0])]\n",
    "        car=e.giveLabel()[2][0]\n",
    "        codenode=e.giveNodes()[0].giveNode()\n",
    "        n1=sub.nodes()[airportperlay[car].index(codenode)]\n",
    "        n2=sub.nodes()[airportperlay[e.giveLabel()[2][0]].index(e.giveNodes()[1].giveNode())]\n",
    "        sub.addEdge(ed)\n",
    "    tlp.saveGraph(graph,\"grapheplanes.tp\")\n",
    "    return(graph)\n",
    "\n",
    "graph=makeGraph(m,airportl,carL,dicoAir,airportperlay)"
   ]
  },
  {
   "cell_type": "markdown",
   "metadata": {},
   "source": [
    "We can then use the library \"tulip\" to compute classical measures: \n",
    "\n",
    "- page ranking: "
   ]
  },
  {
   "cell_type": "code",
   "execution_count": 8,
   "metadata": {},
   "outputs": [],
   "source": [
    "pagerank=graph.getDoubleProperty(\"pageRank\")\n",
    "params = tlp.getDefaultPluginParameters('Page Rank', graph)\n",
    "params[\"directed\"]=True\n",
    "\n",
    "success = graph.applyDoubleAlgorithm('Page Rank', pagerank, params)\n",
    "pr=[]\n",
    "for n in graph.getNodes():\n",
    "    pr.append(pagerank[n])"
   ]
  },
  {
   "cell_type": "markdown",
   "metadata": {},
   "source": [
    "- betweenness centrality:"
   ]
  },
  {
   "cell_type": "code",
   "execution_count": 9,
   "metadata": {},
   "outputs": [],
   "source": [
    "betweenness=graph.getDoubleProperty(\"betweeness\")\n",
    "params = tlp.getDefaultPluginParameters('Betweenness Centrality', graph)\n",
    "params[\"directed\"]=True\n",
    "\n",
    "success = graph.applyDoubleAlgorithm('Betweenness Centrality', betweenness, params)\n",
    "bt=[]\n",
    "for n in graph.getNodes():\n",
    "    bt.append(betweenness[n]) "
   ]
  },
  {
   "cell_type": "code",
   "execution_count": 11,
   "metadata": {},
   "outputs": [
    {
     "data": {
      "image/png": "[encoded data removed]",
      "text/plain": [
       "<Figure size 432x288 with 1 Axes>"
      ]
     },
     "metadata": {
      "needs_background": "light"
     },
     "output_type": "display_data"
    }
   ],
   "source": [
    "axes = plt.gca()\n",
    "plt.plot(bt,pr,'o')\n",
    "axes.set_ylabel('Page Rank')\n",
    "axes.set_xlabel('Betweenness centrality')\n",
    "plt.savefig(\"prVSbc.pdf\")\n",
    "plt.show()\n"
   ]
  },
  {
   "cell_type": "markdown",
   "metadata": {},
   "source": [
    "# Intrication\n",
    "\n",
    "We compute the Burt's matrix which is:\n",
    "\n",
    "$\\begin{pmatrix}\n",
    "P(1) & P(1|2) & P(1|3) & \\dots & P(1|n)\\\\\n",
    "P(2|1) & P(2) & P(2|3) & \\dots & P(2|n)\\\\\n",
    "\\vdots & \\vdots & \\ddots\\\\\n",
    "\\dots & \\dots & \\dots & \\dots & P(n)\n",
    "\\end{pmatrix}$\n",
    "\n",
    "$P(i)$ is the probability, taking a flight, that it exists in the compagny $C_i$.\n",
    "\n",
    "$P(i|j)$ is the probability, taking a flight in $c_j$, that $c_i$ has the same flight."
   ]
  },
  {
   "cell_type": "code",
   "execution_count": 13,
   "metadata": {},
   "outputs": [],
   "source": [
    "matintric=multi.computeIntricationMatrixBurt()"
   ]
  },
  {
   "cell_type": "code",
   "execution_count": 14,
   "metadata": {},
   "outputs": [
    {
     "data": {
      "image/png": "[encoded data removed]",
      "text/plain": [
       "<Figure size 432x288 with 2 Axes>"
      ]
     },
     "metadata": {
      "needs_background": "light"
     },
     "output_type": "display_data"
    }
   ],
   "source": [
    "lablist=multi.giveLayersLabels()\n",
    "sns_plot=sns.heatmap(np.transpose(matintric),cmap=\"YlGnBu\",xticklabels=lablist,yticklabels=lablist)\n",
    "fig = sns_plot.get_figure()\n",
    "fig.savefig(\"intricplanes.pdf\")\n",
    "plt.show()\n"
   ]
  },
  {
   "cell_type": "markdown",
   "metadata": {},
   "source": [
    "We compute its maximal left eigenvalue and the eigenvector associated. If the matrix isn't reductible (if we have all the nodes in the same connex component), this eigenvalue is unique and the eigenvector has all its coefficients of the same sign."
   ]
  },
  {
   "cell_type": "code",
   "execution_count": 15,
   "metadata": {},
   "outputs": [],
   "source": [
    "valp,vectp=valeurPropreMax(np.transpose(matintric),1000)"
   ]
  },
  {
   "cell_type": "markdown",
   "metadata": {},
   "source": [
    "We draw the eigenvector ordered:"
   ]
  },
  {
   "cell_type": "code",
   "execution_count": 16,
   "metadata": {},
   "outputs": [
    {
     "data": {
      "image/png": "[encoded data removed]",
      "text/plain": [
       "<Figure size 432x288 with 1 Axes>"
      ]
     },
     "metadata": {
      "needs_background": "light"
     },
     "output_type": "display_data"
    }
   ],
   "source": [
    "l=SortedCollection(iterable=lablist,key = lambda lab: vectp[lablist.index(lab)])\n",
    "vectpo,labo=l.listsSorted()\n",
    "\n",
    "plt.plot(labo,vectpo,'o')\n",
    "plt.savefig(\"intricscoresplanes.pdf\")\n",
    "plt.show()"
   ]
  },
  {
   "cell_type": "markdown",
   "metadata": {},
   "source": [
    "# Random walks"
   ]
  },
  {
   "cell_type": "markdown",
   "metadata": {},
   "source": [
    "A step: to go on, a passenger will chose among all the possibles links he can take. Each link corresponds to a company and a destination.\n",
    "\n",
    "For instance, from `['Montgomery Regional (Dannelly Field) Airport', '32.30059814', '-86.39399719']`\n",
    "we can reach with the same probability:\n",
    "```\n",
    "['Hartsfield Jackson Atlanta International Airport', '33.6367', '-84.428101'] with Endeavor Air Inc.\n",
    "['Hartsfield Jackson Atlanta International Airport', '33.6367', '-84.428101'] with SkyWest Airlines Inc.\n",
    "['Ronald Reagan Washington National Airport', '38.8521', '-77.037697'] with PSA Airlines Inc.\n",
    "['Dallas Fort Worth International Airport', '32.896801', '-97.038002'] with Envoy Air\n",
    "```\n"
   ]
  },
  {
   "cell_type": "code",
   "execution_count": 17,
   "metadata": {},
   "outputs": [
    {
     "data": {
      "text/plain": [
       "('DFW', 490, 'MQ', False)"
      ]
     },
     "execution_count": 17,
     "metadata": {},
     "output_type": "execute_result"
    }
   ],
   "source": [
    "def step(pos0,airportl,m,t,prints=False):\n",
    "    if prints==True:\n",
    "        print(dicoAir[pos0])\n",
    "    bloque=False\n",
    "    possibleLinks=[]\n",
    "    car=\"none\"\n",
    "    for link in m.giveLinks().giveListOfLinks():\n",
    "        if link.giveNodes()[0].giveNode()==pos0:\n",
    "            possibleLinks.append(link)\n",
    "            #print(link.giveLabel())\n",
    "            #print(dicoAir[(link.giveLabel()[1])],dicoCarreer[link.giveLabel()[2][0]])\n",
    "    if len(possibleLinks)==0:\n",
    "        bloque=True\n",
    "        pos1=pos0\n",
    "        print(\"no neighbours\")\n",
    "        t1=t\n",
    "    else:\n",
    "        #print(\"----------------------------\")\n",
    "        li=randint(0,len(possibleLinks)-1)\n",
    "        link0=possibleLinks[li]\n",
    "        #link0.printLink()\n",
    "        #print(link0.giveLabel())\n",
    "        pos1=link0.giveNodes()[1].giveNode()\n",
    "        intervalsL=link0.giveIntervals()\n",
    "        i=0\n",
    "        car=link0.giveLabel()[2][0]\n",
    "        while i<len(intervalsL) and intervalsL[i].begining()<t :\n",
    "            i=i+1\n",
    "        if i==len(intervalsL):\n",
    "            bloque=True\n",
    "            t1=t\n",
    "            print(\"timeout\")\n",
    "        else:\n",
    "            t1=intervalsL[i].end()\n",
    "    return(pos1,t1,car,bloque)\n",
    "\n",
    "pos0=airportl[randint(0,len(airportl)-1)]\n",
    "step(pos0,airportl,m,0)"
   ]
  },
  {
   "cell_type": "markdown",
   "metadata": {},
   "source": [
    "From that, we compute the random walk: "
   ]
  },
  {
   "cell_type": "code",
   "execution_count": 19,
   "metadata": {},
   "outputs": [
    {
     "name": "stdout",
     "output_type": "stream",
     "text": [
      "SFB 0\n",
      "['Orlando Sanford International Airport', '28.777599334716797', '-81.23750305175781']\n",
      "SBN 1988\n",
      "['South Bend Regional Airport', '41.70869827270508', '-86.31729888916016']\n",
      "ATL 2320\n",
      "['Hartsfield Jackson Atlanta International Airport', '33.6367', '-84.428101']\n",
      "ABQ 2725\n",
      "['Albuquerque International Sunport', '35.040199', '-106.609001']\n",
      "PHX 3501\n",
      "['Phoenix Sky Harbor International Airport', '33.43429946899414', '-112.01200103759766']\n",
      "SFO 3710\n",
      "['San Francisco International Airport', '37.61899948120117', '-122.375']\n",
      "TUS 4144\n",
      "['Tucson International Airport', '32.1161003112793', '-110.94100189208984']\n",
      "SEA 5320\n",
      "['Seattle Tacoma International Airport', '47.449001', '-122.308998']\n",
      "HNL 5640\n",
      "['Daniel K Inouye International Airport', '21.32062', '-157.924228']\n",
      "ANC 7507\n",
      "['Ted Stevens Anchorage International Airport', '61.174400329589844', '-149.99600219726562']\n",
      "ORD 8940\n",
      "[\"Chicago O'Hare International Airport\", '41.9786', '-87.9048']\n",
      "MHK 9544\n",
      "['Manhattan Regional Airport', '39.14099884033203', '-96.6707992553711']\n",
      "DFW 9720\n",
      "['Dallas Fort Worth International Airport', '32.896801', '-97.038002']\n",
      "GSO 10078\n",
      "['Piedmont Triad International Airport', '36.097801208496094', '-79.93730163574219']\n",
      "PIE 15337\n",
      "['St Petersburg Clearwater International Airport', '27.91020012', '-82.68740082']\n",
      "CVG 16561\n",
      "['Cincinnati Northern Kentucky International Airport', '39.0488014221', '-84.6678009033']\n",
      "IAH 16853\n",
      "['George Bush Intercontinental Houston Airport', '29.984399795532227', '-95.34140014648438']\n",
      "LAS 17030\n",
      "['McCarran International Airport', '36.08010101', '-115.1520004']\n",
      "ORD 18134\n",
      "[\"Chicago O'Hare International Airport\", '41.9786', '-87.9048']\n",
      "SMF 18642\n",
      "['Sacramento International Airport', '38.69540023803711', '-121.59100341796875']\n",
      "timeout\n",
      "LAX 0\n",
      "['Los Angeles International Airport', '33.94250107', '-118.4079971']\n",
      "LIH 760\n",
      "['Lihue Airport', '21.97599983215332', '-159.33900451660156']\n",
      "PDX 1239\n",
      "['Portland International Airport', '45.58869934', '-122.5979996']\n",
      "DCA 2503\n",
      "['Ronald Reagan Washington National Airport', '38.8521', '-77.037697']\n",
      "SDF 3593\n",
      "['Louisville International Standiford Field', '38.1744', '-85.736']\n",
      "DFW 3714\n",
      "['Dallas Fort Worth International Airport', '32.896801', '-97.038002']\n",
      "BHM 3873\n",
      "['Birmingham-Shuttlesworth International Airport', '33.56290054', '-86.75350189']\n",
      "DFW 4036\n",
      "['Dallas Fort Worth International Airport', '32.896801', '-97.038002']\n",
      "TUS 4305\n",
      "['Tucson International Airport', '32.1161003112793', '-110.94100189208984']\n",
      "DEN 4865\n",
      "['Denver International Airport', '39.861698150635', '-104.672996521']\n",
      "IAD 5280\n",
      "['Washington Dulles International Airport', '38.94449997', '-77.45580292']\n",
      "CLE 10043\n",
      "['Cleveland Hopkins International Airport', '41.4117012024', '-81.8498001099']\n",
      "JFK 10626\n",
      "['John F Kennedy International Airport', '40.63980103', '-73.77890015']\n",
      "CHS 11045\n",
      "['Charleston Air Force Base-International Airport', '32.89860153', '-80.04049683']\n",
      "timeout\n",
      "JFK 0\n",
      "['John F Kennedy International Airport', '40.63980103', '-73.77890015']\n",
      "ORH 1422\n",
      "['Worcester Regional Airport', '42.26729965209961', '-71.87570190429688']\n",
      "MCO 2645\n",
      "['Orlando International Airport', '28.429399490356445', '-81.30899810791016']\n",
      "JFK 3628\n",
      "['John F Kennedy International Airport', '40.63980103', '-73.77890015']\n",
      "ORF 3964\n",
      "['Norfolk International Airport', '36.89459991455078', '-76.20120239257812']\n",
      "timeout\n",
      "BOS 0\n",
      "['General Edward Lawrence Logan International Airport', '42.36429977', '-71.00520325']\n",
      "SEA 652\n",
      "['Seattle Tacoma International Airport', '47.449001', '-122.308998']\n",
      "PHL 2365\n",
      "['Philadelphia International Airport', '39.87189865112305', '-75.24109649658203']\n",
      "SEA 3555\n",
      "['Seattle Tacoma International Airport', '47.449001', '-122.308998']\n",
      "LAS 3708\n",
      "['McCarran International Airport', '36.08010101', '-115.1520004']\n",
      "BWI 4200\n",
      "['Baltimore/Washington International Thurgood Marshall Airport', '39.1754', '-76.668297']\n",
      "IND 4935\n",
      "['Indianapolis International Airport', '39.7173', '-86.294403']\n",
      "FLL 6897\n",
      "['Fort Lauderdale Hollywood International Airport', '26.072599', '-80.152702']\n",
      "ATL 7687\n",
      "['Hartsfield Jackson Atlanta International Airport', '33.6367', '-84.428101']\n",
      "AUS 7833\n",
      "['Austin Bergstrom International Airport', '30.194499969482422', '-97.6698989868164']\n",
      "ATL 8145\n",
      "['Hartsfield Jackson Atlanta International Airport', '33.6367', '-84.428101']\n",
      "MSP 9616\n",
      "['Minneapolis-St Paul International/Wold-Chamberlain Airport', '44.882', '-93.221802']\n",
      "MEM 9856\n",
      "['Memphis International Airport', '35.04240036010742', '-89.97669982910156']\n",
      "DEN 12703\n",
      "['Denver International Airport', '39.861698150635', '-104.672996521']\n",
      "SMF 13734\n",
      "['Sacramento International Airport', '38.69540023803711', '-121.59100341796875']\n",
      "HNL 15060\n",
      "['Daniel K Inouye International Airport', '21.32062', '-157.924228']\n",
      "SJC 17125\n",
      "['Norman Y. Mineta San Jose International Airport', '37.362598', '-121.929001']\n",
      "PDX 17930\n",
      "['Portland International Airport', '45.58869934', '-122.5979996']\n",
      "DEN 18277\n",
      "['Denver International Airport', '39.861698150635', '-104.672996521']\n",
      "timeout\n",
      "BNA 0\n",
      "['Nashville International Airport', '36.1245002746582', '-86.6781997680664']\n",
      "PHL 1059\n",
      "['Philadelphia International Airport', '39.87189865112305', '-75.24109649658203']\n",
      "LAX 2650\n",
      "['Los Angeles International Airport', '33.94250107', '-118.4079971']\n",
      "TUS 2860\n",
      "['Tucson International Airport', '32.1161003112793', '-110.94100189208984']\n",
      "OAK 8430\n",
      "['Metropolitan Oakland International Airport', '37.721298', '-122.221001']\n",
      "LAS 9087\n",
      "['McCarran International Airport', '36.08010101', '-115.1520004']\n",
      "AMA 9585\n",
      "['Rick Husband Amarillo International Airport', '35.219398', '-101.706001']\n",
      "timeout\n",
      "DFW 0\n",
      "['Dallas Fort Worth International Airport', '32.896801', '-97.038002']\n",
      "JFK 694\n",
      "['John F Kennedy International Airport', '40.63980103', '-73.77890015']\n",
      "CLT 7083\n",
      "['Charlotte Douglas International Airport', '35.2140007019043', '-80.94309997558594']\n",
      "BTV 8019\n",
      "['Burlington International Airport', '44.471900939899996', '-73.15329742429999']\n",
      "IAD 8185\n",
      "['Washington Dulles International Airport', '38.94449997', '-77.45580292']\n",
      "LAS 8365\n",
      "['McCarran International Airport', '36.08010101', '-115.1520004']\n",
      "ONT 8475\n",
      "['Ontario International Airport', '34.055999755859375', '-117.60099792480469']\n",
      "DEN 11336\n",
      "['Denver International Airport', '39.861698150635', '-104.672996521']\n",
      "FCA 12359\n",
      "['Glacier Park International Airport', '48.31050109863281', '-114.25599670410156']\n",
      "DEN 17005\n",
      "['Denver International Airport', '39.861698150635', '-104.672996521']\n",
      "RNO 18042\n",
      "['Reno Tahoe International Airport', '39.49909973144531', '-119.76799774169922']\n",
      "DAL 18395\n",
      "['Dallas Love Field', '32.847099', '-96.851799']\n",
      "LIT 18620\n",
      "['Bill & Hillary Clinton National Airport/Adams Field', '34.729400634799994', '-92.2242965698']\n",
      "ATL 19238\n",
      "['Hartsfield Jackson Atlanta International Airport', '33.6367', '-84.428101']\n",
      "BUF 19439\n",
      "['Buffalo Niagara International Airport', '42.94049835', '-78.73220062']\n",
      "BOS 19781\n",
      "['General Edward Lawrence Logan International Airport', '42.36429977', '-71.00520325']\n",
      "timeout\n",
      "BUF 0\n",
      "['Buffalo Niagara International Airport', '42.94049835', '-78.73220062']\n",
      "RSW 16730\n",
      "['Southwest Florida International Airport', '26.53619956970215', '-81.75520324707031']\n",
      "CMH 18034\n",
      "['John Glenn Columbus International Airport', '39.998001', '-82.891899']\n",
      "BOS 18650\n",
      "['General Edward Lawrence Logan International Airport', '42.36429977', '-71.00520325']\n",
      "BWI 19272\n",
      "['Baltimore/Washington International Thurgood Marshall Airport', '39.1754', '-76.668297']\n",
      "LAS 20776\n",
      "['McCarran International Airport', '36.08010101', '-115.1520004']\n",
      "SLC 41593\n",
      "['Salt Lake City International Airport', '40.78839874267578', '-111.97799682617188']\n",
      "OAK 41736\n",
      "['Metropolitan Oakland International Airport', '37.721298', '-122.221001']\n",
      "BNA 42965\n",
      "['Nashville International Airport', '36.1245002746582', '-86.6781997680664']\n",
      "MSP 43695\n",
      "['Minneapolis-St Paul International/Wold-Chamberlain Airport', '44.882', '-93.221802']\n",
      "timeout\n",
      "ORD 0\n",
      "[\"Chicago O'Hare International Airport\", '41.9786', '-87.9048']\n",
      "CHO 881\n",
      "['Charlottesville Albemarle Airport', '38.13859939575195', '-78.4529037475586']\n",
      "LGA 1289\n",
      "['La Guardia Airport', '40.77719879', '-73.87259674']\n",
      "STL 2062\n",
      "['St Louis Lambert International Airport', '38.748697', '-90.370003']\n",
      "ORD 2709\n",
      "[\"Chicago O'Hare International Airport\", '41.9786', '-87.9048']\n",
      "BNA 4007\n",
      "['Nashville International Airport', '36.1245002746582', '-86.6781997680664']\n",
      "SLC 5579\n",
      "['Salt Lake City International Airport', '40.78839874267578', '-111.97799682617188']\n",
      "HNL 6715\n",
      "['Daniel K Inouye International Airport', '21.32062', '-157.924228']\n",
      "JFK 7615\n",
      "['John F Kennedy International Airport', '40.63980103', '-73.77890015']\n",
      "MCO 7866\n",
      "['Orlando International Airport', '28.429399490356445', '-81.30899810791016']\n",
      "DTW 8175\n",
      "['Detroit Metropolitan Wayne County Airport', '42.212398529052734', '-83.35340118408203']\n",
      "timeout\n",
      "AZO 0\n",
      "['Kalamazoo Battle Creek International Airport', '42.234901428222656', '-85.5521011352539']\n",
      "MSP 466\n",
      "['Minneapolis-St Paul International/Wold-Chamberlain Airport', '44.882', '-93.221802']\n",
      "FSD 1063\n",
      "['Joe Foss Field Airport', '43.582000732400004', '-96.741897583']\n",
      "DEN 9270\n",
      "['Denver International Airport', '39.861698150635', '-104.672996521']\n",
      "PDX 9440\n",
      "['Portland International Airport', '45.58869934', '-122.5979996']\n"
     ]
    },
    {
     "name": "stdout",
     "output_type": "stream",
     "text": [
      "SEA 10595\n",
      "['Seattle Tacoma International Airport', '47.449001', '-122.308998']\n",
      "ORD 11080\n",
      "[\"Chicago O'Hare International Airport\", '41.9786', '-87.9048']\n",
      "timeout\n",
      "ANC 0\n",
      "['Ted Stevens Anchorage International Airport', '61.174400329589844', '-149.99600219726562']\n",
      "PHX 1802\n",
      "['Phoenix Sky Harbor International Airport', '33.43429946899414', '-112.01200103759766']\n",
      "FLL 2595\n",
      "['Fort Lauderdale Hollywood International Airport', '26.072599', '-80.152702']\n",
      "LAX 3686\n",
      "['Los Angeles International Airport', '33.94250107', '-118.4079971']\n",
      "MCO 4230\n",
      "['Orlando International Airport', '28.429399490356445', '-81.30899810791016']\n",
      "ORF 5675\n",
      "['Norfolk International Airport', '36.89459991455078', '-76.20120239257812']\n",
      "MIA 6310\n",
      "['Miami International Airport', '25.79319953918457', '-80.29060363769531']\n",
      "CHS 7811\n",
      "['Charleston Air Force Base-International Airport', '32.89860153', '-80.04049683']\n",
      "CLT 8352\n",
      "['Charlotte Douglas International Airport', '35.2140007019043', '-80.94309997558594']\n",
      "MHT 8550\n",
      "['Manchester-Boston Regional Airport', '42.932598', '-71.435699']\n",
      "MCO 9315\n",
      "['Orlando International Airport', '28.429399490356445', '-81.30899810791016']\n",
      "FLL 9760\n",
      "['Fort Lauderdale Hollywood International Airport', '26.072599', '-80.152702']\n",
      "JAX 10020\n",
      "['Jacksonville International Airport', '30.49410057067871', '-81.68789672851562']\n",
      "PHL 11239\n",
      "['Philadelphia International Airport', '39.87189865112305', '-75.24109649658203']\n",
      "timeout\n"
     ]
    },
    {
     "data": {
      "text/plain": [
       "['IAD',\n",
       " 0,\n",
       " array([0, 0, 1, 0, 0, 0, 0, 0, 0, 0, 0, 0, 0, 0, 1, 2, 0, 0, 0, 4, 0, 1,\n",
       "        0, 0, 0, 1, 0, 0, 0, 0, 0, 0, 1, 0, 0, 0, 0, 0, 0, 3, 0, 3, 0, 0,\n",
       "        0, 0, 0, 0, 0, 0, 1, 2, 0, 2, 0, 0, 0, 0, 0, 0, 0, 1, 2, 0, 0, 0,\n",
       "        1, 0, 2, 1, 0, 0, 0, 0, 0, 0, 0, 0, 0, 0, 1, 0, 0, 0, 1, 0, 0, 1,\n",
       "        6, 4, 0, 0, 0, 0, 0, 1, 0, 0, 0, 0, 0, 0, 0, 0, 0, 0, 0, 0, 0, 0,\n",
       "        0, 0, 0, 0, 0, 1, 0, 3, 0, 1, 0, 0, 0, 0, 0, 0, 0, 0, 0, 0, 0, 0,\n",
       "        0, 0, 1, 0, 0, 0, 0, 0, 0, 0, 0, 0, 0, 3, 0, 0, 0, 0, 0, 0, 0, 0,\n",
       "        3, 0, 1, 0, 0, 0, 0, 1, 0, 0, 0, 0, 0, 0, 0, 1, 5, 0, 0, 0, 0, 0,\n",
       "        0, 0, 5, 0, 3, 0, 0, 0, 0, 0, 0, 0, 0, 1, 0, 1, 1, 0, 0, 0, 0, 0,\n",
       "        0, 0, 0, 0, 4, 0, 0, 0, 1, 0, 0, 0, 1, 1, 1, 0, 0, 0, 0, 0, 0, 0,\n",
       "        0, 0, 0, 0, 0, 3, 0, 0, 0, 0, 2, 0, 0, 0, 0, 0, 0, 1, 5, 2, 1, 0,\n",
       "        0, 0, 0, 0, 0, 3, 0, 0, 3, 2, 0, 0, 1, 0, 0, 0, 0, 0, 0, 0, 0, 0,\n",
       "        0, 0, 0, 0, 0, 0, 0, 0, 0, 0, 0, 0, 0, 0, 1, 0, 0, 0, 0, 1, 0, 0,\n",
       "        0, 0, 0, 1, 0, 0, 0, 0, 1, 4, 0, 1, 0, 0, 0, 0, 0, 1, 0, 0, 2, 0,\n",
       "        2, 0, 0, 0, 0, 0, 0, 0, 1, 0, 0, 0, 0, 0, 0, 0, 0, 0, 0, 0, 0, 0,\n",
       "        0, 3, 0, 0, 0, 0, 0, 0, 0, 0, 0, 0, 0, 0, 0, 0]),\n",
       " array([ 3,  9,  9,  5, 19,  1,  3,  4,  2,  9,  5,  4,  8, 11, 19,  7,  5])]"
      ]
     },
     "execution_count": 19,
     "metadata": {},
     "output_type": "execute_result"
    }
   ],
   "source": [
    "def randomWalk(airportl,m,t,collect=\"coverage\",prints=False,boucles=1):\n",
    "    pos0=airportl[randint(0,len(airportl)-1)]\n",
    "    t=0\n",
    "    bloque=False\n",
    "    i=0\n",
    "    b=0\n",
    "    if collect==\"coverage\":\n",
    "        airports=np.array([0 for i in range(len(airportl))])\n",
    "        compagnies=np.array([0 for i in range(len(carL))])\n",
    "    if collect==\"firstTimeToReach\":\n",
    "        airports=np.array([tend for i in range(len(airportl))])\n",
    "        compagnies=np.array([tend for i in range(len(carL))])\n",
    "    while bloque==False and b<boucles:\n",
    "        if prints==True:\n",
    "            print(pos0,t)\n",
    "        pos0,t,car,bloque=step(pos0,airportl,m,t,prints=prints)\n",
    "        if bloque==True:\n",
    "            b=b+1\n",
    "            t=0\n",
    "            bloque=False\n",
    "        if collect==\"coverage\":\n",
    "            airports[airportl.index(pos0)]=airports[airportl.index(pos0)]+1\n",
    "            compagnies[carL.index(car)]=compagnies[carL.index(car)]+1\n",
    "        if collect==\"firstTimeToReach\":\n",
    "            if airports[airportl.index(pos0)]==tend:\n",
    "                airports[airportl.index(pos0)]=t\n",
    "            if compagnies[carL.index(car)]== tend:\n",
    "                compagnies[carL.index(car)]=t\n",
    "        i=i+1\n",
    "    return([pos0,t,airports,compagnies])\n",
    "\n",
    "randomWalk(airportl,m,0,prints=True,boucles=10)"
   ]
  },
  {
   "cell_type": "markdown",
   "metadata": {},
   "source": [
    "We compute then a great amount of random walks, collecting several informations:"
   ]
  },
  {
   "cell_type": "markdown",
   "metadata": {},
   "source": [
    "- the coverage"
   ]
  },
  {
   "cell_type": "code",
   "execution_count": 35,
   "metadata": {},
   "outputs": [
    {
     "name": "stdout",
     "output_type": "stream",
     "text": [
      "randomwalk n 0\n",
      "timeout\n",
      "timeout\n",
      "timeout\n",
      "timeout\n",
      "timeout\n",
      "timeout\n",
      "timeout\n",
      "timeout\n",
      "timeout\n",
      "timeout\n",
      "randomwalk n 1\n",
      "timeout\n",
      "timeout\n",
      "timeout\n",
      "timeout\n",
      "timeout\n",
      "timeout\n",
      "timeout\n",
      "timeout\n",
      "timeout\n",
      "timeout\n",
      "randomwalk n 2\n",
      "timeout\n",
      "timeout\n",
      "timeout\n",
      "timeout\n",
      "timeout\n",
      "timeout\n",
      "timeout\n",
      "timeout\n",
      "timeout\n",
      "timeout\n",
      "randomwalk n 3\n",
      "timeout\n",
      "timeout\n",
      "timeout\n",
      "timeout\n",
      "timeout\n",
      "timeout\n",
      "timeout\n",
      "timeout\n",
      "timeout\n",
      "timeout\n",
      "randomwalk n 4\n",
      "timeout\n",
      "timeout\n",
      "timeout\n",
      "timeout\n",
      "timeout\n",
      "timeout\n",
      "timeout\n",
      "timeout\n",
      "timeout\n",
      "timeout\n",
      "randomwalk n 5\n",
      "timeout\n",
      "timeout\n",
      "timeout\n",
      "timeout\n",
      "timeout\n",
      "timeout\n",
      "timeout\n",
      "timeout\n",
      "timeout\n",
      "timeout\n",
      "randomwalk n 6\n",
      "timeout\n",
      "timeout\n",
      "timeout\n",
      "timeout\n",
      "timeout\n",
      "timeout\n",
      "timeout\n",
      "timeout\n",
      "timeout\n",
      "timeout\n",
      "randomwalk n 7\n",
      "timeout\n",
      "timeout\n",
      "timeout\n",
      "timeout\n",
      "timeout\n",
      "timeout\n",
      "timeout\n",
      "timeout\n",
      "timeout\n",
      "timeout\n",
      "randomwalk n 8\n",
      "timeout\n",
      "timeout\n",
      "timeout\n",
      "timeout\n",
      "timeout\n",
      "timeout\n",
      "timeout\n",
      "timeout\n",
      "timeout\n",
      "timeout\n",
      "randomwalk n 9\n",
      "timeout\n",
      "timeout\n",
      "timeout\n",
      "timeout\n",
      "timeout\n",
      "timeout\n",
      "timeout\n",
      "timeout\n",
      "timeout\n",
      "timeout\n"
     ]
    }
   ],
   "source": [
    "covAirports=np.array([0 for i in range(len(airportl))])\n",
    "covCompagnies=np.array([0 for i in range(len(carL))])\n",
    "airports=np.array([0 for i in (airportl)])\n",
    "t=0\n",
    "for i in range(10):\n",
    "    print(\"randomwalk n\", i)\n",
    "    vect=randomWalk(airportl,m,t,boucles=10)\n",
    "    airports=vect[2]\n",
    "    compagnies=vect[3]\n",
    "    covAirports=np.add(covAirports,airports)\n",
    "    covCompagnies=np.add(covCompagnies,compagnies)"
   ]
  },
  {
   "cell_type": "code",
   "execution_count": 21,
   "metadata": {},
   "outputs": [
    {
     "data": {
      "image/png": "[encoded data removed]",
      "text/plain": [
       "<Figure size 432x288 with 1 Axes>"
      ]
     },
     "metadata": {
      "needs_background": "light"
     },
     "output_type": "display_data"
    }
   ],
   "source": [
    "axes = plt.gca()\n",
    "plt.plot(covAirports,pr,'o')\n",
    "axes.set_ylabel('Page Rank')\n",
    "axes.set_xlabel('coverage by random walker')\n",
    "plt.savefig(\"prVSrw.pdf\")\n",
    "plt.show()"
   ]
  },
  {
   "cell_type": "code",
   "execution_count": 22,
   "metadata": {},
   "outputs": [
    {
     "data": {
      "image/png": "[encoded data removed]",
      "text/plain": [
       "<Figure size 432x288 with 1 Axes>"
      ]
     },
     "metadata": {
      "needs_background": "light"
     },
     "output_type": "display_data"
    }
   ],
   "source": [
    "axes = plt.gca()\n",
    "plt.plot(covAirports,bt,'o')\n",
    "axes.set_ylabel('Betweenness centrality')\n",
    "axes.set_xlabel('coverage by random walker')\n",
    "plt.savefig('bcVScovrw.pdf')\n",
    "plt.show()"
   ]
  },
  {
   "cell_type": "code",
   "execution_count": 23,
   "metadata": {},
   "outputs": [
    {
     "data": {
      "image/png": "[encoded data removed]",
      "text/plain": [
       "<Figure size 432x288 with 1 Axes>"
      ]
     },
     "metadata": {
      "needs_background": "light"
     },
     "output_type": "display_data"
    }
   ],
   "source": [
    "axes=plt.gca()\n",
    "plt.plot(covCompagnies,vectp,'o')\n",
    "axes.set_ylabel('intrication')\n",
    "axes.set_xlabel('coverage compagnies by random walker')\n",
    "plt.show()\n"
   ]
  },
  {
   "cell_type": "markdown",
   "metadata": {},
   "source": [
    "- the first time to reach"
   ]
  },
  {
   "cell_type": "code",
   "execution_count": 39,
   "metadata": {},
   "outputs": [
    {
     "name": "stdout",
     "output_type": "stream",
     "text": [
      "randomwalk n 0\n",
      "timeout\n",
      "timeout\n",
      "timeout\n",
      "timeout\n",
      "timeout\n",
      "timeout\n",
      "timeout\n",
      "timeout\n",
      "timeout\n",
      "timeout\n",
      "randomwalk n 1\n",
      "timeout\n",
      "timeout\n",
      "timeout\n",
      "timeout\n",
      "timeout\n",
      "timeout\n",
      "timeout\n",
      "timeout\n",
      "timeout\n",
      "timeout\n",
      "randomwalk n 2\n",
      "timeout\n",
      "timeout\n",
      "timeout\n",
      "timeout\n",
      "timeout\n",
      "timeout\n",
      "timeout\n",
      "timeout\n",
      "timeout\n",
      "timeout\n",
      "randomwalk n 3\n",
      "timeout\n",
      "timeout\n",
      "timeout\n",
      "timeout\n",
      "timeout\n",
      "timeout\n",
      "timeout\n",
      "timeout\n",
      "timeout\n",
      "timeout\n",
      "randomwalk n 4\n",
      "timeout\n",
      "timeout\n",
      "timeout\n",
      "timeout\n",
      "timeout\n",
      "timeout\n",
      "timeout\n",
      "timeout\n",
      "timeout\n",
      "timeout\n",
      "randomwalk n 5\n",
      "timeout\n",
      "timeout\n",
      "timeout\n",
      "timeout\n",
      "timeout\n",
      "timeout\n",
      "timeout\n",
      "timeout\n",
      "timeout\n",
      "timeout\n",
      "randomwalk n 6\n",
      "timeout\n",
      "timeout\n",
      "timeout\n",
      "timeout\n",
      "timeout\n",
      "timeout\n",
      "timeout\n",
      "timeout\n",
      "timeout\n",
      "timeout\n",
      "randomwalk n 7\n",
      "timeout\n",
      "timeout\n",
      "timeout\n",
      "timeout\n",
      "timeout\n",
      "timeout\n",
      "timeout\n",
      "timeout\n",
      "timeout\n",
      "timeout\n",
      "randomwalk n 8\n",
      "timeout\n",
      "timeout\n",
      "timeout\n",
      "timeout\n",
      "timeout\n",
      "timeout\n",
      "timeout\n",
      "timeout\n",
      "timeout\n",
      "timeout\n",
      "randomwalk n 9\n",
      "timeout\n",
      "timeout\n",
      "timeout\n",
      "timeout\n",
      "timeout\n",
      "timeout\n",
      "timeout\n",
      "timeout\n",
      "timeout\n",
      "timeout\n"
     ]
    }
   ],
   "source": [
    "ftrAirports=np.array([0 for i in range(len(airportl))])\n",
    "ftrCompagnies=np.array([0 for i in range(len(carL))])\n",
    "airports=np.array([0 for i in (airportl)])\n",
    "t=0\n",
    "for i in range(10):\n",
    "    print(\"randomwalk n\", i)\n",
    "    vect=randomWalk(airportl,m,t,collect=\"firstTimeToReach\",boucles=10)\n",
    "    airports=vect[2]\n",
    "    compagnies=vect[3]\n",
    "    ftrAirports=np.add(covAirports,airports)\n",
    "    ftrCompagnies=np.add(covCompagnies,compagnies)"
   ]
  },
  {
   "cell_type": "code",
   "execution_count": 40,
   "metadata": {},
   "outputs": [
    {
     "data": {
      "image/png": "[encoded data removed]",
      "text/plain": [
       "<Figure size 432x288 with 1 Axes>"
      ]
     },
     "metadata": {
      "needs_background": "light"
     },
     "output_type": "display_data"
    }
   ],
   "source": [
    "axes = plt.gca()\n",
    "plt.plot(ftrAirports,pr,'o')\n",
    "axes.set_ylabel('Page Rank')\n",
    "axes.set_xlabel('firstTimeToReach')\n",
    "plt.show()"
   ]
  },
  {
   "cell_type": "code",
   "execution_count": 41,
   "metadata": {},
   "outputs": [
    {
     "data": {
      "image/png": "[encoded data removed]",
      "text/plain": [
       "<Figure size 432x288 with 1 Axes>"
      ]
     },
     "metadata": {
      "needs_background": "light"
     },
     "output_type": "display_data"
    }
   ],
   "source": [
    "axes = plt.gca()\n",
    "plt.plot(ftrAirports,bt,'o')\n",
    "axes.set_ylabel('Betweenness centrality')\n",
    "axes.set_xlabel('first time to reach')\n",
    "plt.show()"
   ]
  },
  {
   "cell_type": "code",
   "execution_count": 25,
   "metadata": {},
   "outputs": [],
   "source": [
    "nnodes=[121,102,70,68,145,101,90,120,18,134,43,95,239,108,85,103,87]\n",
    "nlinks=[488,721,326,362,834,368,522,614,62,419,366,325,1358,715,1378,335,661]"
   ]
  },
  {
   "cell_type": "code",
   "execution_count": 26,
   "metadata": {},
   "outputs": [
    {
     "name": "stdout",
     "output_type": "stream",
     "text": [
      "['9E', 'AA', 'AS', 'B6', 'DL', 'EV', 'F9', 'G4', 'HA', 'MQ', 'NK', 'OH', 'OO', 'UA', 'WN', 'YV', 'YX']\n"
     ]
    },
    {
     "data": {
      "image/png": "[encoded data removed]",
      "text/plain": [
       "<Figure size 432x288 with 1 Axes>"
      ]
     },
     "metadata": {
      "needs_background": "light"
     },
     "output_type": "display_data"
    }
   ],
   "source": [
    "axes=plt.gca()\n",
    "plt.plot(covCompagnies,vectp,'o')\n",
    "axes.set_ylabel('intrication')\n",
    "axes.set_xlabel('coverage compagnies by random walker')\n",
    "print(carL)\n",
    "ni=0\n",
    "for i in carL:\n",
    "    text = axes.text(covCompagnies[ni],vectp[ni],i,ha=\"left\", va=\"center\", color=\"b\")\n",
    "    ni=ni+1\n",
    "plt.show()\n"
   ]
  },
  {
   "cell_type": "code",
   "execution_count": 37,
   "metadata": {},
   "outputs": [
    {
     "name": "stdout",
     "output_type": "stream",
     "text": [
      "[0.49586776859504134, 1.1274509803921569, 1.0285714285714285, 0.7352941176470589, 0.7517241379310344, 0.5643564356435643, 1.1222222222222222, 0.7666666666666667, 0.6111111111111112, 0.5223880597014925, 1.186046511627907, 0.49473684210526314, 0.8786610878661087, 0.9814814814814815, 2.388235294117647, 0.5145631067961165, 1.2873563218390804]\n"
     ]
    },
    {
     "data": {
      "image/png": "[encoded data removed]",
      "text/plain": [
       "<Figure size 432x288 with 1 Axes>"
      ]
     },
     "metadata": {
      "needs_background": "light"
     },
     "output_type": "display_data"
    }
   ],
   "source": [
    "cov2=[covCompagnies[i]/nnodes[i] for i in range(len(carL))]\n",
    "axes=plt.gca()\n",
    "plt.plot(cov2,vectp,'o')\n",
    "axes.set_ylabel('intrication')\n",
    "axes.set_xlabel('coverage compagnies by random walker')\n",
    "print(cov2)\n",
    "ni=0\n",
    "for i in carL:\n",
    "    text = axes.text(cov2[ni],vectp[ni],i,ha=\"left\", va=\"center\", color=\"b\")\n",
    "    ni=ni+1\n",
    "plt.show()"
   ]
  },
  {
   "cell_type": "code",
   "execution_count": 36,
   "metadata": {},
   "outputs": [
    {
     "name": "stdout",
     "output_type": "stream",
     "text": [
      "[0.12295081967213115, 0.15950069348127602, 0.22085889570552147, 0.13812154696132597, 0.13069544364508393, 0.15489130434782608, 0.19348659003831417, 0.1498371335504886, 0.1774193548387097, 0.16706443914081145, 0.13934426229508196, 0.14461538461538462, 0.15463917525773196, 0.14825174825174825, 0.14731494920174165, 0.1582089552238806, 0.16944024205748864]\n"
     ]
    },
    {
     "data": {
      "image/png": "[encoded data removed]",
      "text/plain": [
       "<Figure size 432x288 with 1 Axes>"
      ]
     },
     "metadata": {
      "needs_background": "light"
     },
     "output_type": "display_data"
    }
   ],
   "source": [
    "cov3=[covCompagnies[i]/nlinks[i] for i in range(len(carL))]\n",
    "axes=plt.gca()\n",
    "plt.plot(cov3,vectp,'o')\n",
    "axes.set_ylabel('intrication')\n",
    "axes.set_xlabel('coverage compagnies by random walker divided by number of links in the compagny')\n",
    "print(cov3)\n",
    "ni=0\n",
    "for i in carL:\n",
    "    text = axes.text(cov3[ni],vectp[ni],i,ha=\"left\", va=\"center\", color=\"b\")\n",
    "    ni=ni+1\n",
    "plt.show()"
   ]
  }
 ],
 "metadata": {
  "kernelspec": {
   "display_name": "Python 3",
   "language": "python",
   "name": "python3"
  },
  "language_info": {
   "codemirror_mode": {
    "name": "ipython",
    "version": 3
   },
   "file_extension": ".py",
   "mimetype": "text/x-python",
   "name": "python",
   "nbconvert_exporter": "python",
   "pygments_lexer": "ipython3",
   "version": "3.7.3"
  }
 },
 "nbformat": 4,
 "nbformat_minor": 2
}
