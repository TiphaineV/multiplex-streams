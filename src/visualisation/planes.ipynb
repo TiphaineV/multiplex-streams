{
 "cells": [
  {
   "cell_type": "markdown",
   "metadata": {},
   "source": [
    "# Datas "
   ]
  },
  {
   "cell_type": "markdown",
   "metadata": {},
   "source": [
    "- Source for airports locations: https://openflights.org/data.html (file airlines.dat)\n",
    "- Source for american airlines: https://www.transtats.bts.gov/DL_SelectFields.asp?Table_ID=236\n"
   ]
  },
  {
   "cell_type": "code",
   "execution_count": 19,
   "metadata": {},
   "outputs": [],
   "source": [
    "from visuMultiStream import *\n",
    "from intervals import *\n",
    "from structure import *\n",
    "from elemMSGraph import *\n",
    "from multiLayers import *\n",
    "from sortedcollection import *\n",
    "from matrices import *\n",
    "from random import *\n",
    "import seaborn as sns\n",
    "\n",
    "from tulip import tlp\n",
    "import scipy.linalg\n"
   ]
  },
  {
   "cell_type": "markdown",
   "metadata": {},
   "source": [
    "Echelle de temps : 1 semaine"
   ]
  },
  {
   "cell_type": "code",
   "execution_count": 5,
   "metadata": {},
   "outputs": [
    {
     "name": "stdout",
     "output_type": "stream",
     "text": [
      "44640\n"
     ]
    }
   ],
   "source": [
    "t0=0\n",
    "tend=24*60*31\n",
    "\n",
    "print(tend)\n",
    "\n",
    "interval=Interval(t0,tend)"
   ]
  },
  {
   "cell_type": "code",
   "execution_count": 3,
   "metadata": {},
   "outputs": [],
   "source": [
    "def convertToMinutes(day,hour,minutes):\n",
    "    return((day-1)*24*60+hour*60+minutes)\n",
    "\n",
    "\n",
    "\n",
    "def readAirports(airportl):\n",
    "    dicoAir={}\n",
    "    f=open(\"planes/airports.dat\",\"r\",encoding=\"utf8\")\n",
    "    #print(f)\n",
    "    lste=[]\n",
    "    for line in f:\n",
    "        line=line.replace(\"\\\"\",'')\n",
    "        tab=line.split(\",\")\n",
    "        ida=tab[4]\n",
    "        namea=tab[1]\n",
    "        country=tab[3]\n",
    "        #print(ida)\n",
    "        if (ida in dicoAir)==False and (ida in airportl):\n",
    "            lat=tab[6]\n",
    "            long=tab[7]\n",
    "            dicoAir[ida]=[namea,lat,long]\n",
    "            lste.append(NodeT(ida,IntervalList([interval])))\n",
    "    return(dicoAir,lste)\n",
    "    \n",
    "\n",
    "def readLinks():\n",
    "    f=open(\"planes/linksmonth.csv\",'r')\n",
    "    n=0\n",
    "    em=LinkList([])\n",
    "    careersl=[]\n",
    "    airportl=[]\n",
    "    airportPerLay={}\n",
    "    for line in f:\n",
    "        if n>0:\n",
    "            line=line.replace(\"\\\"\",'')\n",
    "            tab=line.split(\",\")\n",
    "            date=int(tab[0].split(\"-\")[2])\n",
    "            career=tab[1]\n",
    "            origin=tab[2]\n",
    "            dest=tab[3]\n",
    "            dept=int(tab[4][0]+tab[4][1])*60+int(tab[4][2]+tab[4][3])\n",
    "            if len(tab[5])>0:\n",
    "                arrival=int(tab[6][0]+tab[6][1])*60+int(tab[6][2]+tab[6][3])\n",
    "                inter=Interval((date-1)*24*60+dept,(date-1)*24*60+arrival)\n",
    "                if arrival<=dept:\n",
    "                    inter=Interval((date-1)*24*60+dept,(date)*24*60+arrival)\n",
    "                if not (career in careersl):\n",
    "                    careersl.append(career)\n",
    "                if not (origin in airportl):\n",
    "                    airportl.append(origin)\n",
    "                if not (dest in airportl):\n",
    "                    airportl.append(dest)\n",
    "                if (career in airportPerLay.keys())==False:\n",
    "                    airportPerLay[career]=[]\n",
    "                if not origin in airportPerLay[career]:\n",
    "                    airportPerLay[career].append(origin)\n",
    "                if not dest in airportPerLay[career]:\n",
    "                    airportPerLay[career].append(dest)\n",
    "                em.addLink(Link(IntervalList([inter]),NodeT(origin,IntervalList([interval])),[career],NodeT(dest,IntervalList([interval])),[career],directed=0),cond=0)\n",
    "        n=n+1\n",
    "    return(em,sorted(careersl),sorted(airportl),airportPerLay)\n",
    "\n",
    "    \n",
    "def readCarriers(carL):\n",
    "    f=open(\"planes/L_UNIQUE_CARRIERS.csv\",\"r\")\n",
    "    n=0\n",
    "    liste=[]\n",
    "    dicoCarreer={}\n",
    "    for line in f :\n",
    "        if n>0:\n",
    "            line=line.replace(\"\\\"\",'')\n",
    "            tab=line.split(\",\")\n",
    "            tab[-1]=tab[-1].rstrip(\"\\n\")\n",
    "            code=tab[0]\n",
    "            name=tab[1]\n",
    "            if (code in liste) == False and (code in carL)==True :\n",
    "                liste.append(code)\n",
    "                dicoCarreer[code]=name\n",
    "        n=n+1\n",
    "    comp=Aspect(\"carrier\",liste)\n",
    "    return(comp,dicoCarreer)"
   ]
  },
  {
   "cell_type": "markdown",
   "metadata": {},
   "source": [
    "# Principle :\n",
    "\n",
    "In the datasets, they are to many airports and carriers (not american and unused). So we begin to read the links to know which airports and carriers are used and we then read their datasets to collect their detailed informations (stored into dictionnaries)"
   ]
  },
  {
   "cell_type": "code",
   "execution_count": 7,
   "metadata": {},
   "outputs": [
    {
     "name": "stdout",
     "output_type": "stream",
     "text": [
      "extracting...\n",
      "layer ['9E']\n",
      "layer ['AA']\n",
      "layer ['AS']\n",
      "layer ['B6']\n",
      "layer ['DL']\n",
      "layer ['EV']\n",
      "layer ['F9']\n",
      "layer ['G4']\n",
      "layer ['HA']\n",
      "layer ['MQ']\n",
      "layer ['NK']\n",
      "layer ['OH']\n",
      "layer ['OO']\n",
      "layer ['UA']\n",
      "layer ['WN']\n",
      "layer ['YV']\n",
      "layer ['YX']\n"
     ]
    }
   ],
   "source": [
    "em,carL,airportl,airportperlay=readLinks()\n",
    "\n",
    "dicoAir,nodes=readAirports(airportl)\n",
    "\n",
    "laystr=LayerStruct([Aspect(\"compagnies\",carL)])\n",
    "listLay=[]\n",
    "\n",
    "carriers,dicoCarreer =readCarriers(carL)\n",
    "\n",
    "for l in carriers.giveElemLayer():\n",
    "    nl=NodeTList([])\n",
    "    for no in airportperlay[l]:\n",
    "        nl.addNodeT(NodeT(no,IntervalList([interval])))\n",
    "    listLay.append(Layer(laystr,[l],interval,nl))\n",
    "\n",
    "layers=LayerList(listLay)\n",
    "\n",
    "m=MultiStream(interval,laystr,layers,em)          \n",
    "\n",
    "multi=m.extractML()"
   ]
  },
  {
   "cell_type": "markdown",
   "metadata": {},
   "source": [
    "## Build the tulip file\n",
    "\n",
    "The differents layers corresponding to the different carriers are drawn in different colors. We build different subgraphs corresponding to each company.\n",
    "\n",
    "This is very useful for vizualisation (download tulip http://tulip.labri.fr/TulipDrupal/ ) to open the graph (double click on the graph on the bottom left and chose the \"geographic view\""
   ]
  },
  {
   "cell_type": "code",
   "execution_count": 8,
   "metadata": {},
   "outputs": [],
   "source": [
    "def makeGraph(m,airportl,carL,dicoAir,airportperlay):\n",
    "    graph=tlp.newGraph()\n",
    "    latitude=graph.getDoubleProperty(\"latitude\")\n",
    "    longitude=graph.getDoubleProperty(\"longitude\")\n",
    "    name = graph.getStringProperty(\"nameCity\")\n",
    "    code = graph.getStringProperty(\"code\")\n",
    "    couche = graph.getStringVectorProperty(\"compagnie\")\n",
    "    color = graph.getColorProperty(\"viewColor\")\n",
    "    k=len(carL)\n",
    "    colList=[(randint(0,255),randint(0,255),randint(0,255)) for i in range(k)]\n",
    "    for n in range(len(airportl)):\n",
    "        graph.addNode()\n",
    "        no=graph.nodes()[n]\n",
    "        code[no]=airportl[n]\n",
    "        listeAttributs=dicoAir[airportl[n]]\n",
    "        name[no]=listeAttributs[0]\n",
    "        latitude[no]=float(listeAttributs[1])\n",
    "        longitude[no]=float(listeAttributs[2])\n",
    "    n=0\n",
    "    for lay in m.giveLayers().giveLayers():\n",
    "        car=lay.giveLayerLabel()[0]\n",
    "        sub=graph.addSubGraph(car)\n",
    "        nliste=airportperlay[car]\n",
    "        for node1 in nliste :\n",
    "            no=graph.nodes()[airportl.index(node1)]\n",
    "            sub.addNode(no)\n",
    "        #print(car,len(sub.nodes()))\n",
    "    for e in m.giveLinks().giveListOfLinks():\n",
    "        n1=graph.nodes()[airportl.index(e.giveNodes()[0].giveNode())]\n",
    "        n2=graph.nodes()[airportl.index(e.giveNodes()[1].giveNode())]\n",
    "        graph.addEdge(n1,n2)\n",
    "        ed=graph.edges()[n]\n",
    "        n=n+1\n",
    "        couche[ed]=e.giveLabel()[2]\n",
    "        color[ed]=colList[carL.index(e.giveLabel()[2][0])]\n",
    "        sub=graph.subGraphs()[carL.index(e.giveLabel()[2][0])]\n",
    "        car=e.giveLabel()[2][0]\n",
    "        codenode=e.giveNodes()[0].giveNode()\n",
    "        n1=sub.nodes()[airportperlay[car].index(codenode)]\n",
    "        n2=sub.nodes()[airportperlay[e.giveLabel()[2][0]].index(e.giveNodes()[1].giveNode())]\n",
    "        sub.addEdge(ed)\n",
    "    tlp.saveGraph(graph,\"grapheplanes.tp\")\n",
    "    return(graph)\n",
    "\n",
    "graph=makeGraph(m,airportl,carL,dicoAir,airportperlay)"
   ]
  },
  {
   "cell_type": "markdown",
   "metadata": {},
   "source": [
    "We can then use the library \"tulip\" to compute classical measures: \n",
    "\n",
    "- page ranking: "
   ]
  },
  {
   "cell_type": "code",
   "execution_count": 9,
   "metadata": {},
   "outputs": [],
   "source": [
    "pagerank=graph.getDoubleProperty(\"pageRank\")\n",
    "params = tlp.getDefaultPluginParameters('Page Rank', graph)\n",
    "params[\"directed\"]=True\n",
    "\n",
    "success = graph.applyDoubleAlgorithm('Page Rank', pagerank, params)\n",
    "pr=[]\n",
    "for n in graph.getNodes():\n",
    "    pr.append(pagerank[n])"
   ]
  },
  {
   "cell_type": "markdown",
   "metadata": {},
   "source": [
    "- betweenness centrality:"
   ]
  },
  {
   "cell_type": "code",
   "execution_count": 15,
   "metadata": {},
   "outputs": [],
   "source": [
    "betweenness=graph.getDoubleProperty(\"betweeness\")\n",
    "params = tlp.getDefaultPluginParameters('Betweenness Centrality', graph)\n",
    "params[\"directed\"]=True\n",
    "\n",
    "success = graph.applyDoubleAlgorithm('Betweenness Centrality', betweenness, params)\n",
    "bt=[]\n",
    "for n in graph.getNodes():\n",
    "    bt.append(betweenness[n]) "
   ]
  },
  {
   "cell_type": "code",
   "execution_count": 13,
   "metadata": {},
   "outputs": [
    {
     "data": {
      "image/png": "[encoded data removed]",
      "text/plain": [
       "<Figure size 432x288 with 1 Axes>"
      ]
     },
     "metadata": {
      "needs_background": "light"
     },
     "output_type": "display_data"
    }
   ],
   "source": [
    "axes = plt.gca()\n",
    "plt.plot(bt,pr,'o')\n",
    "axes.set_ylabel('Page Rank')\n",
    "axes.set_xlabel('Betweenness centrality')\n",
    "plt.show()\n"
   ]
  },
  {
   "cell_type": "markdown",
   "metadata": {},
   "source": [
    "# Intrication\n",
    "\n",
    "We compute the Burt's matrix which is:\n",
    "\n",
    "$\\begin{pmatrix}\n",
    "P(1) & P(1|2) & P(1|3) & \\dots & P(1|n)\\\\\n",
    "P(2|1) & P(2) & P(2|3) & \\dots & P(2|n)\\\\\n",
    "\\vdots & \\vdots & \\ddots\\\\\n",
    "\\dots & \\dots & \\dots & \\dots & P(n)\n",
    "\\end{pmatrix}$\n",
    "\n",
    "$P(i)$ is the probability, taking a flight, that it exists in the compagny $C_i$.\n",
    "\n",
    "$P(i|j)$ is the probability, taking a flight in $c_j$, that $c_i$ has the same flight."
   ]
  },
  {
   "cell_type": "code",
   "execution_count": 17,
   "metadata": {},
   "outputs": [],
   "source": [
    "matintric=multi.computeIntricationMatrixBurt()"
   ]
  },
  {
   "cell_type": "code",
   "execution_count": 22,
   "metadata": {},
   "outputs": [
    {
     "data": {
      "image/png": "[encoded data removed]",
      "text/plain": [
       "<Figure size 432x288 with 2 Axes>"
      ]
     },
     "metadata": {
      "needs_background": "light"
     },
     "output_type": "display_data"
    }
   ],
   "source": [
    "lablist=multi.giveLayersLabels()\n",
    "sns_plot=sns.heatmap(np.transpose(matintric),cmap=\"YlGnBu\",xticklabels=lablist,yticklabels=lablist)\n",
    "fig = sns_plot.get_figure()\n",
    "fig.savefig(\"intricplanes.pdf\")\n",
    "plt.show()\n"
   ]
  },
  {
   "cell_type": "markdown",
   "metadata": {},
   "source": [
    "We compute its maximal left eigenvalue and the eigenvector associated. If the matrix isn't reductible (if we have all the nodes in the same connex component), this eigenvalue is unique and the eigenvector has all its coefficients of the same sign."
   ]
  },
  {
   "cell_type": "code",
   "execution_count": 20,
   "metadata": {},
   "outputs": [],
   "source": [
    "valp,vectp=valeurPropreMax(np.transpose(matintric),1000)"
   ]
  },
  {
   "cell_type": "markdown",
   "metadata": {},
   "source": [
    "We draw the eigenvector ordered:"
   ]
  },
  {
   "cell_type": "code",
   "execution_count": 24,
   "metadata": {},
   "outputs": [
    {
     "data": {
      "image/png": "[encoded data removed]",
      "text/plain": [
       "<Figure size 432x288 with 1 Axes>"
      ]
     },
     "metadata": {
      "needs_background": "light"
     },
     "output_type": "display_data"
    }
   ],
   "source": [
    "l=SortedCollection(iterable=lablist,key = lambda lab: vectp[lablist.index(lab)])\n",
    "vectpo,labo=l.listsSorted()\n",
    "\n",
    "plt.plot(labo,vectpo,'o')\n",
    "plt.savefig(\"intricscoresplanes.pdf\")\n",
    "plt.show()"
   ]
  },
  {
   "cell_type": "markdown",
   "metadata": {},
   "source": [
    "# Random walks"
   ]
  },
  {
   "cell_type": "markdown",
   "metadata": {},
   "source": [
    "A step: to go on, a passenger will chose among all the possibles links he can take. Each link corresponds to a company and a destination.\n",
    "\n",
    "For instance, from `['Montgomery Regional (Dannelly Field) Airport', '32.30059814', '-86.39399719']`\n",
    "we can reach with the same probability:\n",
    "```\n",
    "['Hartsfield Jackson Atlanta International Airport', '33.6367', '-84.428101'] with Endeavor Air Inc.\n",
    "['Hartsfield Jackson Atlanta International Airport', '33.6367', '-84.428101'] with SkyWest Airlines Inc.\n",
    "['Ronald Reagan Washington National Airport', '38.8521', '-77.037697'] with PSA Airlines Inc.\n",
    "['Dallas Fort Worth International Airport', '32.896801', '-97.038002'] with Envoy Air\n",
    "```\n"
   ]
  },
  {
   "cell_type": "code",
   "execution_count": 62,
   "metadata": {},
   "outputs": [
    {
     "data": {
      "text/plain": [
       "('DFW', 564, 'AA', False)"
      ]
     },
     "execution_count": 62,
     "metadata": {},
     "output_type": "execute_result"
    }
   ],
   "source": [
    "def step(pos0,airportl,m,t,prints=False):\n",
    "    if prints==True:\n",
    "        print(dicoAir[pos0])\n",
    "    bloque=False\n",
    "    possibleLinks=[]\n",
    "    car=\"none\"\n",
    "    for link in m.giveLinks().giveListOfLinks():\n",
    "        if link.giveNodes()[0].giveNode()==pos0:\n",
    "            possibleLinks.append(link)\n",
    "            #print(link.giveLabel())\n",
    "            #print(dicoAir[(link.giveLabel()[1])],dicoCarreer[link.giveLabel()[2][0]])\n",
    "    if len(possibleLinks)==0:\n",
    "        bloque=True\n",
    "        pos1=pos0\n",
    "        print(\"no neighbours\")\n",
    "        t1=t\n",
    "    else:\n",
    "        #print(\"----------------------------\")\n",
    "        li=randint(0,len(possibleLinks)-1)\n",
    "        link0=possibleLinks[li]\n",
    "        #link0.printLink()\n",
    "        #print(link0.giveLabel())\n",
    "        pos1=link0.giveNodes()[1].giveNode()\n",
    "        intervalsL=link0.giveIntervals()\n",
    "        i=0\n",
    "        car=link0.giveLabel()[2][0]\n",
    "        while i<len(intervalsL) and intervalsL[i].begining()<t :\n",
    "            i=i+1\n",
    "        if i==len(intervalsL):\n",
    "            bloque=True\n",
    "            t1=t\n",
    "            print(\"timeout\")\n",
    "        else:\n",
    "            t1=intervalsL[i].end()\n",
    "    return(pos1,t1,car,bloque)\n",
    "\n",
    "pos0=airportl[randint(0,len(airportl)-1)]\n",
    "step(pos0,airportl,m,0)"
   ]
  },
  {
   "cell_type": "markdown",
   "metadata": {},
   "source": [
    "From that, we compute the random walk: "
   ]
  },
  {
   "cell_type": "code",
   "execution_count": 103,
   "metadata": {},
   "outputs": [
    {
     "name": "stdout",
     "output_type": "stream",
     "text": [
      "MIA 0\n",
      "['Miami International Airport', '25.79319953918457', '-80.29060363769531']\n",
      "GRR 1419\n",
      "['Gerald R. Ford International Airport', '42.88079834', '-85.52279663']\n",
      "DTW 1887\n",
      "['Detroit Metropolitan Wayne County Airport', '42.212398529052734', '-83.35340118408203']\n",
      "PIT 2123\n",
      "['Pittsburgh International Airport', '40.49150085', '-80.23290253']\n",
      "PHX 4075\n",
      "['Phoenix Sky Harbor International Airport', '33.43429946899414', '-112.01200103759766']\n",
      "RNO 4196\n",
      "['Reno Tahoe International Airport', '39.49909973144531', '-119.76799774169922']\n",
      "SFO 5055\n",
      "['San Francisco International Airport', '37.61899948120117', '-122.375']\n",
      "BFL 5608\n",
      "['Meadows Field', '35.43360138', '-119.0569992']\n",
      "DEN 6300\n",
      "['Denver International Airport', '39.861698150635', '-104.672996521']\n",
      "PSP 6780\n",
      "['Palm Springs International Airport', '33.8297004699707', '-116.50700378417969']\n",
      "SEA 7109\n",
      "['Seattle Tacoma International Airport', '47.449001', '-122.308998']\n",
      "LAS 7702\n",
      "['McCarran International Airport', '36.08010101', '-115.1520004']\n",
      "SEA 7930\n",
      "['Seattle Tacoma International Airport', '47.449001', '-122.308998']\n",
      "PHX 8356\n",
      "['Phoenix Sky Harbor International Airport', '33.43429946899414', '-112.01200103759766']\n",
      "DEN 8586\n",
      "['Denver International Airport', '39.861698150635', '-104.672996521']\n",
      "ATL 9295\n",
      "['Hartsfield Jackson Atlanta International Airport', '33.6367', '-84.428101']\n",
      "SRQ 9493\n",
      "['Sarasota Bradenton International Airport', '27.39539909362793', '-82.55439758300781']\n",
      "CLT 10591\n",
      "['Charlotte Douglas International Airport', '35.2140007019043', '-80.94309997558594']\n",
      "RDU 16371\n",
      "['Raleigh Durham International Airport', '35.877601623535156', '-78.7874984741211']\n",
      "SFB 19664\n",
      "['Orlando Sanford International Airport', '28.777599334716797', '-81.23750305175781']\n",
      "SWF 26463\n",
      "['Stewart International Airport', '41.50410079956055', '-74.10479736328125']\n",
      "PGD 30044\n",
      "['Charlotte County Airport', '26.92020035', '-81.9905014']\n",
      "PIA 32168\n",
      "['General Wayne A. Downing Peoria International Airport', '40.664199829100006', '-89.6932983398']\n",
      "timeout\n",
      "ATL 0\n",
      "['Hartsfield Jackson Atlanta International Airport', '33.6367', '-84.428101']\n",
      "LGA 571\n",
      "['La Guardia Airport', '40.77719879', '-73.87259674']\n",
      "IAD 709\n",
      "['Washington Dulles International Airport', '38.94449997', '-77.45580292']\n",
      "CHA 2057\n",
      "['Lovell Field', '35.035301208496094', '-85.20379638671875']\n",
      "ATL 6305\n",
      "['Hartsfield Jackson Atlanta International Airport', '33.6367', '-84.428101']\n",
      "MSP 7010\n",
      "['Minneapolis-St Paul International/Wold-Chamberlain Airport', '44.882', '-93.221802']\n",
      "JAC 16620\n",
      "['Jackson Hole Airport', '43.6072998046875', '-110.73799896240234']\n",
      "MSP 16865\n",
      "['Minneapolis-St Paul International/Wold-Chamberlain Airport', '44.882', '-93.221802']\n",
      "MEM 18496\n",
      "['Memphis International Airport', '35.04240036010742', '-89.97669982910156']\n",
      "timeout\n",
      "ORD 0\n",
      "[\"Chicago O'Hare International Airport\", '41.9786', '-87.9048']\n",
      "STT 6694\n",
      "['Cyril E. King Airport', '18.337299346923828', '-64.97339630126953']\n",
      "PHL 8235\n",
      "['Philadelphia International Airport', '39.87189865112305', '-75.24109649658203']\n",
      "timeout\n",
      "MSP 0\n",
      "['Minneapolis-St Paul International/Wold-Chamberlain Airport', '44.882', '-93.221802']\n",
      "BWI 1245\n",
      "['Baltimore/Washington International Thurgood Marshall Airport', '39.1754', '-76.668297']\n",
      "SFO 2842\n",
      "['San Francisco International Airport', '37.61899948120117', '-122.375']\n",
      "GEG 3725\n",
      "['Spokane International Airport', '47.61989974975586', '-117.53399658203125']\n",
      "PHX 4025\n",
      "['Phoenix Sky Harbor International Airport', '33.43429946899414', '-112.01200103759766']\n",
      "DCA 4755\n",
      "['Ronald Reagan Washington National Airport', '38.8521', '-77.037697']\n",
      "PVD 5135\n",
      "['Theodore Francis Green State Airport', '41.732601', '-71.420403']\n",
      "ORD 5450\n",
      "[\"Chicago O'Hare International Airport\", '41.9786', '-87.9048']\n",
      "TVC 6376\n",
      "['Cherry Capital Airport', '44.74140167236328', '-85.58219909667969']\n",
      "DTW 6678\n",
      "['Detroit Metropolitan Wayne County Airport', '42.212398529052734', '-83.35340118408203']\n",
      "GSP 8235\n",
      "['Greenville Spartanburg International Airport', '34.8956985474', '-82.2189025879']\n",
      "ORD 9179\n",
      "[\"Chicago O'Hare International Airport\", '41.9786', '-87.9048']\n",
      "ABE 9900\n",
      "['Lehigh Valley International Airport', '40.652099609375', '-75.44080352783203']\n",
      "CLT 10586\n",
      "['Charlotte Douglas International Airport', '35.2140007019043', '-80.94309997558594']\n",
      "TLH 11275\n",
      "['Tallahassee Regional Airport', '30.396499633789062', '-84.35030364990234']\n",
      "ATL 12373\n",
      "['Hartsfield Jackson Atlanta International Airport', '33.6367', '-84.428101']\n",
      "GSP 12506\n",
      "['Greenville Spartanburg International Airport', '34.8956985474', '-82.2189025879']\n",
      "FLL 15734\n",
      "['Fort Lauderdale Hollywood International Airport', '26.072599', '-80.152702']\n",
      "ALB 16795\n",
      "['Albany International Airport', '42.74829864501953', '-73.80169677734375']\n",
      "MCO 18370\n",
      "['Orlando International Airport', '28.429399490356445', '-81.30899810791016']\n",
      "PSM 20891\n",
      "['Portsmouth International at Pease Airport', '43.0778999329', '-70.8233032227']\n",
      "SFB 23822\n",
      "['Orlando Sanford International Airport', '28.777599334716797', '-81.23750305175781']\n",
      "PSM 27907\n",
      "['Portsmouth International at Pease Airport', '43.0778999329', '-70.8233032227']\n",
      "PGD 30214\n",
      "['Charlotte County Airport', '26.92020035', '-81.9905014']\n",
      "LCK 35732\n",
      "['Rickenbacker International Airport', '39.813801', '-82.927803']\n",
      "FLL 38763\n",
      "['Fort Lauderdale Hollywood International Airport', '26.072599', '-80.152702']\n",
      "EWR 39508\n",
      "['Newark Liberty International Airport', '40.692501068115234', '-74.168701171875']\n",
      "SDF 41019\n",
      "['Louisville International Standiford Field', '38.1744', '-85.736']\n",
      "timeout\n",
      "FLL 0\n",
      "['Fort Lauderdale Hollywood International Airport', '26.072599', '-80.152702']\n",
      "LGB 1260\n",
      "['Long Beach /Daugherty Field/ Airport', '33.81769943', '-118.1520004']\n",
      "SJC 1930\n",
      "['Norman Y. Mineta San Jose International Airport', '37.362598', '-121.929001']\n",
      "SEA 2213\n",
      "['Seattle Tacoma International Airport', '47.449001', '-122.308998']\n",
      "SFO 2371\n",
      "['San Francisco International Airport', '37.61899948120117', '-122.375']\n",
      "GEG 2815\n",
      "['Spokane International Airport', '47.61989974975586', '-117.53399658203125']\n",
      "PHX 4025\n",
      "['Phoenix Sky Harbor International Airport', '33.43429946899414', '-112.01200103759766']\n",
      "LAX 4183\n",
      "['Los Angeles International Airport', '33.94250107', '-118.4079971']\n",
      "LIH 5631\n",
      "['Lihue Airport', '21.97599983215332', '-159.33900451660156']\n",
      "LAX 7090\n",
      "['Los Angeles International Airport', '33.94250107', '-118.4079971']\n",
      "ORD 9720\n",
      "[\"Chicago O'Hare International Airport\", '41.9786', '-87.9048']\n",
      "MDT 10736\n",
      "['Harrisburg International Airport', '40.1935005188', '-76.7633972168']\n",
      "timeout\n",
      "ATL 0\n",
      "['Hartsfield Jackson Atlanta International Airport', '33.6367', '-84.428101']\n",
      "AUS 675\n",
      "['Austin Bergstrom International Airport', '30.194499969482422', '-97.6698989868164']\n",
      "HOU 800\n",
      "['William P Hobby Airport', '29.64539909', '-95.27890015']\n",
      "CHS 2620\n",
      "['Charleston Air Force Base-International Airport', '32.89860153', '-80.04049683']\n",
      "IAD 2714\n",
      "['Washington Dulles International Airport', '38.94449997', '-77.45580292']\n",
      "ORD 2843\n",
      "[\"Chicago O'Hare International Airport\", '41.9786', '-87.9048']\n",
      "PSP 3513\n",
      "['Palm Springs International Airport', '33.8297004699707', '-116.50700378417969']\n",
      "ORD 3909\n",
      "[\"Chicago O'Hare International Airport\", '41.9786', '-87.9048']\n",
      "RSW 4975\n",
      "['Southwest Florida International Airport', '26.53619956970215', '-81.75520324707031']\n",
      "CAK 5459\n",
      "['Akron Canton Regional Airport', '40.916099548339844', '-81.44219970703125']\n",
      "DCA 6319\n",
      "['Ronald Reagan Washington National Airport', '38.8521', '-77.037697']\n",
      "ORD 7982\n",
      "[\"Chicago O'Hare International Airport\", '41.9786', '-87.9048']\n",
      "LGA 8197\n",
      "['La Guardia Airport', '40.77719879', '-73.87259674']\n",
      "IND 8431\n",
      "['Indianapolis International Airport', '39.7173', '-86.294403']\n",
      "SEA 9870\n",
      "['Seattle Tacoma International Airport', '47.449001', '-122.308998']\n",
      "timeout\n",
      "TUS 0\n",
      "['Tucson International Airport', '32.1161003112793', '-110.94100189208984']\n",
      "PDX 970\n",
      "['Portland International Airport', '45.58869934', '-122.5979996']\n",
      "ATL 1813\n",
      "['Hartsfield Jackson Atlanta International Airport', '33.6367', '-84.428101']\n",
      "PSP 2154\n",
      "['Palm Springs International Airport', '33.8297004699707', '-116.50700378417969']\n",
      "JFK 2845\n",
      "['John F Kennedy International Airport', '40.63980103', '-73.77890015']\n",
      "CLE 4194\n",
      "['Cleveland Hopkins International Airport', '41.4117012024', '-81.8498001099']\n",
      "DEN 4947\n",
      "['Denver International Airport', '39.861698150635', '-104.672996521']\n",
      "HYS 5200\n",
      "['Hays Regional Airport', '38.84220123', '-99.27320099']\n",
      "SLN 5280\n",
      "['Salina Municipal Airport', '38.79100036621094', '-97.6521987915039']\n",
      "HYS 6125\n",
      "['Hays Regional Airport', '38.84220123', '-99.27320099']\n"
     ]
    },
    {
     "name": "stdout",
     "output_type": "stream",
     "text": [
      "DEN 6180\n",
      "['Denver International Airport', '39.861698150635', '-104.672996521']\n",
      "GRR 9496\n",
      "['Gerald R. Ford International Airport', '42.88079834', '-85.52279663']\n",
      "MCO 10645\n",
      "['Orlando International Airport', '28.429399490356445', '-81.30899810791016']\n",
      "ORD 11472\n",
      "[\"Chicago O'Hare International Airport\", '41.9786', '-87.9048']\n",
      "timeout\n",
      "JAX 0\n",
      "['Jacksonville International Airport', '30.49410057067871', '-81.68789672851562']\n",
      "IAH 808\n",
      "['George Bush Intercontinental Houston Airport', '29.984399795532227', '-95.34140014648438']\n",
      "PNS 38711\n",
      "['Pensacola Regional Airport', '30.473400115967', '-87.186599731445']\n",
      "timeout\n",
      "CLT 0\n",
      "['Charlotte Douglas International Airport', '35.2140007019043', '-80.94309997558594']\n",
      "CMH 904\n",
      "['John Glenn Columbus International Airport', '39.998001', '-82.891899']\n",
      "OAK 1110\n",
      "['Metropolitan Oakland International Airport', '37.721298', '-122.221001']\n",
      "SLC 2227\n",
      "['Salt Lake City International Airport', '40.78839874267578', '-111.97799682617188']\n",
      "ASE 2504\n",
      "['Aspen-Pitkin Co/Sardy Field', '39.22320175', '-106.8690033']\n",
      "DFW 3539\n",
      "['Dallas Fort Worth International Airport', '32.896801', '-97.038002']\n",
      "BNA 9176\n",
      "['Nashville International Airport', '36.1245002746582', '-86.6781997680664']\n",
      "AUS 9920\n",
      "['Austin Bergstrom International Airport', '30.194499969482422', '-97.6698989868164']\n",
      "ABQ 15275\n",
      "['Albuquerque International Sunport', '35.040199', '-106.609001']\n",
      "SAN 16380\n",
      "['San Diego International Airport', '32.7336006165', '-117.190002441']\n",
      "CVG 18342\n",
      "['Cincinnati Northern Kentucky International Airport', '39.0488014221', '-84.6678009033']\n",
      "SAN 20912\n",
      "['San Diego International Airport', '32.7336006165', '-117.190002441']\n",
      "PHL 22009\n",
      "['Philadelphia International Airport', '39.87189865112305', '-75.24109649658203']\n",
      "FLL 22192\n",
      "['Fort Lauderdale Hollywood International Airport', '26.072599', '-80.152702']\n",
      "MEM 25369\n",
      "['Memphis International Airport', '35.04240036010742', '-89.97669982910156']\n",
      "LGA 25624\n",
      "['La Guardia Airport', '40.77719879', '-73.87259674']\n",
      "PIT 25755\n",
      "['Pittsburgh International Airport', '40.49150085', '-80.23290253']\n",
      "timeout\n",
      "RDU 0\n",
      "['Raleigh Durham International Airport', '35.877601623535156', '-78.7874984741211']\n",
      "PHX 670\n",
      "['Phoenix Sky Harbor International Airport', '33.43429946899414', '-112.01200103759766']\n",
      "ABQ 815\n",
      "['Albuquerque International Sunport', '35.040199', '-106.609001']\n",
      "PHX 1008\n",
      "['Phoenix Sky Harbor International Airport', '33.43429946899414', '-112.01200103759766']\n",
      "EGE 2335\n",
      "['Eagle County Regional Airport', '39.64260101', '-106.9179993']\n",
      "JFK 4110\n",
      "['John F Kennedy International Airport', '40.63980103', '-73.77890015']\n",
      "PDX 4346\n",
      "['Portland International Airport', '45.58869934', '-122.5979996']\n",
      "OAK 4755\n",
      "['Metropolitan Oakland International Airport', '37.721298', '-122.221001']\n",
      "OGG 5090\n",
      "['Kahului Airport', '20.8986', '-156.429993']\n",
      "LAX 5554\n",
      "['Los Angeles International Airport', '33.94250107', '-118.4079971']\n",
      "PRC 7050\n",
      "['Ernest A. Love Field', '34.65449905', '-112.4199982']\n",
      "LAX 8130\n",
      "['Los Angeles International Airport', '33.94250107', '-118.4079971']\n",
      "LAS 9067\n",
      "['McCarran International Airport', '36.08010101', '-115.1520004']\n",
      "OKC 15134\n",
      "['Will Rogers World Airport', '35.39310073852539', '-97.60070037841797']\n",
      "IAD 16544\n",
      "['Washington Dulles International Airport', '38.94449997', '-77.45580292']\n",
      "LWB 19297\n",
      "['Greenbrier Valley Airport', '37.8582992554', '-80.3994979858']\n",
      "IAD 19392\n",
      "['Washington Dulles International Airport', '38.94449997', '-77.45580292']\n",
      "MCO 26450\n",
      "['Orlando International Airport', '28.429399490356445', '-81.30899810791016']\n",
      "BOS 26856\n",
      "['General Edward Lawrence Logan International Airport', '42.36429977', '-71.00520325']\n",
      "MSP 29813\n",
      "['Minneapolis-St Paul International/Wold-Chamberlain Airport', '44.882', '-93.221802']\n",
      "MDW 29968\n",
      "['Chicago Midway International Airport', '41.785999', '-87.752403']\n",
      "MEM 30195\n",
      "['Memphis International Airport', '35.04240036010742', '-89.97669982910156']\n",
      "timeout\n"
     ]
    },
    {
     "data": {
      "text/plain": [
       "['LAS',\n",
       " 0,\n",
       " array([1, 0, 2, 0, 0, 0, 0, 0, 0, 0, 0, 0, 1, 0, 0, 0, 0, 0, 1, 6, 0, 2,\n",
       "        0, 0, 0, 0, 0, 0, 0, 1, 0, 0, 0, 0, 0, 0, 0, 0, 0, 1, 0, 1, 0, 0,\n",
       "        0, 0, 0, 0, 0, 0, 0, 0, 0, 1, 0, 0, 1, 0, 0, 0, 1, 0, 1, 0, 0, 0,\n",
       "        1, 0, 3, 1, 0, 0, 0, 0, 0, 0, 0, 0, 0, 0, 1, 0, 0, 0, 0, 0, 0, 2,\n",
       "        4, 1, 0, 0, 0, 0, 0, 2, 0, 0, 0, 0, 1, 0, 0, 0, 0, 0, 0, 0, 0, 1,\n",
       "        0, 0, 0, 0, 0, 0, 0, 4, 0, 0, 0, 0, 0, 0, 2, 0, 0, 0, 0, 0, 0, 0,\n",
       "        0, 2, 0, 2, 0, 0, 0, 0, 0, 0, 0, 0, 0, 0, 0, 1, 0, 0, 0, 0, 0, 2,\n",
       "        4, 0, 1, 0, 0, 0, 0, 1, 0, 0, 0, 0, 0, 1, 0, 1, 2, 0, 0, 0, 0, 0,\n",
       "        0, 0, 3, 0, 4, 0, 0, 0, 0, 0, 1, 0, 0, 3, 1, 1, 0, 0, 0, 0, 1, 0,\n",
       "        0, 0, 0, 0, 3, 1, 1, 0, 3, 0, 0, 0, 0, 0, 0, 0, 0, 0, 0, 0, 0, 0,\n",
       "        0, 0, 0, 0, 0, 4, 0, 0, 0, 0, 2, 0, 1, 0, 1, 0, 0, 0, 8, 0, 0, 0,\n",
       "        0, 0, 0, 0, 0, 2, 2, 0, 2, 6, 1, 0, 0, 0, 2, 0, 1, 0, 1, 0, 0, 0,\n",
       "        2, 3, 0, 1, 0, 0, 0, 0, 0, 2, 0, 0, 0, 0, 1, 0, 0, 0, 0, 1, 0, 2,\n",
       "        0, 0, 0, 0, 0, 0, 0, 0, 1, 4, 2, 3, 0, 0, 0, 0, 0, 1, 0, 0, 1, 1,\n",
       "        0, 0, 0, 0, 0, 0, 1, 0, 0, 0, 1, 0, 0, 0, 1, 0, 0, 1, 0, 0, 0, 0,\n",
       "        0, 1, 1, 0, 0, 0, 0, 0, 0, 0, 0, 0, 0, 0, 0, 0]),\n",
       " array([ 7,  9,  6,  8, 15,  4,  6, 13,  0,  3,  5,  5, 27,  6, 19,  5,  8])]"
      ]
     },
     "execution_count": 103,
     "metadata": {},
     "output_type": "execute_result"
    }
   ],
   "source": [
    "def randomWalk(airportl,m,t,collect=\"coverage\",prints=False,boucles=1):\n",
    "    pos0=airportl[randint(0,len(airportl)-1)]\n",
    "    t=0\n",
    "    bloque=False\n",
    "    i=0\n",
    "    b=0\n",
    "    if collect==\"coverage\":\n",
    "        airports=np.array([0 for i in range(len(airportl))])\n",
    "        compagnies=np.array([0 for i in range(len(carL))])\n",
    "    if collect==\"firstTimeToReach\":\n",
    "        airports=np.array([tend for i in range(len(airportl))])\n",
    "        compagnies=np.array([tend for i in range(len(carL))])\n",
    "    while bloque==False and b<boucles:\n",
    "        if prints==True:\n",
    "            print(pos0,t)\n",
    "        pos0,t,car,bloque=step(pos0,airportl,m,t,prints=prints)\n",
    "        if bloque==True:\n",
    "            b=b+1\n",
    "            t=0\n",
    "            bloque=False\n",
    "        if collect==\"coverage\":\n",
    "            airports[airportl.index(pos0)]=airports[airportl.index(pos0)]+1\n",
    "            compagnies[carL.index(car)]=compagnies[carL.index(car)]+1\n",
    "        if collect==\"firstTimeToReach\":\n",
    "            if airports[airportl.index(pos0)]==tend:\n",
    "                airports[airportl.index(pos0)]=t\n",
    "            if compagnies[carL.index(car)]== tend:\n",
    "                compagnies[carL.index(car)]=t\n",
    "        i=i+1\n",
    "    return([pos0,t,airports,compagnies])\n",
    "\n",
    "randomWalk(airportl,m,0,prints=True,boucles=10)"
   ]
  },
  {
   "cell_type": "markdown",
   "metadata": {},
   "source": [
    "We compute then a great amount of random walks, collecting several informations:"
   ]
  },
  {
   "cell_type": "markdown",
   "metadata": {},
   "source": [
    "- the coverage"
   ]
  },
  {
   "cell_type": "code",
   "execution_count": 115,
   "metadata": {},
   "outputs": [
    {
     "name": "stdout",
     "output_type": "stream",
     "text": [
      "randomwalk n 0\n",
      "timeout\n",
      "timeout\n",
      "timeout\n",
      "timeout\n",
      "timeout\n",
      "timeout\n",
      "timeout\n",
      "timeout\n",
      "timeout\n",
      "timeout\n",
      "randomwalk n 1\n",
      "timeout\n",
      "timeout\n",
      "timeout\n",
      "timeout\n",
      "timeout\n",
      "timeout\n",
      "timeout\n",
      "timeout\n",
      "timeout\n",
      "timeout\n",
      "randomwalk n 2\n",
      "timeout\n",
      "timeout\n",
      "timeout\n",
      "timeout\n",
      "timeout\n",
      "timeout\n",
      "timeout\n",
      "timeout\n",
      "timeout\n",
      "timeout\n",
      "randomwalk n 3\n",
      "timeout\n",
      "timeout\n",
      "timeout\n",
      "timeout\n",
      "timeout\n",
      "timeout\n",
      "timeout\n",
      "timeout\n",
      "timeout\n",
      "timeout\n",
      "randomwalk n 4\n",
      "timeout\n",
      "timeout\n",
      "timeout\n",
      "timeout\n",
      "timeout\n",
      "timeout\n",
      "timeout\n",
      "timeout\n",
      "timeout\n",
      "timeout\n",
      "randomwalk n 5\n",
      "timeout\n",
      "timeout\n",
      "timeout\n",
      "timeout\n",
      "timeout\n",
      "timeout\n",
      "timeout\n",
      "timeout\n",
      "timeout\n",
      "timeout\n",
      "randomwalk n 6\n",
      "timeout\n",
      "timeout\n",
      "timeout\n",
      "timeout\n",
      "timeout\n",
      "timeout\n",
      "timeout\n",
      "timeout\n",
      "timeout\n",
      "timeout\n",
      "randomwalk n 7\n",
      "timeout\n",
      "timeout\n",
      "timeout\n",
      "timeout\n",
      "timeout\n",
      "timeout\n",
      "timeout\n",
      "timeout\n",
      "timeout\n",
      "timeout\n",
      "randomwalk n 8\n",
      "timeout\n",
      "timeout\n",
      "timeout\n",
      "timeout\n",
      "timeout\n",
      "timeout\n",
      "timeout\n",
      "timeout\n",
      "timeout\n",
      "timeout\n",
      "randomwalk n 9\n",
      "timeout\n",
      "timeout\n",
      "timeout\n",
      "timeout\n",
      "timeout\n",
      "timeout\n",
      "timeout\n",
      "timeout\n",
      "timeout\n",
      "timeout\n"
     ]
    }
   ],
   "source": [
    "covAirports=np.array([0 for i in range(len(airportl))])\n",
    "covCompagnies=np.array([0 for i in range(len(carL))])\n",
    "airports=np.array([0 for i in (airportl)])\n",
    "t=0\n",
    "for i in range(10):\n",
    "    print(\"randomwalk n\", i)\n",
    "    vect=randomWalk(airportl,m,t,boucles=10)\n",
    "    airports=vect[2]\n",
    "    compagnies=vect[3]\n",
    "    covAirports=np.add(covAirports,airports)\n",
    "    covCompagnies=np.add(covCompagnies,compagnies)"
   ]
  },
  {
   "cell_type": "code",
   "execution_count": 116,
   "metadata": {},
   "outputs": [
    {
     "data": {
      "image/png": "[encoded data removed]",
      "text/plain": [
       "<Figure size 432x288 with 1 Axes>"
      ]
     },
     "metadata": {
      "needs_background": "light"
     },
     "output_type": "display_data"
    }
   ],
   "source": [
    "axes = plt.gca()\n",
    "plt.plot(covAirports,pr,'o')\n",
    "axes.set_ylabel('Page Rank')\n",
    "axes.set_xlabel('coverage by random walker')\n",
    "plt.show()"
   ]
  },
  {
   "cell_type": "code",
   "execution_count": 117,
   "metadata": {},
   "outputs": [
    {
     "data": {
      "image/png": "[encoded data removed]",
      "text/plain": [
       "<Figure size 432x288 with 1 Axes>"
      ]
     },
     "metadata": {
      "needs_background": "light"
     },
     "output_type": "display_data"
    }
   ],
   "source": [
    "axes = plt.gca()\n",
    "plt.plot(covAirports,bt,'o')\n",
    "axes.set_ylabel('Betweenness centrality')\n",
    "axes.set_xlabel('coverage by random walker')\n",
    "plt.show()"
   ]
  },
  {
   "cell_type": "code",
   "execution_count": 118,
   "metadata": {},
   "outputs": [
    {
     "data": {
      "image/png": "[encoded data removed]",
      "text/plain": [
       "<Figure size 432x288 with 1 Axes>"
      ]
     },
     "metadata": {
      "needs_background": "light"
     },
     "output_type": "display_data"
    }
   ],
   "source": [
    "axes=plt.gca()\n",
    "plt.plot(covCompagnies,vectp,'o')\n",
    "axes.set_ylabel('intrication')\n",
    "axes.set_xlabel('coverage compagnies by random walker')\n",
    "plt.show()\n"
   ]
  },
  {
   "cell_type": "markdown",
   "metadata": {},
   "source": [
    "- the first time to reach"
   ]
  },
  {
   "cell_type": "code",
   "execution_count": 120,
   "metadata": {},
   "outputs": [
    {
     "name": "stdout",
     "output_type": "stream",
     "text": [
      "randomwalk n 0\n",
      "timeout\n",
      "timeout\n",
      "timeout\n",
      "timeout\n",
      "timeout\n",
      "timeout\n",
      "timeout\n",
      "timeout\n",
      "timeout\n",
      "timeout\n",
      "randomwalk n 1\n",
      "timeout\n",
      "timeout\n",
      "timeout\n",
      "timeout\n",
      "timeout\n",
      "timeout\n",
      "timeout\n",
      "timeout\n",
      "timeout\n",
      "timeout\n",
      "randomwalk n 2\n",
      "timeout\n",
      "timeout\n",
      "timeout\n",
      "timeout\n",
      "timeout\n",
      "timeout\n",
      "timeout\n",
      "timeout\n",
      "timeout\n",
      "timeout\n",
      "randomwalk n 3\n",
      "timeout\n",
      "timeout\n",
      "timeout\n",
      "timeout\n",
      "timeout\n",
      "timeout\n",
      "timeout\n",
      "timeout\n",
      "timeout\n",
      "timeout\n",
      "randomwalk n 4\n",
      "timeout\n",
      "timeout\n",
      "timeout\n",
      "timeout\n",
      "timeout\n",
      "timeout\n",
      "timeout\n",
      "timeout\n",
      "timeout\n",
      "timeout\n",
      "randomwalk n 5\n",
      "timeout\n",
      "timeout\n",
      "timeout\n",
      "timeout\n",
      "timeout\n",
      "timeout\n",
      "timeout\n",
      "timeout\n",
      "timeout\n",
      "timeout\n",
      "randomwalk n 6\n",
      "timeout\n",
      "timeout\n",
      "timeout\n",
      "timeout\n",
      "timeout\n",
      "timeout\n",
      "timeout\n",
      "timeout\n",
      "timeout\n",
      "timeout\n",
      "randomwalk n 7\n",
      "timeout\n",
      "timeout\n",
      "timeout\n",
      "timeout\n",
      "timeout\n",
      "timeout\n",
      "timeout\n",
      "timeout\n",
      "timeout\n",
      "timeout\n",
      "randomwalk n 8\n",
      "timeout\n",
      "timeout\n",
      "timeout\n",
      "timeout\n",
      "timeout\n",
      "timeout\n",
      "timeout\n",
      "timeout\n",
      "timeout\n",
      "timeout\n",
      "randomwalk n 9\n",
      "timeout\n",
      "timeout\n",
      "timeout\n",
      "timeout\n",
      "timeout\n",
      "timeout\n",
      "timeout\n",
      "timeout\n",
      "timeout\n",
      "timeout\n"
     ]
    }
   ],
   "source": [
    "ftrAirports=np.array([0 for i in range(len(airportl))])\n",
    "ftrCompagnies=np.array([0 for i in range(len(carL))])\n",
    "airports=np.array([0 for i in (airportl)])\n",
    "t=0\n",
    "for i in range(10):\n",
    "    print(\"randomwalk n\", i)\n",
    "    vect=randomWalk(airportl,m,t,collect=\"firstTimeToReach\",boucles=10)\n",
    "    airports=vect[2]\n",
    "    compagnies=vect[3]\n",
    "    ftrAirports=np.add(covAirports,airports)\n",
    "    ftrCompagnies=np.add(covCompagnies,compagnies)"
   ]
  },
  {
   "cell_type": "code",
   "execution_count": 121,
   "metadata": {},
   "outputs": [
    {
     "data": {
      "image/png": "[encoded data removed]",
      "text/plain": [
       "<Figure size 432x288 with 1 Axes>"
      ]
     },
     "metadata": {
      "needs_background": "light"
     },
     "output_type": "display_data"
    }
   ],
   "source": [
    "axes = plt.gca()\n",
    "plt.plot(ftrAirports,pr,'o')\n",
    "axes.set_ylabel('Page Rank')\n",
    "axes.set_xlabel('firstTimeToReach')\n",
    "plt.show()"
   ]
  },
  {
   "cell_type": "code",
   "execution_count": 124,
   "metadata": {},
   "outputs": [
    {
     "data": {
      "image/png": "[encoded data removed]",
      "text/plain": [
       "<Figure size 432x288 with 1 Axes>"
      ]
     },
     "metadata": {
      "needs_background": "light"
     },
     "output_type": "display_data"
    }
   ],
   "source": [
    "axes = plt.gca()\n",
    "plt.plot(ftrAirports,bt,'o')\n",
    "axes.set_ylabel('Betweenness centrality')\n",
    "axes.set_xlabel('first time to reach')\n",
    "plt.show()"
   ]
  },
  {
   "cell_type": "code",
   "execution_count": 123,
   "metadata": {},
   "outputs": [
    {
     "data": {
      "image/png": "[encoded data removed]",
      "text/plain": [
       "<Figure size 432x288 with 1 Axes>"
      ]
     },
     "metadata": {
      "needs_background": "light"
     },
     "output_type": "display_data"
    }
   ],
   "source": [
    "axes=plt.gca()\n",
    "plt.plot(covCompagnies,vectp,'o')\n",
    "axes.set_ylabel('intrication')\n",
    "axes.set_xlabel('coverage compagnies by random walker')\n",
    "plt.show()\n"
   ]
  },
  {
   "cell_type": "code",
   "execution_count": null,
   "metadata": {},
   "outputs": [],
   "source": []
  }
 ],
 "metadata": {
  "kernelspec": {
   "display_name": "Python 3",
   "language": "python",
   "name": "python3"
  },
  "language_info": {
   "codemirror_mode": {
    "name": "ipython",
    "version": 3
   },
   "file_extension": ".py",
   "mimetype": "text/x-python",
   "name": "python",
   "nbconvert_exporter": "python",
   "pygments_lexer": "ipython3",
   "version": "3.7.3"
  }
 },
 "nbformat": 4,
 "nbformat_minor": 2
}
