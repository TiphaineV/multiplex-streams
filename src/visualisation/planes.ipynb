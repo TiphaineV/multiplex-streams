{
 "cells": [
  {
   "cell_type": "markdown",
   "metadata": {},
   "source": [
    "# Datas "
   ]
  },
  {
   "cell_type": "markdown",
   "metadata": {},
   "source": [
    "- Source for airports locations: https://openflights.org/data.html (file airlines.dat)\n",
    "- Source for american airlines: https://www.transtats.bts.gov/DL_SelectFields.asp?Table_ID=236\n"
   ]
  },
  {
   "cell_type": "code",
   "execution_count": 2,
   "metadata": {},
   "outputs": [
    {
     "name": "stdout",
     "output_type": "stream",
     "text": [
      "cou\n"
     ]
    }
   ],
   "source": [
    "from visuMultiStream import *\n",
    "from intervals import *\n",
    "from structure import *\n",
    "from elemMSGraph import *\n",
    "from multiLayers import *\n",
    "from sortedcollection import *\n",
    "print(\"cou\")\n",
    "from matrices import *\n",
    "from random import *\n",
    "import seaborn as sns\n",
    "\n",
    "from tulip import tlp\n",
    "import scipy.linalg\n"
   ]
  },
  {
   "cell_type": "markdown",
   "metadata": {},
   "source": [
    "Echelle de temps : 1 semaine"
   ]
  },
  {
   "cell_type": "code",
   "execution_count": 3,
   "metadata": {},
   "outputs": [
    {
     "name": "stdout",
     "output_type": "stream",
     "text": [
      "44640\n"
     ]
    }
   ],
   "source": [
    "t0=0\n",
    "tend=24*60*31\n",
    "\n",
    "print(tend)\n",
    "\n",
    "interval=Interval(t0,tend)"
   ]
  },
  {
   "cell_type": "code",
   "execution_count": 4,
   "metadata": {},
   "outputs": [],
   "source": [
    "def convertToMinutes(day,hour,minutes):\n",
    "    return((day-1)*24*60+hour*60+minutes)\n",
    "\n",
    "\n",
    "\n",
    "def readAirports(airportl):\n",
    "    dicoAir={}\n",
    "    f=open(\"planes/airports.dat\",\"r\",encoding=\"utf8\")\n",
    "    #print(f)\n",
    "    lste=[]\n",
    "    for line in f:\n",
    "        line=line.replace(\"\\\"\",'')\n",
    "        tab=line.split(\",\")\n",
    "        ida=tab[4]\n",
    "        namea=tab[1]\n",
    "        country=tab[3]\n",
    "        #print(ida)\n",
    "        if (ida in dicoAir)==False and (ida in airportl):\n",
    "            lat=tab[6]\n",
    "            long=tab[7]\n",
    "            dicoAir[ida]=[namea,lat,long]\n",
    "            lste.append(NodeT(ida,IntervalList([interval])))\n",
    "    return(dicoAir,lste)\n",
    "    \n",
    "\n",
    "def readLinks():\n",
    "    f=open(\"planes/linksmonth.csv\",'r')\n",
    "    n=0\n",
    "    em=LinkList([])\n",
    "    careersl=[]\n",
    "    airportl=[]\n",
    "    airportPerLay={}\n",
    "    for line in f:\n",
    "        if n>0:\n",
    "            line=line.replace(\"\\\"\",'')\n",
    "            tab=line.split(\",\")\n",
    "            date=int(tab[0].split(\"-\")[2])\n",
    "            career=tab[1]\n",
    "            origin=tab[2]\n",
    "            dest=tab[3]\n",
    "            dept=int(tab[4][0]+tab[4][1])*60+int(tab[4][2]+tab[4][3])\n",
    "            if len(tab[5])>0:\n",
    "                arrival=int(tab[6][0]+tab[6][1])*60+int(tab[6][2]+tab[6][3])\n",
    "                inter=Interval((date-1)*24*60+dept,(date-1)*24*60+arrival)\n",
    "                if arrival<=dept:\n",
    "                    inter=Interval((date-1)*24*60+dept,(date)*24*60+arrival)\n",
    "                if not (career in careersl):\n",
    "                    careersl.append(career)\n",
    "                if not (origin in airportl):\n",
    "                    airportl.append(origin)\n",
    "                if not (dest in airportl):\n",
    "                    airportl.append(dest)\n",
    "                if (career in airportPerLay.keys())==False:\n",
    "                    airportPerLay[career]=[]\n",
    "                if not origin in airportPerLay[career]:\n",
    "                    airportPerLay[career].append(origin)\n",
    "                if not dest in airportPerLay[career]:\n",
    "                    airportPerLay[career].append(dest)\n",
    "                em.addLink(Link(IntervalList([inter]),NodeT(origin,IntervalList([interval])),[career],NodeT(dest,IntervalList([interval])),[career],directed=0),cond=0)\n",
    "        n=n+1\n",
    "    return(em,sorted(careersl),sorted(airportl),airportPerLay)\n",
    "\n",
    "    \n",
    "def readCarriers(carL):\n",
    "    f=open(\"planes/L_UNIQUE_CARRIERS.csv\",\"r\")\n",
    "    n=0\n",
    "    liste=[]\n",
    "    dicoCarreer={}\n",
    "    for line in f :\n",
    "        if n>0:\n",
    "            line=line.replace(\"\\\"\",'')\n",
    "            tab=line.split(\",\")\n",
    "            tab[-1]=tab[-1].rstrip(\"\\n\")\n",
    "            code=tab[0]\n",
    "            name=tab[1]\n",
    "            if (code in liste) == False and (code in carL)==True :\n",
    "                liste.append(code)\n",
    "                dicoCarreer[code]=name\n",
    "        n=n+1\n",
    "    comp=Aspect(\"carrier\",liste)\n",
    "    return(comp,dicoCarreer)"
   ]
  },
  {
   "cell_type": "markdown",
   "metadata": {},
   "source": [
    "# Principle :\n",
    "\n",
    "In the datasets, they are to many airports and carriers (not american and unused). So we begin to read the links to know which airports and carriers are used and we then read their datasets to collect their detailed informations (stored into dictionnaries)"
   ]
  },
  {
   "cell_type": "code",
   "execution_count": 5,
   "metadata": {},
   "outputs": [
    {
     "name": "stdout",
     "output_type": "stream",
     "text": [
      "extracting...\n",
      "layer ['9E']\n",
      "layer ['AA']\n",
      "layer ['AS']\n",
      "layer ['B6']\n",
      "layer ['DL']\n",
      "layer ['EV']\n",
      "layer ['F9']\n",
      "layer ['G4']\n",
      "layer ['HA']\n",
      "layer ['MQ']\n",
      "layer ['NK']\n",
      "layer ['OH']\n",
      "layer ['OO']\n",
      "layer ['UA']\n",
      "layer ['WN']\n",
      "layer ['YV']\n",
      "layer ['YX']\n"
     ]
    }
   ],
   "source": [
    "em,carL,airportl,airportperlay=readLinks()\n",
    "\n",
    "dicoAir,nodes=readAirports(airportl)\n",
    "\n",
    "laystr=LayerStruct([Aspect(\"compagnies\",carL)])\n",
    "listLay=[]\n",
    "\n",
    "carriers,dicoCarreer =readCarriers(carL)\n",
    "\n",
    "for l in carriers.giveElemLayer():\n",
    "    nl=NodeTList([])\n",
    "    for no in airportperlay[l]:\n",
    "        nl.addNodeT(NodeT(no,IntervalList([interval])))\n",
    "    listLay.append(Layer(laystr,[l],interval,nl))\n",
    "\n",
    "layers=LayerList(listLay)\n",
    "\n",
    "m=MultiStream(interval,laystr,layers,em)          \n",
    "\n",
    "multi=m.extractML()"
   ]
  },
  {
   "cell_type": "markdown",
   "metadata": {},
   "source": [
    "## Build the tulip file\n",
    "\n",
    "The differents layers corresponding to the different carriers are drawn in different colors. We build different subgraphs corresponding to each company.\n",
    "\n",
    "This is very useful for vizualisation (download tulip http://tulip.labri.fr/TulipDrupal/ ) to open the graph (double click on the graph on the bottom left and chose the \"geographic view\""
   ]
  },
  {
   "cell_type": "code",
   "execution_count": 6,
   "metadata": {},
   "outputs": [],
   "source": [
    "def makeGraph(m,airportl,carL,dicoAir,airportperlay):\n",
    "    graph=tlp.newGraph()\n",
    "    latitude=graph.getDoubleProperty(\"latitude\")\n",
    "    longitude=graph.getDoubleProperty(\"longitude\")\n",
    "    name = graph.getStringProperty(\"nameCity\")\n",
    "    code = graph.getStringProperty(\"code\")\n",
    "    couche = graph.getStringVectorProperty(\"compagnie\")\n",
    "    color = graph.getColorProperty(\"viewColor\")\n",
    "    k=len(carL)\n",
    "    colList=[(randint(0,255),randint(0,255),randint(0,255)) for i in range(k)]\n",
    "    for n in range(len(airportl)):\n",
    "        graph.addNode()\n",
    "        no=graph.nodes()[n]\n",
    "        code[no]=airportl[n]\n",
    "        listeAttributs=dicoAir[airportl[n]]\n",
    "        name[no]=listeAttributs[0]\n",
    "        latitude[no]=float(listeAttributs[1])\n",
    "        longitude[no]=float(listeAttributs[2])\n",
    "    n=0\n",
    "    for lay in m.giveLayers().giveLayers():\n",
    "        car=lay.giveLayerLabel()[0]\n",
    "        sub=graph.addSubGraph(car)\n",
    "        nliste=airportperlay[car]\n",
    "        for node1 in nliste :\n",
    "            no=graph.nodes()[airportl.index(node1)]\n",
    "            sub.addNode(no)\n",
    "        #print(car,len(sub.nodes()))\n",
    "    for e in m.giveLinks().giveListOfLinks():\n",
    "        n1=graph.nodes()[airportl.index(e.giveNodes()[0].giveNode())]\n",
    "        n2=graph.nodes()[airportl.index(e.giveNodes()[1].giveNode())]\n",
    "        graph.addEdge(n1,n2)\n",
    "        ed=graph.edges()[n]\n",
    "        n=n+1\n",
    "        couche[ed]=e.giveLabel()[2]\n",
    "        color[ed]=colList[carL.index(e.giveLabel()[2][0])]\n",
    "        sub=graph.subGraphs()[carL.index(e.giveLabel()[2][0])]\n",
    "        car=e.giveLabel()[2][0]\n",
    "        codenode=e.giveNodes()[0].giveNode()\n",
    "        n1=sub.nodes()[airportperlay[car].index(codenode)]\n",
    "        n2=sub.nodes()[airportperlay[e.giveLabel()[2][0]].index(e.giveNodes()[1].giveNode())]\n",
    "        sub.addEdge(ed)\n",
    "    tlp.saveGraph(graph,\"grapheplanes.tp\")\n",
    "    return(graph)\n",
    "\n",
    "graph=makeGraph(m,airportl,carL,dicoAir,airportperlay)"
   ]
  },
  {
   "cell_type": "markdown",
   "metadata": {},
   "source": [
    "We can then use the library \"tulip\" to compute classical measures: \n",
    "\n",
    "- page ranking: "
   ]
  },
  {
   "cell_type": "code",
   "execution_count": 7,
   "metadata": {},
   "outputs": [],
   "source": [
    "pagerank=graph.getDoubleProperty(\"pageRank\")\n",
    "params = tlp.getDefaultPluginParameters('Page Rank', graph)\n",
    "params[\"directed\"]=True\n",
    "\n",
    "success = graph.applyDoubleAlgorithm('Page Rank', pagerank, params)\n",
    "pr=[]\n",
    "for n in graph.getNodes():\n",
    "    pr.append(pagerank[n])"
   ]
  },
  {
   "cell_type": "markdown",
   "metadata": {},
   "source": [
    "- betweenness centrality:"
   ]
  },
  {
   "cell_type": "code",
   "execution_count": 8,
   "metadata": {},
   "outputs": [],
   "source": [
    "betweenness=graph.getDoubleProperty(\"betweeness\")\n",
    "params = tlp.getDefaultPluginParameters('Betweenness Centrality', graph)\n",
    "params[\"directed\"]=True\n",
    "\n",
    "success = graph.applyDoubleAlgorithm('Betweenness Centrality', betweenness, params)\n",
    "bt=[]\n",
    "for n in graph.getNodes():\n",
    "    bt.append(betweenness[n]) "
   ]
  },
  {
   "cell_type": "code",
   "execution_count": 9,
   "metadata": {},
   "outputs": [
    {
     "data": {
      "image/png": "[encoded data removed]",
      "text/plain": [
       "<Figure size 432x288 with 1 Axes>"
      ]
     },
     "metadata": {
      "needs_background": "light"
     },
     "output_type": "display_data"
    }
   ],
   "source": [
    "axes = plt.gca()\n",
    "plt.plot(bt,pr,'o')\n",
    "axes.set_ylabel('Page Rank')\n",
    "axes.set_xlabel('Betweenness centrality')\n",
    "plt.show()\n"
   ]
  },
  {
   "cell_type": "markdown",
   "metadata": {},
   "source": [
    "# Intrication\n",
    "\n",
    "We compute the Burt's matrix which is:\n",
    "\n",
    "$\\begin{pmatrix}\n",
    "P(1) & P(1|2) & P(1|3) & \\dots & P(1|n)\\\\\n",
    "P(2|1) & P(2) & P(2|3) & \\dots & P(2|n)\\\\\n",
    "\\vdots & \\vdots & \\ddots\\\\\n",
    "\\dots & \\dots & \\dots & \\dots & P(n)\n",
    "\\end{pmatrix}$\n",
    "\n",
    "$P(i)$ is the probability, taking a flight, that it exists in the compagny $C_i$.\n",
    "\n",
    "$P(i|j)$ is the probability, taking a flight in $c_j$, that $c_i$ has the same flight."
   ]
  },
  {
   "cell_type": "code",
   "execution_count": 10,
   "metadata": {},
   "outputs": [],
   "source": [
    "matintric=multi.computeIntricationMatrixBurt()"
   ]
  },
  {
   "cell_type": "code",
   "execution_count": 11,
   "metadata": {},
   "outputs": [
    {
     "data": {
      "image/png": "[encoded data removed]",
      "text/plain": [
       "<Figure size 432x288 with 2 Axes>"
      ]
     },
     "metadata": {
      "needs_background": "light"
     },
     "output_type": "display_data"
    }
   ],
   "source": [
    "lablist=multi.giveLayersLabels()\n",
    "sns_plot=sns.heatmap(np.transpose(matintric),cmap=\"YlGnBu\",xticklabels=lablist,yticklabels=lablist)\n",
    "fig = sns_plot.get_figure()\n",
    "fig.savefig(\"intricplanes.pdf\")\n",
    "plt.show()\n"
   ]
  },
  {
   "cell_type": "markdown",
   "metadata": {},
   "source": [
    "We compute its maximal left eigenvalue and the eigenvector associated. If the matrix isn't reductible (if we have all the nodes in the same connex component), this eigenvalue is unique and the eigenvector has all its coefficients of the same sign."
   ]
  },
  {
   "cell_type": "code",
   "execution_count": 12,
   "metadata": {},
   "outputs": [],
   "source": [
    "valp,vectp=valeurPropreMax(np.transpose(matintric),1000)"
   ]
  },
  {
   "cell_type": "markdown",
   "metadata": {},
   "source": [
    "We draw the eigenvector ordered:"
   ]
  },
  {
   "cell_type": "code",
   "execution_count": 13,
   "metadata": {},
   "outputs": [
    {
     "data": {
      "image/png": "[encoded data removed]",
      "text/plain": [
       "<Figure size 432x288 with 1 Axes>"
      ]
     },
     "metadata": {
      "needs_background": "light"
     },
     "output_type": "display_data"
    }
   ],
   "source": [
    "l=SortedCollection(iterable=lablist,key = lambda lab: vectp[lablist.index(lab)])\n",
    "vectpo,labo=l.listsSorted()\n",
    "\n",
    "plt.plot(labo,vectpo,'o')\n",
    "plt.savefig(\"intricscoresplanes.pdf\")\n",
    "plt.show()"
   ]
  },
  {
   "cell_type": "markdown",
   "metadata": {},
   "source": [
    "# Random walks"
   ]
  },
  {
   "cell_type": "markdown",
   "metadata": {},
   "source": [
    "A step: to go on, a passenger will chose among all the possibles links he can take. Each link corresponds to a company and a destination.\n",
    "\n",
    "For instance, from `['Montgomery Regional (Dannelly Field) Airport', '32.30059814', '-86.39399719']`\n",
    "we can reach with the same probability:\n",
    "```\n",
    "['Hartsfield Jackson Atlanta International Airport', '33.6367', '-84.428101'] with Endeavor Air Inc.\n",
    "['Hartsfield Jackson Atlanta International Airport', '33.6367', '-84.428101'] with SkyWest Airlines Inc.\n",
    "['Ronald Reagan Washington National Airport', '38.8521', '-77.037697'] with PSA Airlines Inc.\n",
    "['Dallas Fort Worth International Airport', '32.896801', '-97.038002'] with Envoy Air\n",
    "```\n"
   ]
  },
  {
   "cell_type": "code",
   "execution_count": 14,
   "metadata": {},
   "outputs": [
    {
     "data": {
      "text/plain": [
       "('MSP', 726, 'DL', False)"
      ]
     },
     "execution_count": 14,
     "metadata": {},
     "output_type": "execute_result"
    }
   ],
   "source": [
    "def step(pos0,airportl,m,t,prints=False):\n",
    "    if prints==True:\n",
    "        print(dicoAir[pos0])\n",
    "    bloque=False\n",
    "    possibleLinks=[]\n",
    "    car=\"none\"\n",
    "    for link in m.giveLinks().giveListOfLinks():\n",
    "        if link.giveNodes()[0].giveNode()==pos0:\n",
    "            possibleLinks.append(link)\n",
    "            #print(link.giveLabel())\n",
    "            #print(dicoAir[(link.giveLabel()[1])],dicoCarreer[link.giveLabel()[2][0]])\n",
    "    if len(possibleLinks)==0:\n",
    "        bloque=True\n",
    "        pos1=pos0\n",
    "        print(\"no neighbours\")\n",
    "        t1=t\n",
    "    else:\n",
    "        #print(\"----------------------------\")\n",
    "        li=randint(0,len(possibleLinks)-1)\n",
    "        link0=possibleLinks[li]\n",
    "        #link0.printLink()\n",
    "        #print(link0.giveLabel())\n",
    "        pos1=link0.giveNodes()[1].giveNode()\n",
    "        intervalsL=link0.giveIntervals()\n",
    "        i=0\n",
    "        car=link0.giveLabel()[2][0]\n",
    "        while i<len(intervalsL) and intervalsL[i].begining()<t :\n",
    "            i=i+1\n",
    "        if i==len(intervalsL):\n",
    "            bloque=True\n",
    "            t1=t\n",
    "            print(\"timeout\")\n",
    "        else:\n",
    "            t1=intervalsL[i].end()\n",
    "    return(pos1,t1,car,bloque)\n",
    "\n",
    "pos0=airportl[randint(0,len(airportl)-1)]\n",
    "step(pos0,airportl,m,0)"
   ]
  },
  {
   "cell_type": "markdown",
   "metadata": {},
   "source": [
    "From that, we compute the random walk: "
   ]
  },
  {
   "cell_type": "code",
   "execution_count": 15,
   "metadata": {},
   "outputs": [
    {
     "name": "stdout",
     "output_type": "stream",
     "text": [
      "CPR 0\n",
      "['Casper-Natrona County International Airport', '42.908001', '-106.463997']\n",
      "SLC 466\n",
      "['Salt Lake City International Airport', '40.78839874267578', '-111.97799682617188']\n",
      "BZN 755\n",
      "['Gallatin Field', '45.77750015', '-111.1529999']\n",
      "DEN 1142\n",
      "['Denver International Airport', '39.861698150635', '-104.672996521']\n",
      "CMH 4992\n",
      "['John Glenn Columbus International Airport', '39.998001', '-82.891899']\n",
      "MIA 11315\n",
      "['Miami International Airport', '25.79319953918457', '-80.29060363769531']\n",
      "CHS 11493\n",
      "['Charleston Air Force Base-International Airport', '32.89860153', '-80.04049683']\n",
      "DEN 12460\n",
      "['Denver International Airport', '39.861698150635', '-104.672996521']\n",
      "MLI 13922\n",
      "['Quad City International Airport', '41.44850158691406', '-90.50749969482422']\n",
      "DEN 14044\n",
      "['Denver International Airport', '39.861698150635', '-104.672996521']\n",
      "timeout\n",
      "OMA 0\n",
      "['Eppley Airfield', '41.3032', '-95.894096']\n",
      "PHL 891\n",
      "['Philadelphia International Airport', '39.87189865112305', '-75.24109649658203']\n",
      "GRR 6427\n",
      "['Gerald R. Ford International Airport', '42.88079834', '-85.52279663']\n",
      "BWI 6805\n",
      "['Baltimore/Washington International Thurgood Marshall Airport', '39.1754', '-76.668297']\n",
      "DTW 7170\n",
      "['Detroit Metropolitan Wayne County Airport', '42.212398529052734', '-83.35340118408203']\n",
      "timeout\n",
      "PWM 0\n",
      "['Portland International Jetport Airport', '43.64619827', '-70.30930328']\n",
      "RSW 5537\n",
      "['Southwest Florida International Airport', '26.53619956970215', '-81.75520324707031']\n",
      "LGA 7790\n",
      "['La Guardia Airport', '40.77719879', '-73.87259674']\n",
      "MCO 8078\n",
      "['Orlando International Airport', '28.429399490356445', '-81.30899810791016']\n",
      "AUS 9160\n",
      "['Austin Bergstrom International Airport', '30.194499969482422', '-97.6698989868164']\n",
      "SJC 9395\n",
      "['Norman Y. Mineta San Jose International Airport', '37.362598', '-121.929001']\n",
      "MCI 24055\n",
      "['Kansas City International Airport', '39.2976', '-94.713898']\n",
      "FLL 25386\n",
      "['Fort Lauderdale Hollywood International Airport', '26.072599', '-80.152702']\n",
      "ATL 25575\n",
      "['Hartsfield Jackson Atlanta International Airport', '33.6367', '-84.428101']\n",
      "DCA 25815\n",
      "['Ronald Reagan Washington National Airport', '38.8521', '-77.037697']\n",
      "LAS 26580\n",
      "['McCarran International Airport', '36.08010101', '-115.1520004']\n",
      "PHX 26740\n",
      "['Phoenix Sky Harbor International Airport', '33.43429946899414', '-112.01200103759766']\n",
      "ANC 28205\n",
      "['Ted Stevens Anchorage International Airport', '61.174400329589844', '-149.99600219726562']\n",
      "CDV 28330\n",
      "['Merle K (Mudhole) Smith Airport', '60.4917984', '-145.4779968']\n",
      "YAK 28425\n",
      "['Yakutat Airport', '59.5032997131', '-139.660003662']\n",
      "CDV 29575\n",
      "['Merle K (Mudhole) Smith Airport', '60.4917984', '-145.4779968']\n",
      "ANC 29665\n",
      "['Ted Stevens Anchorage International Airport', '61.174400329589844', '-149.99600219726562']\n",
      "OME 30700\n",
      "['Nome Airport', '64.51219940185547', '-165.44500732421875']\n",
      "ANC 30845\n",
      "['Ted Stevens Anchorage International Airport', '61.174400329589844', '-149.99600219726562']\n",
      "DEN 32087\n",
      "['Denver International Airport', '39.861698150635', '-104.672996521']\n",
      "SEA 32340\n",
      "['Seattle Tacoma International Airport', '47.449001', '-122.308998']\n",
      "timeout\n",
      "BZN 0\n",
      "['Gallatin Field', '45.77750015', '-111.1529999']\n",
      "MSP 697\n",
      "['Minneapolis-St Paul International/Wold-Chamberlain Airport', '44.882', '-93.221802']\n",
      "LAX 984\n",
      "['Los Angeles International Airport', '33.94250107', '-118.4079971']\n",
      "DFW 1319\n",
      "['Dallas Fort Worth International Airport', '32.896801', '-97.038002']\n",
      "SHV 1517\n",
      "['Shreveport Regional Airport', '32.446602', '-93.8256']\n",
      "IAH 1948\n",
      "['George Bush Intercontinental Houston Airport', '29.984399795532227', '-95.34140014648438']\n",
      "CVG 8551\n",
      "['Cincinnati Northern Kentucky International Airport', '39.0488014221', '-84.6678009033']\n",
      "CLT 9176\n",
      "['Charlotte Douglas International Airport', '35.2140007019043', '-80.94309997558594']\n",
      "EWR 17822\n",
      "['Newark Liberty International Airport', '40.692501068115234', '-74.168701171875']\n",
      "BGR 17970\n",
      "['Bangor International Airport', '44.80739974975586', '-68.8281021118164']\n",
      "PIE 22860\n",
      "['St Petersburg Clearwater International Airport', '27.91020012', '-82.68740082']\n",
      "MKE 26492\n",
      "['General Mitchell International Airport', '42.947200775146484', '-87.89659881591797']\n",
      "DAL 26845\n",
      "['Dallas Love Field', '32.847099', '-96.851799']\n",
      "RNO 28320\n",
      "['Reno Tahoe International Airport', '39.49909973144531', '-119.76799774169922']\n",
      "PHX 29370\n",
      "['Phoenix Sky Harbor International Airport', '33.43429946899414', '-112.01200103759766']\n",
      "STS 29533\n",
      "['Charles M. Schulz Sonoma County Airport', '38.50899887', '-122.8130035']\n",
      "PHX 29752\n",
      "['Phoenix Sky Harbor International Airport', '33.43429946899414', '-112.01200103759766']\n",
      "KOA 31188\n",
      "['Ellison Onizuka Kona International At Keahole Airport', '19.738783', '-156.045603']\n",
      "timeout\n",
      "DFW 0\n",
      "['Dallas Fort Worth International Airport', '32.896801', '-97.038002']\n",
      "OAK 639\n",
      "['Metropolitan Oakland International Airport', '37.721298', '-122.221001']\n",
      "DEN 935\n",
      "['Denver International Airport', '39.861698150635', '-104.672996521']\n",
      "ABQ 1229\n",
      "['Albuquerque International Sunport', '35.040199', '-106.609001']\n",
      "IAH 2110\n",
      "['George Bush Intercontinental Houston Airport', '29.984399795532227', '-95.34140014648438']\n",
      "SDF 2522\n",
      "['Louisville International Standiford Field', '38.1744', '-85.736']\n",
      "DEN 3310\n",
      "['Denver International Airport', '39.861698150635', '-104.672996521']\n",
      "DFW 3597\n",
      "['Dallas Fort Worth International Airport', '32.896801', '-97.038002']\n",
      "JAN 8154\n",
      "['Jackson-Medgar Wiley Evers International Airport', '32.3111991882', '-90.0758972168']\n",
      "DCA 9206\n",
      "['Ronald Reagan Washington National Airport', '38.8521', '-77.037697']\n",
      "timeout\n",
      "SAV 0\n",
      "['Savannah Hilton Head International Airport', '32.12760162', '-81.20210266']\n",
      "EWR 599\n",
      "['Newark Liberty International Airport', '40.692501068115234', '-74.168701171875']\n",
      "RSW 1188\n",
      "['Southwest Florida International Airport', '26.53619956970215', '-81.75520324707031']\n",
      "BNA 16775\n",
      "['Nashville International Airport', '36.1245002746582', '-86.6781997680664']\n",
      "DCA 18420\n",
      "['Ronald Reagan Washington National Airport', '38.8521', '-77.037697']\n",
      "timeout\n",
      "CVG 0\n",
      "['Cincinnati Northern Kentucky International Airport', '39.0488014221', '-84.6678009033']\n",
      "LAS 2025\n",
      "['McCarran International Airport', '36.08010101', '-115.1520004']\n",
      "PIT 3860\n",
      "['Pittsburgh International Airport', '40.49150085', '-80.23290253']\n",
      "JFK 6823\n",
      "['John F Kennedy International Airport', '40.63980103', '-73.77890015']\n",
      "PSE 7348\n",
      "['Mercedita Airport', '18.00830078125', '-66.56300354003906']\n",
      "MCO 7512\n",
      "['Orlando International Airport', '28.429399490356445', '-81.30899810791016']\n",
      "JFK 7930\n",
      "['John F Kennedy International Airport', '40.63980103', '-73.77890015']\n",
      "DCA 8510\n",
      "['Ronald Reagan Washington National Airport', '38.8521', '-77.037697']\n",
      "IAH 9455\n",
      "['George Bush Intercontinental Houston Airport', '29.984399795532227', '-95.34140014648438']\n",
      "MSP 9767\n",
      "['Minneapolis-St Paul International/Wold-Chamberlain Airport', '44.882', '-93.221802']\n",
      "TPA 12651\n",
      "['Tampa International Airport', '27.975500106811523', '-82.533203125']\n",
      "CMH 13800\n",
      "['John Glenn Columbus International Airport', '39.998001', '-82.891899']\n",
      "MIA 14195\n",
      "['Miami International Airport', '25.79319953918457', '-80.29060363769531']\n",
      "STL 15034\n",
      "['St Louis Lambert International Airport', '38.748697', '-90.370003']\n",
      "IAH 16372\n",
      "['George Bush Intercontinental Houston Airport', '29.984399795532227', '-95.34140014648438']\n",
      "MIA 16621\n",
      "['Miami International Airport', '25.79319953918457', '-80.29060363769531']\n",
      "ORF 16910\n",
      "['Norfolk International Airport', '36.89459991455078', '-76.20120239257812']\n",
      "ATL 17735\n",
      "['Hartsfield Jackson Atlanta International Airport', '33.6367', '-84.428101']\n",
      "BWI 17901\n",
      "['Baltimore/Washington International Thurgood Marshall Airport', '39.1754', '-76.668297']\n",
      "PHX 18310\n",
      "['Phoenix Sky Harbor International Airport', '33.43429946899414', '-112.01200103759766']\n",
      "ABQ 18719\n",
      "['Albuquerque International Sunport', '35.040199', '-106.609001']\n",
      "ORD 19309\n",
      "[\"Chicago O'Hare International Airport\", '41.9786', '-87.9048']\n",
      "RDU 19822\n",
      "['Raleigh Durham International Airport', '35.877601623535156', '-78.7874984741211']\n",
      "STL 20940\n",
      "['St Louis Lambert International Airport', '38.748697', '-90.370003']\n",
      "DCA 21295\n",
      "['Ronald Reagan Washington National Airport', '38.8521', '-77.037697']\n",
      "PHL 22635\n",
      "['Philadelphia International Airport', '39.87189865112305', '-75.24109649658203']\n",
      "ROC 26502\n",
      "['Greater Rochester International Airport', '43.118900299072266', '-77.67240142822266']\n",
      "CLT 26761\n",
      "['Charlotte Douglas International Airport', '35.2140007019043', '-80.94309997558594']\n",
      "IAD 26894\n",
      "['Washington Dulles International Airport', '38.94449997', '-77.45580292']\n",
      "timeout\n",
      "SYR 0\n",
      "['Syracuse Hancock International Airport', '43.11119842529297', '-76.1063003540039']\n",
      "JFK 820\n",
      "['John F Kennedy International Airport', '40.63980103', '-73.77890015']\n",
      "RDU 1054\n",
      "['Raleigh Durham International Airport', '35.877601623535156', '-78.7874984741211']\n",
      "LGA 1937\n",
      "['La Guardia Airport', '40.77719879', '-73.87259674']\n",
      "MSN 2493\n",
      "['Dane County Regional Truax Field', '43.13990020751953', '-89.3375015258789']\n",
      "SFO 3978\n",
      "['San Francisco International Airport', '37.61899948120117', '-122.375']\n",
      "BWI 5455\n",
      "['Baltimore/Washington International Thurgood Marshall Airport', '39.1754', '-76.668297']\n"
     ]
    },
    {
     "name": "stdout",
     "output_type": "stream",
     "text": [
      "ORD 6509\n",
      "[\"Chicago O'Hare International Airport\", '41.9786', '-87.9048']\n",
      "IND 6963\n",
      "['Indianapolis International Airport', '39.7173', '-86.294403']\n",
      "DFW 7662\n",
      "['Dallas Fort Worth International Airport', '32.896801', '-97.038002']\n",
      "MEM 7762\n",
      "['Memphis International Airport', '35.04240036010742', '-89.97669982910156']\n",
      "ORD 8000\n",
      "[\"Chicago O'Hare International Airport\", '41.9786', '-87.9048']\n",
      "SJC 8432\n",
      "['Norman Y. Mineta San Jose International Airport', '37.362598', '-121.929001']\n",
      "JFK 9590\n",
      "['John F Kennedy International Airport', '40.63980103', '-73.77890015']\n",
      "JAX 9810\n",
      "['Jacksonville International Airport', '30.49410057067871', '-81.68789672851562']\n",
      "timeout\n",
      "ORD 0\n",
      "[\"Chicago O'Hare International Airport\", '41.9786', '-87.9048']\n",
      "DEN 590\n",
      "['Denver International Airport', '39.861698150635', '-104.672996521']\n",
      "FSD 1374\n",
      "['Joe Foss Field Airport', '43.582000732400004', '-96.741897583']\n",
      "ORD 10575\n",
      "[\"Chicago O'Hare International Airport\", '41.9786', '-87.9048']\n",
      "MCI 16740\n",
      "['Kansas City International Airport', '39.2976', '-94.713898']\n",
      "MSY 18380\n",
      "['Louis Armstrong New Orleans International Airport', '29.99340057373047', '-90.25800323486328']\n",
      "SMF 28325\n",
      "['Sacramento International Airport', '38.69540023803711', '-121.59100341796875']\n",
      "ORD 29567\n",
      "[\"Chicago O'Hare International Airport\", '41.9786', '-87.9048']\n",
      "SYR 29860\n",
      "['Syracuse Hancock International Airport', '43.11119842529297', '-76.1063003540039']\n",
      "MCO 30867\n",
      "['Orlando International Airport', '28.429399490356445', '-81.30899810791016']\n",
      "FLL 30965\n",
      "['Fort Lauderdale Hollywood International Airport', '26.072599', '-80.152702']\n",
      "IAH 31258\n",
      "['George Bush Intercontinental Houston Airport', '29.984399795532227', '-95.34140014648438']\n",
      "SJC 32397\n",
      "['Norman Y. Mineta San Jose International Airport', '37.362598', '-121.929001']\n",
      "DAL 33055\n",
      "['Dallas Love Field', '32.847099', '-96.851799']\n",
      "SLC 33885\n",
      "['Salt Lake City International Airport', '40.78839874267578', '-111.97799682617188']\n",
      "PHX 34132\n",
      "['Phoenix Sky Harbor International Airport', '33.43429946899414', '-112.01200103759766']\n",
      "JFK 34884\n",
      "['John F Kennedy International Airport', '40.63980103', '-73.77890015']\n",
      "MSY 35197\n",
      "['Louis Armstrong New Orleans International Airport', '29.99340057373047', '-90.25800323486328']\n",
      "SLC 35853\n",
      "['Salt Lake City International Airport', '40.78839874267578', '-111.97799682617188']\n",
      "timeout\n",
      "MTJ 0\n",
      "['Montrose Regional Airport', '38.509799957300004', '-107.893997192']\n",
      "IAH 1114\n",
      "['George Bush Intercontinental Houston Airport', '29.984399795532227', '-95.34140014648438']\n",
      "MSP 2058\n",
      "['Minneapolis-St Paul International/Wold-Chamberlain Airport', '44.882', '-93.221802']\n",
      "IND 2515\n",
      "['Indianapolis International Airport', '39.7173', '-86.294403']\n",
      "MCI 3385\n",
      "['Kansas City International Airport', '39.2976', '-94.713898']\n",
      "FLL 3865\n",
      "['Fort Lauderdale Hollywood International Airport', '26.072599', '-80.152702']\n",
      "MEM 5209\n",
      "['Memphis International Airport', '35.04240036010742', '-89.97669982910156']\n",
      "DFW 5323\n",
      "['Dallas Fort Worth International Airport', '32.896801', '-97.038002']\n",
      "timeout\n"
     ]
    },
    {
     "data": {
      "text/plain": [
       "['MSP',\n",
       " 0,\n",
       " array([0, 0, 2, 0, 0, 0, 0, 0, 0, 0, 0, 0, 0, 0, 0, 3, 0, 0, 0, 2, 0, 1,\n",
       "        0, 0, 0, 0, 0, 0, 0, 0, 0, 1, 0, 0, 0, 0, 0, 0, 0, 1, 0, 0, 0, 0,\n",
       "        0, 0, 0, 0, 0, 0, 0, 0, 0, 3, 2, 0, 0, 0, 2, 0, 0, 0, 1, 0, 0, 0,\n",
       "        0, 0, 2, 2, 0, 0, 0, 0, 0, 0, 0, 0, 0, 0, 2, 0, 0, 0, 2, 0, 0, 5,\n",
       "        7, 5, 0, 0, 0, 0, 0, 1, 0, 0, 0, 0, 0, 0, 0, 0, 0, 0, 0, 0, 0, 2,\n",
       "        0, 0, 0, 0, 0, 0, 0, 3, 0, 1, 0, 0, 0, 0, 0, 0, 0, 0, 0, 0, 0, 0,\n",
       "        0, 1, 0, 0, 0, 0, 0, 0, 0, 0, 0, 0, 0, 0, 0, 0, 0, 0, 0, 0, 0, 0,\n",
       "        1, 0, 6, 0, 0, 0, 0, 2, 0, 0, 0, 0, 0, 0, 1, 1, 5, 0, 0, 0, 1, 0,\n",
       "        0, 0, 2, 0, 1, 0, 0, 0, 0, 0, 0, 0, 0, 2, 0, 0, 0, 0, 0, 0, 0, 0,\n",
       "        0, 0, 0, 3, 3, 0, 0, 0, 2, 0, 0, 0, 0, 0, 3, 1, 0, 0, 1, 0, 0, 0,\n",
       "        0, 0, 0, 1, 0, 4, 2, 1, 0, 0, 1, 0, 0, 0, 0, 1, 1, 0, 6, 1, 0, 0,\n",
       "        0, 0, 0, 0, 0, 0, 0, 0, 2, 5, 0, 0, 1, 0, 1, 0, 0, 0, 0, 0, 1, 0,\n",
       "        0, 0, 0, 0, 0, 1, 0, 0, 0, 2, 0, 0, 0, 0, 1, 0, 1, 0, 0, 2, 0, 0,\n",
       "        0, 1, 0, 0, 0, 0, 0, 0, 1, 1, 0, 1, 0, 0, 0, 1, 0, 3, 0, 0, 3, 0,\n",
       "        1, 0, 0, 0, 0, 0, 0, 0, 2, 1, 0, 0, 0, 0, 0, 0, 2, 0, 0, 1, 0, 0,\n",
       "        0, 0, 0, 0, 0, 0, 0, 0, 0, 0, 0, 0, 0, 0, 1, 0]),\n",
       " array([ 5, 14,  9,  6, 12,  7,  7,  3,  0,  5,  1,  3, 15,  7, 25,  6, 15])]"
      ]
     },
     "execution_count": 15,
     "metadata": {},
     "output_type": "execute_result"
    }
   ],
   "source": [
    "def randomWalk(airportl,m,t,collect=\"coverage\",prints=False,boucles=1):\n",
    "    pos0=airportl[randint(0,len(airportl)-1)]\n",
    "    t=0\n",
    "    bloque=False\n",
    "    i=0\n",
    "    b=0\n",
    "    if collect==\"coverage\":\n",
    "        airports=np.array([0 for i in range(len(airportl))])\n",
    "        compagnies=np.array([0 for i in range(len(carL))])\n",
    "    if collect==\"firstTimeToReach\":\n",
    "        airports=np.array([tend for i in range(len(airportl))])\n",
    "        compagnies=np.array([tend for i in range(len(carL))])\n",
    "    while bloque==False and b<boucles:\n",
    "        if prints==True:\n",
    "            print(pos0,t)\n",
    "        pos0,t,car,bloque=step(pos0,airportl,m,t,prints=prints)\n",
    "        if bloque==True:\n",
    "            b=b+1\n",
    "            t=0\n",
    "            bloque=False\n",
    "        if collect==\"coverage\":\n",
    "            airports[airportl.index(pos0)]=airports[airportl.index(pos0)]+1\n",
    "            compagnies[carL.index(car)]=compagnies[carL.index(car)]+1\n",
    "        if collect==\"firstTimeToReach\":\n",
    "            if airports[airportl.index(pos0)]==tend:\n",
    "                airports[airportl.index(pos0)]=t\n",
    "            if compagnies[carL.index(car)]== tend:\n",
    "                compagnies[carL.index(car)]=t\n",
    "        i=i+1\n",
    "    return([pos0,t,airports,compagnies])\n",
    "\n",
    "randomWalk(airportl,m,0,prints=True,boucles=10)"
   ]
  },
  {
   "cell_type": "markdown",
   "metadata": {},
   "source": [
    "We compute then a great amount of random walks, collecting several informations:"
   ]
  },
  {
   "cell_type": "markdown",
   "metadata": {},
   "source": [
    "- the coverage"
   ]
  },
  {
   "cell_type": "code",
   "execution_count": 16,
   "metadata": {},
   "outputs": [
    {
     "name": "stdout",
     "output_type": "stream",
     "text": [
      "randomwalk n 0\n",
      "timeout\n",
      "timeout\n",
      "timeout\n",
      "timeout\n",
      "timeout\n",
      "timeout\n",
      "timeout\n",
      "timeout\n",
      "timeout\n",
      "timeout\n",
      "randomwalk n 1\n",
      "timeout\n",
      "timeout\n",
      "timeout\n",
      "timeout\n",
      "timeout\n",
      "timeout\n",
      "timeout\n",
      "timeout\n",
      "timeout\n",
      "timeout\n",
      "randomwalk n 2\n",
      "timeout\n",
      "timeout\n",
      "timeout\n",
      "timeout\n",
      "timeout\n",
      "timeout\n",
      "timeout\n",
      "timeout\n",
      "timeout\n",
      "timeout\n",
      "randomwalk n 3\n",
      "timeout\n",
      "timeout\n",
      "timeout\n",
      "timeout\n",
      "timeout\n",
      "timeout\n",
      "timeout\n",
      "timeout\n",
      "timeout\n",
      "timeout\n",
      "randomwalk n 4\n",
      "timeout\n",
      "timeout\n",
      "timeout\n",
      "timeout\n",
      "timeout\n",
      "timeout\n",
      "timeout\n",
      "timeout\n",
      "timeout\n",
      "timeout\n",
      "randomwalk n 5\n",
      "timeout\n",
      "timeout\n",
      "timeout\n",
      "timeout\n",
      "timeout\n",
      "timeout\n",
      "timeout\n",
      "timeout\n",
      "timeout\n",
      "timeout\n",
      "randomwalk n 6\n",
      "timeout\n",
      "timeout\n",
      "timeout\n",
      "timeout\n",
      "timeout\n",
      "timeout\n",
      "timeout\n",
      "timeout\n",
      "timeout\n",
      "timeout\n",
      "randomwalk n 7\n",
      "timeout\n",
      "timeout\n",
      "timeout\n",
      "timeout\n",
      "timeout\n",
      "timeout\n",
      "timeout\n",
      "timeout\n",
      "timeout\n",
      "timeout\n",
      "randomwalk n 8\n",
      "timeout\n",
      "timeout\n",
      "timeout\n",
      "timeout\n",
      "timeout\n",
      "timeout\n",
      "timeout\n",
      "timeout\n",
      "timeout\n",
      "timeout\n",
      "randomwalk n 9\n",
      "timeout\n",
      "timeout\n",
      "timeout\n",
      "timeout\n",
      "timeout\n",
      "timeout\n",
      "timeout\n",
      "timeout\n",
      "timeout\n",
      "timeout\n"
     ]
    }
   ],
   "source": [
    "covAirports=np.array([0 for i in range(len(airportl))])\n",
    "covCompagnies=np.array([0 for i in range(len(carL))])\n",
    "airports=np.array([0 for i in (airportl)])\n",
    "t=0\n",
    "for i in range(10):\n",
    "    print(\"randomwalk n\", i)\n",
    "    vect=randomWalk(airportl,m,t,boucles=10)\n",
    "    airports=vect[2]\n",
    "    compagnies=vect[3]\n",
    "    covAirports=np.add(covAirports,airports)\n",
    "    covCompagnies=np.add(covCompagnies,compagnies)"
   ]
  },
  {
   "cell_type": "code",
   "execution_count": 116,
   "metadata": {},
   "outputs": [
    {
     "data": {
      "image/png": "[encoded data removed]",
      "text/plain": [
       "<Figure size 432x288 with 1 Axes>"
      ]
     },
     "metadata": {
      "needs_background": "light"
     },
     "output_type": "display_data"
    }
   ],
   "source": [
    "axes = plt.gca()\n",
    "plt.plot(covAirports,pr,'o')\n",
    "axes.set_ylabel('Page Rank')\n",
    "axes.set_xlabel('coverage by random walker')\n",
    "plt.show()"
   ]
  },
  {
   "cell_type": "code",
   "execution_count": 117,
   "metadata": {},
   "outputs": [
    {
     "data": {
      "image/png": "[encoded data removed]",
      "text/plain": [
       "<Figure size 432x288 with 1 Axes>"
      ]
     },
     "metadata": {
      "needs_background": "light"
     },
     "output_type": "display_data"
    }
   ],
   "source": [
    "axes = plt.gca()\n",
    "plt.plot(covAirports,bt,'o')\n",
    "axes.set_ylabel('Betweenness centrality')\n",
    "axes.set_xlabel('coverage by random walker')\n",
    "plt.show()"
   ]
  },
  {
   "cell_type": "code",
   "execution_count": 118,
   "metadata": {},
   "outputs": [
    {
     "data": {
      "image/png": "[encoded data removed]",
      "text/plain": [
       "<Figure size 432x288 with 1 Axes>"
      ]
     },
     "metadata": {
      "needs_background": "light"
     },
     "output_type": "display_data"
    }
   ],
   "source": [
    "axes=plt.gca()\n",
    "plt.plot(covCompagnies,vectp,'o')\n",
    "axes.set_ylabel('intrication')\n",
    "axes.set_xlabel('coverage compagnies by random walker')\n",
    "plt.show()\n"
   ]
  },
  {
   "cell_type": "markdown",
   "metadata": {},
   "source": [
    "- the first time to reach"
   ]
  },
  {
   "cell_type": "code",
   "execution_count": 19,
   "metadata": {},
   "outputs": [
    {
     "name": "stdout",
     "output_type": "stream",
     "text": [
      "randomwalk n 0\n",
      "timeout\n",
      "timeout\n",
      "timeout\n",
      "timeout\n",
      "timeout\n",
      "timeout\n",
      "timeout\n",
      "timeout\n",
      "timeout\n",
      "timeout\n",
      "randomwalk n 1\n",
      "timeout\n",
      "timeout\n",
      "timeout\n",
      "timeout\n",
      "timeout\n",
      "timeout\n",
      "timeout\n",
      "timeout\n",
      "timeout\n",
      "timeout\n",
      "randomwalk n 2\n",
      "timeout\n",
      "timeout\n",
      "timeout\n",
      "timeout\n",
      "timeout\n",
      "timeout\n",
      "timeout\n",
      "timeout\n",
      "timeout\n",
      "timeout\n",
      "randomwalk n 3\n",
      "timeout\n",
      "timeout\n",
      "timeout\n",
      "timeout\n",
      "timeout\n",
      "timeout\n",
      "timeout\n",
      "timeout\n",
      "timeout\n",
      "timeout\n",
      "randomwalk n 4\n",
      "timeout\n",
      "timeout\n",
      "timeout\n",
      "timeout\n",
      "timeout\n",
      "timeout\n",
      "timeout\n",
      "timeout\n",
      "timeout\n",
      "timeout\n",
      "randomwalk n 5\n",
      "timeout\n",
      "timeout\n",
      "timeout\n",
      "timeout\n",
      "timeout\n",
      "timeout\n",
      "timeout\n",
      "timeout\n",
      "timeout\n",
      "timeout\n",
      "randomwalk n 6\n",
      "timeout\n",
      "timeout\n",
      "timeout\n",
      "timeout\n",
      "timeout\n",
      "timeout\n",
      "timeout\n",
      "timeout\n",
      "timeout\n",
      "timeout\n",
      "randomwalk n 7\n",
      "timeout\n",
      "timeout\n",
      "timeout\n",
      "timeout\n",
      "timeout\n",
      "timeout\n",
      "timeout\n",
      "timeout\n",
      "timeout\n",
      "timeout\n",
      "randomwalk n 8\n",
      "timeout\n",
      "timeout\n",
      "timeout\n",
      "timeout\n",
      "timeout\n",
      "timeout\n",
      "timeout\n",
      "timeout\n",
      "timeout\n",
      "timeout\n",
      "randomwalk n 9\n",
      "timeout\n",
      "timeout\n",
      "timeout\n",
      "timeout\n",
      "timeout\n",
      "timeout\n",
      "timeout\n",
      "timeout\n",
      "timeout\n",
      "timeout\n"
     ]
    }
   ],
   "source": [
    "ftrAirports=np.array([0 for i in range(len(airportl))])\n",
    "ftrCompagnies=np.array([0 for i in range(len(carL))])\n",
    "airports=np.array([0 for i in (airportl)])\n",
    "t=0\n",
    "for i in range(10):\n",
    "    print(\"randomwalk n\", i)\n",
    "    vect=randomWalk(airportl,m,t,collect=\"firstTimeToReach\",boucles=10)\n",
    "    airports=vect[2]\n",
    "    compagnies=vect[3]\n",
    "    ftrAirports=np.add(covAirports,airports)\n",
    "    ftrCompagnies=np.add(covCompagnies,compagnies)"
   ]
  },
  {
   "cell_type": "code",
   "execution_count": 20,
   "metadata": {},
   "outputs": [
    {
     "data": {
      "image/png": "[encoded data removed]",
      "text/plain": [
       "<Figure size 432x288 with 1 Axes>"
      ]
     },
     "metadata": {
      "needs_background": "light"
     },
     "output_type": "display_data"
    }
   ],
   "source": [
    "axes = plt.gca()\n",
    "plt.plot(ftrAirports,pr,'o')\n",
    "axes.set_ylabel('Page Rank')\n",
    "axes.set_xlabel('firstTimeToReach')\n",
    "plt.show()"
   ]
  },
  {
   "cell_type": "code",
   "execution_count": 21,
   "metadata": {},
   "outputs": [
    {
     "data": {
      "image/png": "[encoded data removed]",
      "text/plain": [
       "<Figure size 432x288 with 1 Axes>"
      ]
     },
     "metadata": {
      "needs_background": "light"
     },
     "output_type": "display_data"
    }
   ],
   "source": [
    "axes = plt.gca()\n",
    "plt.plot(ftrAirports,bt,'o')\n",
    "axes.set_ylabel('Betweenness centrality')\n",
    "axes.set_xlabel('first time to reach')\n",
    "plt.show()"
   ]
  },
  {
   "cell_type": "code",
   "execution_count": 38,
   "metadata": {},
   "outputs": [],
   "source": [
    "nnodes=[121,102,70,68,145,101,90,120,18,134,43,95,239,108,85,103,87]\n",
    "nlinks=[488,721,326,362,834,368,522,614,62,419,366,325,1358,715,1378,335,661]"
   ]
  },
  {
   "cell_type": "code",
   "execution_count": 31,
   "metadata": {},
   "outputs": [
    {
     "name": "stdout",
     "output_type": "stream",
     "text": [
      "['9E', 'AA', 'AS', 'B6', 'DL', 'EV', 'F9', 'G4', 'HA', 'MQ', 'NK', 'OH', 'OO', 'UA', 'WN', 'YV', 'YX']\n"
     ]
    },
    {
     "data": {
      "image/png": "[encoded data removed]",
      "text/plain": [
       "<Figure size 432x288 with 1 Axes>"
      ]
     },
     "metadata": {
      "needs_background": "light"
     },
     "output_type": "display_data"
    }
   ],
   "source": [
    "axes=plt.gca()\n",
    "plt.plot(covCompagnies,vectp,'o')\n",
    "axes.set_ylabel('intrication')\n",
    "axes.set_xlabel('coverage compagnies by random walker')\n",
    "print(carL)\n",
    "ni=0\n",
    "for i in carL:\n",
    "    text = axes.text(covCompagnies[ni],vectp[ni],i,ha=\"left\", va=\"center\", color=\"b\")\n",
    "    ni=ni+1\n",
    "plt.show()\n"
   ]
  },
  {
   "cell_type": "code",
   "execution_count": 37,
   "metadata": {},
   "outputs": [
    {
     "name": "stdout",
     "output_type": "stream",
     "text": [
      "[0.5867768595041323, 1.1666666666666667, 0.7285714285714285, 0.8382352941176471, 0.8620689655172413, 0.5643564356435643, 0.8333333333333334, 0.8083333333333333, 0.4444444444444444, 0.3582089552238806, 1.302325581395349, 0.5263157894736842, 0.803347280334728, 0.7222222222222222, 2.164705882352941, 0.3786407766990291, 1.2183908045977012]\n"
     ]
    },
    {
     "data": {
      "image/png": "[encoded data removed]",
      "text/plain": [
       "<Figure size 432x288 with 1 Axes>"
      ]
     },
     "metadata": {
      "needs_background": "light"
     },
     "output_type": "display_data"
    }
   ],
   "source": [
    "cov2=[covCompagnies[i]/nnodes[i] for i in range(len(carL))]\n",
    "axes=plt.gca()\n",
    "plt.plot(cov2,vectp,'o')\n",
    "axes.set_ylabel('intrication')\n",
    "axes.set_xlabel('coverage compagnies by random walker')\n",
    "print(cov2)\n",
    "ni=0\n",
    "for i in carL:\n",
    "    text = axes.text(cov2[ni],vectp[ni],i,ha=\"left\", va=\"center\", color=\"b\")\n",
    "    ni=ni+1\n",
    "plt.show()"
   ]
  },
  {
   "cell_type": "code",
   "execution_count": 39,
   "metadata": {},
   "outputs": [
    {
     "name": "stdout",
     "output_type": "stream",
     "text": [
      "[0.5867768595041323, 1.1666666666666667, 0.7285714285714285, 0.8382352941176471, 0.8620689655172413, 0.5643564356435643, 0.8333333333333334, 0.8083333333333333, 0.4444444444444444, 0.3582089552238806, 1.302325581395349, 0.5263157894736842, 0.803347280334728, 0.7222222222222222, 2.164705882352941, 0.3786407766990291, 1.2183908045977012]\n"
     ]
    },
    {
     "data": {
      "image/png": "[encoded data removed]",
      "text/plain": [
       "<Figure size 432x288 with 1 Axes>"
      ]
     },
     "metadata": {
      "needs_background": "light"
     },
     "output_type": "display_data"
    }
   ],
   "source": [
    "cov3=[covCompagnies[i]/nlinks[i] for i in range(len(carL))]\n",
    "axes=plt.gca()\n",
    "plt.plot(cov3,vectp,'o')\n",
    "axes.set_ylabel('intrication')\n",
    "axes.set_xlabel('coverage compagnies by random walker')\n",
    "print(cov2)\n",
    "ni=0\n",
    "for i in carL:\n",
    "    text = axes.text(cov3[ni],vectp[ni],i,ha=\"left\", va=\"center\", color=\"b\")\n",
    "    ni=ni+1\n",
    "plt.show()"
   ]
  }
 ],
 "metadata": {
  "kernelspec": {
   "display_name": "Python 3",
   "language": "python",
   "name": "python3"
  },
  "language_info": {
   "codemirror_mode": {
    "name": "ipython",
    "version": 3
   },
   "file_extension": ".py",
   "mimetype": "text/x-python",
   "name": "python",
   "nbconvert_exporter": "python",
   "pygments_lexer": "ipython3",
   "version": "3.7.3"
  }
 },
 "nbformat": 4,
 "nbformat_minor": 2
}
