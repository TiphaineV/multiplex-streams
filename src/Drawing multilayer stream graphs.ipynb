{
 "cells": [
  {
   "cell_type": "markdown",
   "metadata": {},
   "source": [
    "# Drawing multilayer stream graphs"
   ]
  },
  {
   "cell_type": "markdown",
   "metadata": {},
   "source": [
    "## Import the library\n",
    "\n",
    "The different elements are on the same folder\n"
   ]
  },
  {
   "cell_type": "code",
   "execution_count": 1,
   "metadata": {},
   "outputs": [
    {
     "name": "stdout",
     "output_type": "stream",
     "text": [
      "sorted collection imported\n"
     ]
    }
   ],
   "source": [
    "\n",
    "from library.Drawing import *\n",
    "\n",
    "\n",
    "from library.visuMultiStream import *\n",
    "from library.intervals import *\n",
    "from library.structure import *\n",
    "from library.elemMSGraph import *\n",
    "from library.multiLayers import *"
   ]
  },
  {
   "cell_type": "markdown",
   "metadata": {},
   "source": [
    "## Set the time"
   ]
  },
  {
   "cell_type": "code",
   "execution_count": 2,
   "metadata": {},
   "outputs": [],
   "source": [
    "t0=0\n",
    "tend=20\n",
    "scale = 1\n",
    "interval = Interval(0,(tend-t0)/scale)"
   ]
  },
  {
   "cell_type": "markdown",
   "metadata": {},
   "source": [
    "# Set the layers"
   ]
  },
  {
   "cell_type": "code",
   "execution_count": 23,
   "metadata": {},
   "outputs": [],
   "source": [
    "mil = Aspect(\"milieu\",[\"plain\",\"mountain\"])\n",
    "rel = Aspect(\"type_de_relation\",[\"Collaboration\",\"Fight\"])"
   ]
  },
  {
   "cell_type": "code",
   "execution_count": 24,
   "metadata": {},
   "outputs": [],
   "source": [
    "struct= LayerStruct([mil,rel])"
   ]
  },
  {
   "cell_type": "markdown",
   "metadata": {},
   "source": [
    "## Set the nodes\n",
    "- in plain, collaboration"
   ]
  },
  {
   "cell_type": "code",
   "execution_count": 25,
   "metadata": {},
   "outputs": [],
   "source": [
    "nA = NodeT(\"F1\",IntervalList([Interval(4,10),Interval(12,20)]),nodeLabel=\"F1\",color=\"orange\")\n",
    "nB = NodeT(\"F2\",IntervalList([Interval(10,20)]),nodeLabel=\"F2\",color=\"orange\")\n",
    "nC = NodeT(\"M1\",IntervalList([Interval(0,2),Interval(4,8),Interval(15,19)]),nodeLabel=\"M1\",color=\"orange\")\n",
    "nD = NodeT(\"M2\",IntervalList([Interval(0,10)]),nodeLabel=\"M2\",color=\"orange\")\n",
    "\n",
    "nl=NodeTList([nA,nB,nC,nD])\n",
    "\n",
    "layer1=Layer(struct,[\"plain\",\"Collaboration\"],Interval(0,20),nl)"
   ]
  },
  {
   "cell_type": "markdown",
   "metadata": {},
   "source": [
    "- mountain, collaboration"
   ]
  },
  {
   "cell_type": "code",
   "execution_count": 26,
   "metadata": {},
   "outputs": [],
   "source": [
    "nA2 = NodeT(\"F1\",IntervalList([Interval(0,4),Interval(10,12)]),nodeLabel=\"F1\",color=13)\n",
    "nB2 = NodeT(\"F2\",IntervalList([Interval(0,10)]),nodeLabel=\"F2\",color=13)\n",
    "nC2 = NodeT(\"M1\",IntervalList([Interval(2,4),Interval(8,15)]),nodeLabel=\"M1\",color=13)\n",
    "nD2 = NodeT(\"M2\",IntervalList([Interval(10,20)]),nodeLabel=\"M2\",color=13)\n",
    "\n",
    "nl2=NodeTList([nA2,nB2,nC2,nD2])\n",
    "layer2=Layer(struct,[\"mountain\",\"Collaboration\"],Interval(0,20),nl2)"
   ]
  },
  {
   "cell_type": "markdown",
   "metadata": {},
   "source": [
    "- plain, fight"
   ]
  },
  {
   "cell_type": "code",
   "execution_count": 27,
   "metadata": {},
   "outputs": [],
   "source": [
    "nA3 = NodeT(\"F1\",IntervalList([Interval(4,10),Interval(12,20)]),nodeLabel=\"F1\",color=19)\n",
    "nB3 = NodeT(\"F2\",IntervalList([Interval(10,20)]),nodeLabel=\"F2\",color=19)\n",
    "nC3 = NodeT(\"M1\",IntervalList([Interval(0,2),Interval(4,8),Interval(15,19)]),nodeLabel=\"M1\",color=19)\n",
    "nD3 = NodeT(\"M2\",IntervalList([Interval(0,10)]),nodeLabel=\"M2\",color=19)\n",
    "\n",
    "nl3=NodeTList([nA3,nB3,nC3,nD3])\n",
    "layer3=Layer(struct,[\"plain\",\"Fight\"],Interval(0,20),nl3)"
   ]
  },
  {
   "cell_type": "markdown",
   "metadata": {},
   "source": [
    "- mountain, fight"
   ]
  },
  {
   "cell_type": "code",
   "execution_count": 28,
   "metadata": {},
   "outputs": [],
   "source": [
    "nA4 = NodeT(\"F1\",IntervalList([Interval(0,4),Interval(10,12)]),nodeLabel=\"F1\",color=15)\n",
    "nB4 = NodeT(\"F2\",IntervalList([Interval(0,10)]),nodeLabel=\"F2\",color=15)\n",
    "nC4 = NodeT(\"M1\",IntervalList([Interval(2,4),Interval(8,15)]),nodeLabel=\"M1\",color=15)\n",
    "nD4 = NodeT(\"M2\",IntervalList([Interval(10,20)]),nodeLabel=\"M2\",color=15)\n",
    "\n",
    "nl4=NodeTList([nA4,nB4,nC4,nD4])\n",
    "layer4=Layer(struct,[\"mountain\",\"Fight\"],Interval(0,10),nl4)"
   ]
  },
  {
   "cell_type": "markdown",
   "metadata": {},
   "source": [
    "## Set the links"
   ]
  },
  {
   "cell_type": "code",
   "execution_count": 29,
   "metadata": {},
   "outputs": [],
   "source": [
    "link1= Link(IntervalList([Interval(6,7)]),nD,[\"plain\",\"Collaboration\"],nC,[\"plain\",\"Collaboration\"],color=\"orange\")\n",
    "link2= Link(IntervalList([Interval(15,17)]),nA,[\"plain\",\"Collaboration\"],nC,[\"plain\",\"Collaboration\"],color=\"orange\")\n",
    "link3= Link(IntervalList([Interval(1,2),Interval(3,4)]),nA2,[\"mountain\",\"Collaboration\"],nB2,[\"mountain\",\"Collaboration\"],color=13)\n",
    "linkplus2= Link(IntervalList([Interval(2,4)]),nC2,[\"mountain\",\"Collaboration\"],nB2,[\"mountain\",\"Collaboration\"],color=13)\n",
    "link22= Link(IntervalList([Interval(11,12),Interval(13,14)]),nC2,[\"mountain\",\"Collaboration\"],nD2,[\"mountain\",\"Collaboration\"],color=13)\n",
    "link31= Link(IntervalList([Interval(1,2)]),nD3,[\"plain\",\"Fight\"],nC3,[\"plain\",\"Fight\"],color=19)\n",
    "link32= Link(IntervalList([Interval(5,8)]),nA3,[\"plain\",\"Fight\"],nC3,[\"plain\",\"Fight\"],color=19)\n",
    "link43= Link(IntervalList([Interval(1,2),Interval(3,4)]),nA4,[\"mountain\",\"Fight\"],nB4,[\"mountain\",\"Fight\"],color=15)\n",
    "link42= Link(IntervalList([Interval(8,9)]),nC4,[\"mountain\",\"Fight\"],nB4,[\"mountain\",\"Fight\"],color=15)\n",
    "link43= Link(IntervalList([Interval(4,5)]),nB4,[\"mountain\",\"Fight\"],nC4,[\"mountain\",\"Fight\"],color=15)\n"
   ]
  },
  {
   "cell_type": "markdown",
   "metadata": {},
   "source": [
    "## Construction of the multilayer stream graph"
   ]
  },
  {
   "cell_type": "code",
   "execution_count": 30,
   "metadata": {},
   "outputs": [],
   "source": [
    "m=MultiStream(interval,struct,LayerList([layer1,layer2,layer3,layer4]),LinkList([link1,link2,link3,linkplus2,link31,link32,link42,link22,link43]))\n"
   ]
  },
  {
   "cell_type": "markdown",
   "metadata": {},
   "source": [
    "## Drawing of the multilayer stream graph"
   ]
  },
  {
   "cell_type": "markdown",
   "metadata": {},
   "source": [
    "- if your colors are already definded, put colors=\"def\"\n",
    "- if not you can set colors=\"byLayer\" (default value) and it will be colored randomly according to the different layers"
   ]
  },
  {
   "cell_type": "code",
   "execution_count": 31,
   "metadata": {},
   "outputs": [],
   "source": [
    "m.drawMS(\"outputs/exraplong3.fig\",colors=\"def\")"
   ]
  },
  {
   "cell_type": "markdown",
   "metadata": {},
   "source": [
    "## How to deal with a .fig file"
   ]
  },
  {
   "cell_type": "markdown",
   "metadata": {},
   "source": [
    "- reading:\n",
    "    - on windows you can download \"Winfig\"\n",
    "- export: \n",
    "    - on windows, winfig doesn't work. But you can now use Linux realy easily on windows (https://docs.microsoft.com/en-us/windows/wsl/install-win10)!\n",
    "    - on linux: use `fig2dev [-Lpng/-Lpdf according to the format you want] [your fig file] -> [the new file]`\n",
    "    "
   ]
  },
  {
   "cell_type": "markdown",
   "metadata": {},
   "source": [
    "The result should like this : example_jupyter.png"
   ]
  }
 ],
 "metadata": {
  "kernelspec": {
   "display_name": "Python 3",
   "language": "python",
   "name": "python3"
  },
  "language_info": {
   "codemirror_mode": {
    "name": "ipython",
    "version": 3
   },
   "file_extension": ".py",
   "mimetype": "text/x-python",
   "name": "python",
   "nbconvert_exporter": "python",
   "pygments_lexer": "ipython3",
   "version": "3.7.3"
  }
 },
 "nbformat": 4,
 "nbformat_minor": 2
}
