{
 "cells": [
  {
   "cell_type": "code",
   "execution_count": 1,
   "metadata": {},
   "outputs": [
    {
     "name": "stdout",
     "output_type": "stream",
     "text": [
      "sorted collection imported\n"
     ]
    }
   ],
   "source": [
    "import importlib\n",
    "import library.nbtool as nbtool; importlib.reload(nbtool)\n",
    "import parser.lycee as lycee;    importlib.reload(lycee)\n",
    "from parser.lycee import *"
   ]
  },
  {
   "cell_type": "markdown",
   "metadata": {
    "toc-hr-collapsed": false
   },
   "source": [
    "# Read the dataset and construct the multi stream graph"
   ]
  },
  {
   "cell_type": "code",
   "execution_count": 2,
   "metadata": {},
   "outputs": [
    {
     "name": "stdout",
     "output_type": "stream",
     "text": [
      "readlink2...\n",
      "readlink3...\n",
      "link3 done\n"
     ]
    }
   ],
   "source": [
    "Lycee = MultiStream(interval, LYCEE, LayerList([]), LinkList([]))\n",
    "liste, liste2 = readNodes(Lycee, [\"face_to_face\", \"facebook\", \"friendship\"])\n",
    "ti, ni = readLinks(Lycee, liste)\n",
    "readLinks2(Lycee, liste, liste2)   # read facebook links\n",
    "readLinks3(Lycee, liste, liste2)   # read friendship links"
   ]
  },
  {
   "cell_type": "markdown",
   "metadata": {},
   "source": [
    "## Various types of layer definitions"
   ]
  },
  {
   "cell_type": "code",
   "execution_count": 3,
   "metadata": {},
   "outputs": [],
   "source": [
    "_math_physics = layerWithCommonPoint(LYCEE, \"annee\", \"MP\")\n",
    "MathPhysics = Lycee.extractLayers(_math_physics)\n",
    "\n",
    "_girls, _boys = [layerWithCommonPoint(LYCEE, 'sexe', sexe) for sexe in ['F', 'M']]\n",
    "Girls   = Lycee.extractLayers(_girls)\n",
    "Boys    = Lycee.extractLayers(_boys)\n",
    "UniSex  = Lycee.interLayers(_girls, _boys)\n",
    "\n",
    "_f2f = layerWithCommonPoint(LYCEE, \"typeOfRel\", \"face_to_face\")  # face to face layer\n",
    "F2F     = Lycee.extractLayers(_f2f)"
   ]
  },
  {
   "cell_type": "markdown",
   "metadata": {},
   "source": [
    "## Cut the Multi-layer stream graph (MLSG) in a window of time"
   ]
  },
  {
   "cell_type": "code",
   "execution_count": 4,
   "metadata": {},
   "outputs": [
    {
     "data": {
      "image/png": "[encoded data removed]",
      "text/plain": [
       "<IPython.core.display.Image object>"
      ]
     },
     "metadata": {},
     "output_type": "display_data"
    },
    {
     "data": {
      "text/html": [
       "<a href='outputs/mp_girls.png' target='_blank'>outputs/mp_girls.png</a><br>"
      ],
      "text/plain": [
       "/Users/wakita/Dropbox/projects/mxvis/mx-streams/src/outputs/mp_girls.png"
      ]
     },
     "metadata": {},
     "output_type": "display_data"
    },
    {
     "data": {
      "image/png": "[encoded data removed]",
      "text/plain": [
       "<IPython.core.display.Image object>"
      ]
     },
     "metadata": {},
     "output_type": "display_data"
    },
    {
     "data": {
      "text/html": [
       "<a href='outputs/mp_girls_ordonne.png' target='_blank'>outputs/mp_girls_ordonne.png</a><br>"
      ],
      "text/plain": [
       "/Users/wakita/Dropbox/projects/mxvis/mx-streams/src/outputs/mp_girls_ordonne.png"
      ]
     },
     "metadata": {},
     "output_type": "display_data"
    }
   ],
   "source": [
    "# Face to face relationship among girls taking Math & Physics during the period [0, 40]\n",
    "mp_girls = Lycee.cut(Interval(0, 40)).extractLayers(_math_physics).extractLayers(_girls).extractLayers(_f2f)\n",
    "\n",
    "nbtool.drawMS(mp_girls, name='mp_girls', show=True)\n",
    "nbtool.drawMS(mp_girls, name='mp_girls_ordonne', show=True, ordonne=True)"
   ]
  },
  {
   "cell_type": "markdown",
   "metadata": {},
   "source": [
    "## Bug\n",
    "\n",
    "`mp_firls_ordonne.fig` is a bit broken.  Somehow when `ordonne=True` is specified the drawMS seem to resets the interval.  This is not the case with Pimprenelle's original implementation.  I think this is due to inappropriate implicit reference of a global variable in my implementation."
   ]
  },
  {
   "cell_type": "markdown",
   "metadata": {},
   "source": [
    "# Playground\n",
    "\n",
    "## `elemMSGraph`\n",
    "\n",
    "- Layers: layerStruct, layers, numberOfNodeLayers\n",
    "- Nodes: nodes, numberOfNodes\n",
    "- Links: giveLinks\n",
    "- Paths: enumShortestPath, foremostPath\n",
    "- Structural operations\n",
    "    - interval\n",
    "    - giveLayers, giveListForForemost, giveListForLastDept\n",
    "    - cut, extractLayers, extractML\n",
    "    - directed\n",
    "    - interLayers\n",
    "- Computate indices\n",
    "    - calculMatriceProbaTransition\n",
    "    - calculProba\n",
    "    - computeCovMatrix, computeLengthEm, comupteIntricationMatrixBurtMS\n",
    "    - computeDensity, computeDensityBiparti, elemLayerDensitiesMat, elemLayerDensitiesMatDiag0\n",
    "- Unknown\n",
    "    - avionsSuivants, em, findWindows, lastDeptPath, multit, ordreAretes\n",
    "\n",
    "## `elemMSGraph.LinkList`\n",
    "\n",
    "`mp_girls.giveLinks() : visuMultiStream.MultiStream = `\n",
    "\n",
    "- addLink\n",
    "- countLinks: `#giveListofLinks()`?\n",
    "- giveIndex: gives the index number for a node\n",
    "- giveListFor{Enum, Foremost, LastDept}\n",
    "- giveListofLinks\n",
    "- length\n",
    "- listOfLinks"
   ]
  },
  {
   "cell_type": "code",
   "execution_count": 5,
   "metadata": {},
   "outputs": [
    {
     "name": "stdout",
     "output_type": "stream",
     "text": [
      "156 -> 245: #2, 0.03999999999999915\n"
     ]
    }
   ],
   "source": [
    "edges = mp_girls.giveLinks()\n",
    "link = edges.listOfLinks[0]\n",
    "#print(dir(link)); print()\n",
    "#link.printLink(); print()\n",
    "\n",
    "intervals = link.giveIntervals()  # link.intervals (interval collection object), link.giveIntervals2 (???)\n",
    "print(f'{link.node1.node} -> {link.node2.node}: #{len(intervals)}, {link.giveLength()}')\n",
    "\n",
    "n1 = link.node1\n",
    "# n1.node: str"
   ]
  },
  {
   "cell_type": "code",
   "execution_count": 6,
   "metadata": {},
   "outputs": [
    {
     "data": {
      "text/markdown": [
       "### A set of connected nodes in Lycee[0,40]/MP/girls/f2f"
      ],
      "text/plain": [
       "<IPython.core.display.Markdown object>"
      ]
     },
     "metadata": {},
     "output_type": "display_data"
    },
    {
     "name": "stdout",
     "output_type": "stream",
     "text": [
      " {('694', '753'), ('156', '753'), ('454', '874'), ('156', '454'), ('577', '753'), ('454', '520'), ('577', '694'), ('156', '502'), ('454', '502'), ('156', '694'), ('245', '520'), ('454', '576'), ('156', '245'), ('502', '874'), ('520', '576'), ('245', '502'), ('576', '577')}\n",
      "\n"
     ]
    },
    {
     "data": {
      "text/markdown": [
       "### #Connectios in Lycee[0,40]/MP/girls/f2f"
      ],
      "text/plain": [
       "<IPython.core.display.Markdown object>"
      ]
     },
     "metadata": {},
     "output_type": "display_data"
    },
    {
     "name": "stdout",
     "output_type": "stream",
     "text": [
      "('156', '245') 2\n",
      "('245', '156') 2\n",
      "('156', '454') 3\n",
      "('454', '156') 3\n",
      "('156', '502') 5\n",
      "('502', '156') 5\n",
      "('156', '694') 5\n",
      "('694', '156') 5\n",
      "('156', '753') 2\n",
      "('753', '156') 2\n",
      "('245', '502') 3\n",
      "('502', '245') 3\n",
      "('245', '520') 1\n",
      "('520', '245') 1\n",
      "('454', '502') 2\n",
      "('502', '454') 2\n",
      "('454', '520') 1\n",
      "('520', '454') 1\n",
      "('454', '576') 2\n",
      "('576', '454') 2\n",
      "('454', '874') 3\n",
      "('874', '454') 3\n",
      "('502', '874') 2\n",
      "('874', '502') 2\n",
      "('520', '576') 7\n",
      "('576', '520') 7\n",
      "('576', '577') 2\n",
      "('577', '576') 2\n",
      "('577', '694') 7\n",
      "('694', '577') 7\n",
      "('577', '753') 2\n",
      "('753', '577') 2\n",
      "('694', '753') 1\n",
      "('753', '694') 1\n"
     ]
    }
   ],
   "source": [
    "connected_pairs = set()  # a set of pairs of nodes that form at least one link\n",
    "n_connections = {}         # a mapping from a pair of nodes to the number of links in between them\n",
    "\n",
    "for link in mp_girls.giveLinks().listOfLinks:\n",
    "    l = n1, n2 = link.node1.node, link.node2.node\n",
    "    connected_pairs |= set([l])\n",
    "    connected_pairs |= set([l])\n",
    "    if l not in n_connections: n_connections[l] = 0; n_connections[(n2, n1)] = 0\n",
    "    n_intervals = len(link.giveIntervals())\n",
    "    n_connections[l] += n_intervals; n_connections[(n2, n1)] += n_intervals\n",
    "\n",
    "from IPython.display import display, Markdown\n",
    "\n",
    "display(Markdown('### A set of connected nodes in Lycee[0,40]/MP/girls/f2f'))\n",
    "print('', connected_pairs); print()\n",
    "display(Markdown('### #Connectios in Lycee[0,40]/MP/girls/f2f'))\n",
    "for k in n_connections: print(k, n_connections[k])"
   ]
  },
  {
   "cell_type": "code",
   "execution_count": null,
   "metadata": {},
   "outputs": [],
   "source": []
  }
 ],
 "metadata": {
  "kernelspec": {
   "display_name": "Python 3",
   "language": "python",
   "name": "python3"
  },
  "language_info": {
   "codemirror_mode": {
    "name": "ipython",
    "version": 3
   },
   "file_extension": ".py",
   "mimetype": "text/x-python",
   "name": "python",
   "nbconvert_exporter": "python",
   "pygments_lexer": "ipython3",
   "version": "3.7.6"
  }
 },
 "nbformat": 4,
 "nbformat_minor": 4
}
