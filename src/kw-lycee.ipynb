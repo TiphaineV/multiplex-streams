{
 "cells": [
  {
   "cell_type": "code",
   "execution_count": 1,
   "metadata": {},
   "outputs": [
    {
     "name": "stdout",
     "output_type": "stream",
     "text": [
      "sorted collection imported\n"
     ]
    }
   ],
   "source": [
    "import importlib\n",
    "import library.nbtool as nbtool; importlib.reload(nbtool)\n",
    "import parser.lycee as lycee;    importlib.reload(lycee)\n",
    "from parser.lycee import *"
   ]
  },
  {
   "cell_type": "markdown",
   "metadata": {},
   "source": [
    "# Read the dataset and construct the multi stream graph"
   ]
  },
  {
   "cell_type": "code",
   "execution_count": 2,
   "metadata": {},
   "outputs": [
    {
     "name": "stdout",
     "output_type": "stream",
     "text": [
      "readlink2...\n",
      "readlink3...\n",
      "link3 done\n"
     ]
    }
   ],
   "source": [
    "Lycee = MultiStream(interval, LYCEE, LayerList([]), LinkList([]))\n",
    "liste, liste2 = readNodes(Lycee, [\"face_to_face\", \"facebook\", \"friendship\"])\n",
    "ti, ni = readLinks(Lycee, liste)\n",
    "readLinks2(Lycee, liste, liste2)   # read facebook links\n",
    "readLinks3(Lycee, liste, liste2)   # read friendship links"
   ]
  },
  {
   "cell_type": "markdown",
   "metadata": {},
   "source": [
    "## Various types of layer definitions"
   ]
  },
  {
   "cell_type": "code",
   "execution_count": 3,
   "metadata": {},
   "outputs": [],
   "source": [
    "_math_physics = layerWithCommonPoint(LYCEE, \"annee\", \"MP\")\n",
    "MathPhysics = Lycee.extractLayers(_math_physics)\n",
    "\n",
    "_girls, _boys = [layerWithCommonPoint(LYCEE, 'sexe', sexe) for sexe in ['F', 'M']]\n",
    "Girls   = Lycee.extractLayers(_girls)\n",
    "Boys    = Lycee.extractLayers(_boys)\n",
    "UniSex  = Lycee.interLayers(_girls, _boys)\n",
    "\n",
    "_f2f = layerWithCommonPoint(LYCEE, \"typeOfRel\", \"face_to_face\")  # face to face layer\n",
    "F2F     = Lycee.extractLayers(_f2f)"
   ]
  },
  {
   "cell_type": "markdown",
   "metadata": {},
   "source": [
    "## Cut the Multi-layer stream graph (MLSG) in a window of time"
   ]
  },
  {
   "cell_type": "code",
   "execution_count": 4,
   "metadata": {},
   "outputs": [
    {
     "data": {
      "image/png": "[encoded data removed]",
      "text/plain": [
       "<IPython.core.display.Image object>"
      ]
     },
     "metadata": {},
     "output_type": "display_data"
    },
    {
     "data": {
      "text/html": [
       "<a href='outputs/mp_girls.png' target='_blank'>outputs/mp_girls.png</a><br>"
      ],
      "text/plain": [
       "/Users/wakita/Dropbox/projects/mxvis/mx-streams/src/outputs/mp_girls.png"
      ]
     },
     "metadata": {},
     "output_type": "display_data"
    },
    {
     "data": {
      "image/png": "[encoded data removed]",
      "text/plain": [
       "<IPython.core.display.Image object>"
      ]
     },
     "metadata": {},
     "output_type": "display_data"
    },
    {
     "data": {
      "text/html": [
       "<a href='outputs/mp_girls_ordonne.png' target='_blank'>outputs/mp_girls_ordonne.png</a><br>"
      ],
      "text/plain": [
       "/Users/wakita/Dropbox/projects/mxvis/mx-streams/src/outputs/mp_girls_ordonne.png"
      ]
     },
     "metadata": {},
     "output_type": "display_data"
    }
   ],
   "source": [
    "# Face to face relationship among girls taking Math & Physics during the period [0, 40]\n",
    "layers1 = Lycee.cut(Interval(0, 40)).extractLayers(_math_physics).extractLayers(_girls).extractLayers(_f2f)\n",
    "\n",
    "nbtool.drawMS(layers1, name='mp_girls', show=True)\n",
    "nbtool.drawMS(layers1, name='mp_girls_ordonne', show=True, ordonne=True)"
   ]
  },
  {
   "cell_type": "markdown",
   "metadata": {},
   "source": [
    "## Bug\n",
    "\n",
    "`mp_firls_ordonne.fig` is a bit broken.  Somehow when `ordonne=True` is specified the drawMS seem to resets the interval.  This is not the case with Pimprenelle's original implementation.  I think this is due to inappropriate implicit reference of a global variable in my implementation."
   ]
  },
  {
   "cell_type": "code",
   "execution_count": null,
   "metadata": {},
   "outputs": [],
   "source": []
  }
 ],
 "metadata": {
  "kernelspec": {
   "display_name": "Python 3",
   "language": "python",
   "name": "python3"
  },
  "language_info": {
   "codemirror_mode": {
    "name": "ipython",
    "version": 3
   },
   "file_extension": ".py",
   "mimetype": "text/x-python",
   "name": "python",
   "nbconvert_exporter": "python",
   "pygments_lexer": "ipython3",
   "version": "3.7.6"
  }
 },
 "nbformat": 4,
 "nbformat_minor": 4
}
