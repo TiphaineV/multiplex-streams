{
 "cells": [
  {
   "cell_type": "markdown",
   "metadata": {},
   "source": [
    "A _multiplex stream graph_ $M = (T,T_M,V,W_M,E_M,{\\cal L})$\n",
    "\n",
    "- $T$ is an interval\n",
    "- $T_M$ is a set of intervals\n",
    "- $V$ is a set of nodes\n",
    "- $W_M$ is a set of (t,u,\\alpha_1,...,\\alpha_d)\n",
    "- $E_M$ is a set of (t,u,\\alpha_1,...,\\alpha_d, v,\\beta_1,...,\\beta_d)\n",
    "- ${\\cal L}$ is a set of aspects, containing elementary layers.\n"
   ]
  },
  {
   "cell_type": "markdown",
   "metadata": {},
   "source": [
    "We begin by constructing \"interval\" object."
   ]
  },
  {
   "cell_type": "code",
   "execution_count": null,
   "metadata": {
    "collapsed": true
   },
   "outputs": [],
   "source": []
  },
  {
   "cell_type": "code",
   "execution_count": 148,
   "metadata": {},
   "outputs": [
    {
     "name": "stdout",
     "output_type": "stream",
     "text": [
      "[0,10]\n"
     ]
    }
   ],
   "source": [
    "class Interval :\n",
    "    def __init__(self,t1,t2):\n",
    "        self.t1 = t1\n",
    "        self.t2 = t2\n",
    "    \n",
    "    def isIn(self,x):\n",
    "        if x >= (self.t1) and x <= (self.t2) :\n",
    "            return True\n",
    "        else :\n",
    "            return False\n",
    "    \n",
    "    def length(self):\n",
    "        return (self.t2-self.t1)\n",
    "    def begining(self):\n",
    "        return(self.t1)\n",
    "    def end(self):\n",
    "        return(self.t2)\n",
    "    def intersect(self,int2):\n",
    "        if self.isIn(int2.begining()) or self.isIn(int2.end()) :\n",
    "            return(True)\n",
    "        elif int2.isIn(self.begining()) or int2.isIn(self.end()):\n",
    "            return(True)\n",
    "        else :\n",
    "            return(False)\n",
    "    def union(self,int2):#a n'appliquer que dans le cas ou deux intervalles sont connexes\n",
    "        return(Interval(min(self.begining(),int2.begining()),max(self.end(),int2.end())))\n",
    "    def intervalToString(self):\n",
    "        return(\"[\"+str(self.t1)+\",\"+str(self.t2)+\"]\")\n",
    "\n",
    "int1 = Interval(0,10)\n",
    "int2 = Interval(11,15)\n",
    "print(int1.intervalToString())"
   ]
  },
  {
   "cell_type": "code",
   "execution_count": 149,
   "metadata": {
    "collapsed": true
   },
   "outputs": [],
   "source": [
    "class Layers :\n",
    "    def __init__(self,listAspect):\n",
    "        self.aspects=listAspects;\n",
    "    def __init__(self):\n",
    "        self.aspects=[]\n",
    "        "
   ]
  },
  {
   "cell_type": "code",
   "execution_count": 150,
   "metadata": {
    "collapsed": true
   },
   "outputs": [],
   "source": [
    "class Aspect : \n",
    "    def __init__(self,name,elemLayer):\n",
    "        self.name=name\n",
    "        self.elemLayer = elemLayer\n",
    "        \n",
    "    def printNameAspect(self):\n",
    "        print(name)\n",
    "    def listElemLayer(self):\n",
    "        return(elemLayer)"
   ]
  },
  {
   "cell_type": "code",
   "execution_count": 151,
   "metadata": {},
   "outputs": [
    {
     "name": "stdout",
     "output_type": "stream",
     "text": [
      "nlt--> node: noeud layer : layer1 LT: [0,10]\n",
      "<__main__.Interval object at 0x0000024DAC645C88> inter2\n",
      "1 len intervals\n",
      "[9,12]\n",
      "addtime ?\n",
      "nlt--> node: noeud layer : layer1 LT: [0,12]\n"
     ]
    }
   ],
   "source": [
    "class NodeLayerT :\n",
    "    def __init__(self,node,layer,LT):\n",
    "        self.node=node\n",
    "        self.layer=layer\n",
    "        self.LT=LT #LT is a list of intervals\n",
    "    \n",
    "    def presentAtt(self,t):\n",
    "        for T in self.LT :\n",
    "            if T.isIn(t):\n",
    "                return(True)\n",
    "        return(False)\n",
    "    def issamenodelayer(self,nodelayert):\n",
    "        if self.node == nodelayert.node :\n",
    "            if self.layer == nodelayert.layer:\n",
    "                return(True)\n",
    "            return(False)\n",
    "        return(False)\n",
    "    def addtime(self,intervals):\n",
    "        for inter2 in intervals:\n",
    "            included=False\n",
    "            for i in intervals:\n",
    "                print(i.intervalToString())\n",
    "            for inter1 in range(len(self.LT)):\n",
    "                if inter2.intersect(self.LT[inter1]):\n",
    "                    self.LT[inter1] = (self.LT[inter1]).union(inter2)\n",
    "                    included = True\n",
    "            if included == False :\n",
    "                self.LT.append(inter2)\n",
    "    def givetimes(self):\n",
    "        return(self.LT)\n",
    "    def printnlt(self):\n",
    "        strLT=\"\"\n",
    "        for i in range(len(self.LT)):\n",
    "            strLT+=self.LT[i].intervalToString()\n",
    "        print(\"nlt-->\",\"node:\",self.node,\"layer :\",self.layer,\"LT:\", strLT )\n",
    "        \n",
    "i1=Interval(0,10)\n",
    "i2=Interval(9,12)\n",
    "tnl=NodeLayerT(\"noeud\",\"layer1\",[i1])\n",
    "tnl.printnlt()\n",
    "tnl.addtime([i2])\n",
    "tnl.printnlt()"
   ]
  },
  {
   "cell_type": "code",
   "execution_count": null,
   "metadata": {
    "collapsed": true
   },
   "outputs": [],
   "source": []
  },
  {
   "cell_type": "code",
   "execution_count": 152,
   "metadata": {},
   "outputs": [],
   "source": [
    "class MultiStream :\n",
    "    \n",
    "    def __init__(self,T,TM,V,WM,EM,L):\n",
    "        self.T=T\n",
    "        self.TM=TM\n",
    "        self.V=V\n",
    "        self.WM=WM\n",
    "        self.EM=EM\n",
    "        self.L=L\n",
    "    def interval(self):\n",
    "        return(self.T)\n",
    "    def addtNodeLayer(self, nodelayert): #quand on rajoute un t-node-layer, soit il existe déjà à d'autres temps donc on fusionne les intervalles d'existence, soit on le rajoute avec ses intervalles\n",
    "        if len(self.WM)==0:\n",
    "            self.WM.append(nodelayert)\n",
    "        else:\n",
    "            for inlt in range(len(self.WM)) :\n",
    "                if self.WM[inlt].issamenodelayer(nodelayert):\n",
    "                    self.WM[inlt]=(self.WM[inlt]).addtime(nodelayert.givetimes())\n",
    "                else :\n",
    "                    self.WM.append(nodelayert)\n",
    "    "
   ]
  },
  {
   "cell_type": "code",
   "execution_count": 154,
   "metadata": {},
   "outputs": [
    {
     "name": "stdout",
     "output_type": "stream",
     "text": [
      "False\n",
      "<__main__.Interval object at 0x0000024DAC5BF898> inter2\n",
      "1 len intervals\n",
      "[11,12]\n",
      "addtime ?\n",
      "nlt--> node: noeud layer : layer1 LT: [0,10][11,12]\n",
      "nlkdjrsd\n",
      "nodelau\n",
      "1 len\n",
      "boucle\n",
      "i 0\n",
      "self.WM[inlt] True\n",
      "2 AAAAAAAAAAAAAAAAAAAAAAAA\n",
      "<__main__.Interval object at 0x0000024DAC5987B8> inter2\n",
      "2 len intervals\n",
      "[0,10]\n",
      "[11,12]\n",
      "addtime ?\n",
      "addtime ?\n",
      "<__main__.Interval object at 0x0000024DAC5BF898> inter2\n",
      "2 len intervals\n",
      "[0,10]\n",
      "[11,12]\n",
      "addtime ?\n",
      "addtime ?\n",
      "end\n"
     ]
    }
   ],
   "source": [
    "i1=Interval(0,10)\n",
    "i2=Interval(11,12)\n",
    "print(i2.intersect(i1))\n",
    "tnl=NodeLayerT(\"noeud\",\"layer1\",[i1])\n",
    "tnl.addtime([i2])\n",
    "tnl.printnlt()\n",
    "L=Layers()\n",
    "ms=MultiStream(i1,[i1],[\"noeud\"],[tnl],[],L)\n",
    "print(\"nlkdjrsd\")\n",
    "ms.addtNodeLayer(tnl)\n",
    "\n",
    "print(\"end\")"
   ]
  },
  {
   "cell_type": "code",
   "execution_count": null,
   "metadata": {
    "collapsed": true
   },
   "outputs": [],
   "source": []
  }
 ],
 "metadata": {
  "kernelspec": {
   "display_name": "Python 3",
   "language": "python",
   "name": "python3"
  },
  "language_info": {
   "codemirror_mode": {
    "name": "ipython",
    "version": 3
   },
   "file_extension": ".py",
   "mimetype": "text/x-python",
   "name": "python",
   "nbconvert_exporter": "python",
   "pygments_lexer": "ipython3",
   "version": "3.6.3"
  }
 },
 "nbformat": 4,
 "nbformat_minor": 2
}
